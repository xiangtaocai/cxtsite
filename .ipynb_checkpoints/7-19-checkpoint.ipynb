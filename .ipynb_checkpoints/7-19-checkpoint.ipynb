{
 "cells": [
  {
   "cell_type": "markdown",
   "metadata": {},
   "source": []
  },
  {
   "cell_type": "code",
   "execution_count": null,
   "metadata": {
    "collapsed": true
   },
   "outputs": [],
   "source": [
    "\n",
    "#python基础\n",
    "##python概述\n",
    "-计算机语言概述\n",
    "    -语言：\n",
    "    -计算机语言：人机交流\n",
    "    -pyhon是计算机语言的一种编程语言\n",
    "        -代码：人机交流\n",
    "        -解释器：就是担任翻译\n",
    "        -流程\n",
    "            -写代码\n",
    "            -执行由翻译官执行code给机器，返回结果\n",
    "    -Python读音问题\n",
    "        -Python简史\n",
    "        -2008年python3.0诞生\n",
    "        -2017年AI崛起，Python崛起\n",
    "        -shell以前用做运维\n",
    "        -特点\n",
    "            -速度问题Python比Java慢20倍\n",
    "            -语言的选择，Python\n",
    "     -Python的应用领域\n",
    "         -全能\n",
    "         -设计哲学：平衡发展，简洁\n",
    "     -环境问题：\n",
    "         -ananconda+pycharm\n",
    "         -python3.6\n",
    "         -教科书gitbook,讲义github\n",
    "         -环境安装：\n",
    "             -windows\n",
    "             -linux\n",
    "             -macox\n",
    "             -我们需要windows下开虚拟机，开Ubuntu\n",
    "     -软件环境\n",
    "         -不使用解释器\n",
    "         -anaconda+pycharm\n",
    "     -Python的执行方式\n",
    "         -一堆命令的集合\n",
    "         -逐条执行，遇到问题就停下来\n",
    "         -"
   ]
  },
  {
   "cell_type": "code",
   "execution_count": 2,
   "metadata": {},
   "outputs": [
    {
     "name": "stdout",
     "output_type": "stream",
     "text": [
      "hello world\n"
     ]
    }
   ],
   "source": [
    "print(\"hello world\")"
   ]
  },
  {
   "cell_type": "code",
   "execution_count": 3,
   "metadata": {},
   "outputs": [
    {
     "name": "stdout",
     "output_type": "stream",
     "text": [
      "9\n"
     ]
    }
   ],
   "source": [
    "print(4+5)"
   ]
  },
  {
   "cell_type": "code",
   "execution_count": 5,
   "metadata": {},
   "outputs": [
    {
     "name": "stdout",
     "output_type": "stream",
     "text": [
      "图灵学院\n"
     ]
    }
   ],
   "source": [
    "print(\"图灵学院\")"
   ]
  },
  {
   "cell_type": "code",
   "execution_count": 8,
   "metadata": {},
   "outputs": [
    {
     "name": "stdout",
     "output_type": "stream",
     "text": [
      "hello world\n"
     ]
    }
   ],
   "source": [
    "#代码的作用\n",
    "#给你和机器看，注释给人看，\n",
    "#行注释，以#号开头，可以单独也可以代码后面\n",
    "#块注释\n",
    "'''\n",
    "任何东西\n",
    "'''\n",
    "\n",
    "\n",
    "\n",
    "print(\"hello world\")"
   ]
  },
  {
   "cell_type": "markdown",
   "metadata": {},
   "source": [
    "#变量\n",
    "变量名\n",
    "-程序=数据结构+算法\n",
    "-变量名数字，大小写字母，下划线等\n",
    "-数字不能打头\n",
    "-以下划线开头的具有特殊含义，不建议使用\n",
    "    -大小写敏感，Format和format不一样\n",
    "    -推荐使用英文单词或者缩写\n",
    "    -一般以posix命名规则\n",
    "    -驼峰命名法\n",
    "        -大驼峰\n",
    "            -每个单词第一个字母大写MyFirstLove\n",
    "        -小驼峰\n",
    "            -类似小驼峰，但第一个字母大写myFirstLove\n",
    "     -posix写法\n",
    "         -多个小写单词以下划线链接，my_first_love\n",
    "#保留字和关键字\n",
    "    -必须避开保留字和关键字\n",
    "    -查看\n",
    "        -import keyworld\n",
    "   \n"
   ]
  },
  {
   "cell_type": "code",
   "execution_count": 11,
   "metadata": {},
   "outputs": [
    {
     "name": "stdout",
     "output_type": "stream",
     "text": [
      "['False', 'None', 'True', 'and', 'as', 'assert', 'break', 'class', 'continue', 'def', 'del', 'elif', 'else', 'except', 'finally', 'for', 'from', 'global', 'if', 'import', 'in', 'is', 'lambda', 'nonlocal', 'not', 'or', 'pass', 'raise', 'return', 'try', 'while', 'with', 'yield']\n"
     ]
    }
   ],
   "source": [
    "print(keyword.kwlist)"
   ]
  },
  {
   "cell_type": "markdown",
   "metadata": {},
   "source": [
    "##变量的声明\n",
    "-var_name = var_value\n",
    "-var1=var2=var3=var4\n"
   ]
  },
  {
   "cell_type": "code",
   "execution_count": 12,
   "metadata": {},
   "outputs": [
    {
     "name": "stdout",
     "output_type": "stream",
     "text": [
      "18\n",
      "18\n"
     ]
    }
   ],
   "source": [
    "age1=age2=age3=18\n",
    "print(age1)\n",
    "print(age2)"
   ]
  },
  {
   "cell_type": "markdown",
   "metadata": {},
   "source": [
    "##变量的类型\n",
    "-数字num\n",
    "-字符串str\n",
    "-列表list\n",
    "-元组tuple\n",
    "-字典Dictionary\n",
    "-集合set"
   ]
  },
  {
   "cell_type": "markdown",
   "metadata": {},
   "source": [
    "##数字类型\n",
    "    -整数\n",
    "    -自然数0负自然数\n",
    "    -整数分进制\n",
    "        -二进制\n",
    "            -计算机唯一能直接理解的数字，0b开头的0,1\n",
    "        -八进制\n",
    "            -以0o开头\n",
    "        -十进制\n",
    "        -十六进制\n",
    "            -逢十六进一，每四位二级制表示一位十六进制\n",
    "            -以0x表示\n",
    "    "
   ]
  },
  {
   "cell_type": "code",
   "execution_count": 17,
   "metadata": {},
   "outputs": [
    {
     "name": "stdout",
     "output_type": "stream",
     "text": [
      "19\n",
      "19\n",
      "19\n",
      "19\n"
     ]
    }
   ],
   "source": [
    "age1=19\n",
    "age2=0b10011\n",
    "age3=0o23\n",
    "age4=0x13\n",
    "print(age1)\n",
    "print(age2)\n",
    "print(age3)\n",
    "print(age4)"
   ]
  },
  {
   "cell_type": "markdown",
   "metadata": {},
   "source": [
    "#浮点数\n",
    "    -小数\n",
    "    -计算机表示浮点数可以有条件省略\n",
    "        -3.1415926\n",
    "        -3.\n",
    "        -.3\n",
    "    -科学计数法\n",
    "        -写法用e/E后面跟10的整数\n",
    "        -180.23=1.8023e2\n",
    "        -0.0026=2.6e-3"
   ]
  },
  {
   "cell_type": "markdown",
   "metadata": {},
   "source": [
    "#复数\n",
    "    -实部和虚部\n",
    "    -虚部用j/J表示\n",
    "    -5+3j\n",
    "#布尔值\n",
    "    -表示真假\n",
    "    -只有两个值，True/False(首字母大写）\n",
    "    -布尔值可以跟数字直接操作\n",
    "    "
   ]
  },
  {
   "cell_type": "code",
   "execution_count": 22,
   "metadata": {},
   "outputs": [
    {
     "name": "stdout",
     "output_type": "stream",
     "text": [
      "19\n"
     ]
    }
   ],
   "source": [
    "age=18+True\n",
    "print(age)"
   ]
  },
  {
   "cell_type": "markdown",
   "metadata": {},
   "source": [
    "#字符串\n",
    "    -用来表示文字信息\n",
    "    -如何表示\n",
    "        -单引号\n",
    "        -双引号\n",
    "        \n",
    "        -三引号（三单引号和三双引号）\n",
    "            -能够表示多行信息，\n",
    "    -作用\n",
    "        -单双引号交错使用比较重要\n",
    "        "
   ]
  },
  {
   "cell_type": "code",
   "execution_count": null,
   "metadata": {
    "collapsed": true
   },
   "outputs": [],
   "source": []
  },
  {
   "cell_type": "code",
   "execution_count": null,
   "metadata": {
    "collapsed": true
   },
   "outputs": [],
   "source": []
  },
  {
   "cell_type": "code",
   "execution_count": null,
   "metadata": {
    "collapsed": true
   },
   "outputs": [],
   "source": []
  },
  {
   "cell_type": "code",
   "execution_count": null,
   "metadata": {
    "collapsed": true
   },
   "outputs": [],
   "source": []
  },
  {
   "cell_type": "code",
   "execution_count": null,
   "metadata": {
    "collapsed": true
   },
   "outputs": [],
   "source": []
  },
  {
   "cell_type": "code",
   "execution_count": null,
   "metadata": {
    "collapsed": true
   },
   "outputs": [],
   "source": []
  }
 ],
 "metadata": {
  "kernelspec": {
   "display_name": "Python 3",
   "language": "python",
   "name": "python3"
  },
  "language_info": {
   "codemirror_mode": {
    "name": "ipython",
    "version": 3
   },
   "file_extension": ".py",
   "mimetype": "text/x-python",
   "name": "python",
   "nbconvert_exporter": "python",
   "pygments_lexer": "ipython3",
   "version": "3.6.3"
  }
 },
 "nbformat": 4,
 "nbformat_minor": 2
}
