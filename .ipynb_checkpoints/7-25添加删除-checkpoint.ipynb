{
 "cells": [
  {
   "cell_type": "code",
   "execution_count": 7,
   "metadata": {},
   "outputs": [
    {
     "name": "stdout",
     "output_type": "stream",
     "text": [
      "Wangyan welcome to dinner together with me\n",
      "Xiuqin welcome to dinner together with me\n",
      "Xiaxia welcome to dinner together with me\n",
      "Nana welcome to dinner together with me\n"
     ]
    }
   ],
   "source": [
    "inventer_list = ['wangyan ','xiuqin ','xiaxia ','nana ']\n",
    "print(inventer_list[0].title()  + 'welcome to dinner together with me')\n",
    "print(inventer_list[1].title()  + 'welcome to dinner together with me')\n",
    "print(inventer_list[2].title()  + 'welcome to dinner together with me')\n",
    "print(inventer_list[3].title()  + 'welcome to dinner together with me')"
   ]
  },
  {
   "cell_type": "code",
   "execution_count": 39,
   "metadata": {},
   "outputs": [
    {
     "name": "stdout",
     "output_type": "stream",
     "text": [
      "Guido Van Rossum, please come to dinner.\n",
      "Jack Turner, please come to dinner.\n",
      "Lynn Hill, please come to dinner.\n"
     ]
    }
   ],
   "source": [
    "guests = ['guido van rossum', 'jack turner', 'lynn hill']\n",
    "\n",
    "name = guests[0].title()\n",
    "print(name + \", please come to dinner.\")\n",
    "\n",
    "name = guests[1].title()\n",
    "print(name + \", please come to dinner.\")\n",
    "\n",
    "name = guests[2].title()\n",
    "print(name + \", please come to dinner.\")\n"
   ]
  },
  {
   "cell_type": "code",
   "execution_count": 15,
   "metadata": {},
   "outputs": [
    {
     "name": "stdout",
     "output_type": "stream",
     "text": [
      "['wangyan ', 'xiuqin ', 'xiaxia ', 'nana ']\n",
      "Nana jia zhong you shi.\n",
      "Wangyan welcome to dinner together with me.\n",
      "Xiuqin welcome to dinner together with me.\n",
      "Xiaxia welcome to dinner together with me.\n",
      "Feifei welcome to dinner together with me.\n"
     ]
    }
   ],
   "source": [
    "inventer_list = ['wangyan ','xiuqin ','xiaxia ','nana ']\n",
    "print(inventer_list)\n",
    "un_pep = 'nana '\n",
    "inventer_list.remove('nana ')\n",
    "print(un_pep.title() + 'jia zhong you shi.')\n",
    "inventer_list.append('feifei ')\n",
    "for names in inventer_list:\n",
    "    msg = names.title() +'welcome to dinner together with me.'\n",
    "    print(msg)\n"
   ]
  },
  {
   "cell_type": "code",
   "execution_count": 42,
   "metadata": {},
   "outputs": [
    {
     "name": "stdout",
     "output_type": "stream",
     "text": [
      "Guido Van Rossum, please come to dinner.\n",
      "Jack Turner, please come to dinner.\n",
      "Lynn Hill, please come to dinner.\n",
      "\n",
      "Sorry, Jack Turner can't make it to dinner.\n",
      "\n",
      "Guido Van Rossum, please come to dinner.\n",
      "Gary Snyder, please come to dinner.\n",
      "Lynn Hill, please come to dinner.\n",
      "\n",
      "We got a bigger table!\n",
      "Frida Kahlo, please come to dinner.\n",
      "Guido Van Rossum, please come to dinner.\n",
      "Reinhold Messner, please come to dinner.\n",
      "Gary Snyder, please come to dinner.\n",
      "Lynn Hill, please come to dinner.\n",
      "Elizabeth Peratrovich, please come to dinner.\n"
     ]
    }
   ],
   "source": [
    "# Invite some people to dinner.\n",
    "guests = ['guido van rossum', 'jack turner', 'lynn hill']\n",
    "\n",
    "name = guests[0].title()\n",
    "print(name + \", please come to dinner.\")\n",
    "\n",
    "name = guests[1].title()\n",
    "print(name + \", please come to dinner.\")\n",
    "\n",
    "name = guests[2].title()\n",
    "print(name + \", please come to dinner.\")\n",
    "\n",
    "name = guests[1].title()\n",
    "print(\"\\nSorry, \" + name + \" can't make it to dinner.\")\n",
    "\n",
    "# Jack can't make it! Let's invite Gary instead.\n",
    "del guests[1]\n",
    "guests.insert(1, 'gary snyder')\n",
    "\n",
    "# Print the invitations again.\n",
    "name = guests[0].title()\n",
    "print(\"\\n\" + name + \", please come to dinner.\")\n",
    "\n",
    "name = guests[1].title()\n",
    "print(name + \", please come to dinner.\")\n",
    "\n",
    "name = guests[2].title()\n",
    "print(name + \", please come to dinner.\")\n",
    "# We got a bigger table, so let's add some more people to the list.\n",
    "print(\"\\nWe got a bigger table!\")\n",
    "guests.insert(0, 'frida kahlo')\n",
    "guests.insert(2, 'reinhold messner')\n",
    "guests.append('elizabeth peratrovich')\n",
    "\n",
    "name = guests[0].title()\n",
    "print(name + \", please come to dinner.\")\n",
    "\n",
    "name = guests[1].title()\n",
    "print(name + \", please come to dinner.\")\n",
    "\n",
    "name = guests[2].title()\n",
    "print(name + \", please come to dinner.\")\n",
    "\n",
    "name = guests[3].title()\n",
    "print(name + \", please come to dinner.\")\n",
    "\n",
    "name = guests[4].title()\n",
    "print(name + \", please come to dinner.\")\n",
    "\n",
    "name = guests[5].title()\n",
    "print(name + \", please come to dinner.\")\n",
    "# Oh no, the table won't arrive on time!\n",
    "print(\"\\nSorry, we can only invite two people to dinner.\")\n",
    "\n",
    "name = guests.pop()\n",
    "print(\"Sorry, \" + name.title() + \" there's no room at the table.\")\n",
    "\n",
    "name = guests.pop()\n",
    "print(\"Sorry, \" + name.title() + \" there's no room at the table.\")\n",
    "\n",
    "name = guests.pop()\n",
    "print(\"Sorry, \" + name.title() + \" there's no room at the table.\")\n",
    "\n",
    "name = guests.pop()\n",
    "print(\"Sorry, \" + name.title() + \" there's no room at the table.\")\n",
    "\n",
    "# There should be two people left. Let's invite them.\n",
    "name = guests[0].title()\n",
    "print(name + \", please come to dinner.\")\n",
    "\n",
    "name = guests[1].title()\n",
    "print(name + \", please come to dinner.\")\n",
    "\n",
    "# Empty out the list.\n",
    "del(guests[0])\n",
    "del(guests[0])\n",
    "\n",
    "# Prove the list is empty.\n",
    "print(guests)\n"
   ]
  },
  {
   "cell_type": "code",
   "execution_count": 24,
   "metadata": {},
   "outputs": [
    {
     "name": "stdout",
     "output_type": "stream",
     "text": [
      "['wangyan ', 'xiuqin ', 'xiaxia ', 'nana ']\n",
      "Nana jia zhong you shi.\n",
      "I notice a table for more people\n",
      "Guoguo it's up to you!\n",
      "['guoguo ', 'wangyan ', 'mumu ', 'xiuqin ', 'xiaxia ', 'feifei ', 'dongdong ']\n",
      "Guoguo welcome to dinner together with me.\n",
      "Wangyan welcome to dinner together with me.\n",
      "Mumu welcome to dinner together with me.\n",
      "Xiuqin welcome to dinner together with me.\n",
      "Xiaxia welcome to dinner together with me.\n",
      "Feifei welcome to dinner together with me.\n",
      "Dongdong welcome to dinner together with me.\n"
     ]
    }
   ],
   "source": [
    "inventer_list = ['wangyan ','xiuqin ','xiaxia ','nana ']\n",
    "print(inventer_list)\n",
    "un_pep = 'nana '\n",
    "inventer_list.remove('nana ')\n",
    "print(un_pep.title() + 'jia zhong you shi.')\n",
    "inventer_list.append('feifei ')\n",
    "\n",
    "\n",
    "print('I notice a table for more people' )\n",
    "inventer_list.insert(0,'guoguo ')\n",
    "print(inventer_list[0].title() + \"it's up to you!\")\n",
    "inventer_list.insert(2,'mumu ')\n",
    "inventer_list.append('dongdong ')\n",
    "print(inventer_list)\n",
    "for names in inventer_list:\n",
    "    msg = names.title() +'welcome to dinner together with me.'\n",
    "    print(msg)"
   ]
  },
  {
   "cell_type": "code",
   "execution_count": 44,
   "metadata": {},
   "outputs": [
    {
     "name": "stdout",
     "output_type": "stream",
     "text": [
      "I am so sorry, i have to two friends getting dinner with me.\n",
      "dongdong sorry.\n",
      "guoguo sorry.\n",
      "mumu sorry.\n",
      "xiuqin sorry.\n",
      "feifei sorry.\n",
      "Wangyan zan men ju\n",
      "Xiaxia zan men ju\n",
      "[]\n"
     ]
    }
   ],
   "source": [
    "inventer_list = ['guoguo ', 'wangyan ', 'mumu ', 'xiuqin ',\n",
    "                 'xiaxia ', 'feifei ', 'dongdong ']\n",
    "print('I am so sorry, i have to invite two friends getting dinner with me.' )\n",
    "popped_friend = inventer_list.pop()\n",
    "print(popped_friend  + 'sorry.')\n",
    "popped_friend = inventer_list.pop(0)\n",
    "print(popped_friend  + 'sorry.')\n",
    "popped_friend = inventer_list.pop(1)\n",
    "print(popped_friend + 'sorry.')\n",
    "popped_friend = inventer_list.pop(1)\n",
    "print(popped_friend  + 'sorry.')\n",
    "popped_friend = inventer_list.pop(2)\n",
    "print(popped_friend  + 'sorry.')\n",
    "print(inventer_list[0].title() + 'zan men ju')\n",
    "print(inventer_list[1].title() + 'zan men ju')\n",
    "del inventer_list[0]\n",
    "del inventer_list[0]\n",
    "print(inventer_list)"
   ]
  },
  {
   "cell_type": "code",
   "execution_count": null,
   "metadata": {
    "collapsed": true
   },
   "outputs": [],
   "source": []
  }
 ],
 "metadata": {
  "kernelspec": {
   "display_name": "Python 3",
   "language": "python",
   "name": "python3"
  },
  "language_info": {
   "codemirror_mode": {
    "name": "ipython",
    "version": 3
   },
   "file_extension": ".py",
   "mimetype": "text/x-python",
   "name": "python",
   "nbconvert_exporter": "python",
   "pygments_lexer": "ipython3",
   "version": "3.6.3"
  }
 },
 "nbformat": 4,
 "nbformat_minor": 2
}
