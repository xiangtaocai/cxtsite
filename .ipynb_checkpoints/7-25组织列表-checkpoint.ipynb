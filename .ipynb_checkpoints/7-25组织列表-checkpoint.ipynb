{
 "cells": [
  {
   "cell_type": "code",
   "execution_count": 20,
   "metadata": {},
   "outputs": [
    {
     "name": "stdout",
     "output_type": "stream",
     "text": [
      "Here is the original list:\n",
      "['bmw', 'audi', 'toyota', 'subaru']\n",
      "\n",
      "Here is the sort list\n",
      "['audi', 'bmw', 'subaru', 'toyota']\n",
      "sort again\n",
      "['audi', 'bmw', 'subaru', 'toyota']\n"
     ]
    }
   ],
   "source": [
    "#按照字母顺序永久排序.sort()\n",
    "\n",
    "cars = ['bmw', 'audi', 'toyota', 'subaru']\n",
    "print(\"Here is the original list:\")\n",
    "print(cars)\n",
    "print(\"\\nHere is the sort list\")\n",
    "cars.sort()\n",
    "print(cars)\n",
    "print('sort again')#不可逆转\n",
    "cars.sort()\n",
    "print(cars)\n"
   ]
  },
  {
   "cell_type": "code",
   "execution_count": 5,
   "metadata": {},
   "outputs": [
    {
     "name": "stdout",
     "output_type": "stream",
     "text": [
      "Here is the original list:\n",
      "['bmw', 'audi', 'toyota', 'subaru']\n",
      "\n",
      "Here is the sorted list\n",
      "['toyota', 'subaru', 'bmw', 'audi']\n"
     ]
    }
   ],
   "source": [
    "#按照字母倒着永久排序.sort(reverse=Ture)\n",
    "cars = ['bmw', 'audi', 'toyota', 'subaru']\n",
    "print(\"Here is the original list:\")\n",
    "print(cars)\n",
    "print(\"\\nHere is the sort list\")\n",
    "cars.sort(reverse=True)\n",
    "print(cars)"
   ]
  },
  {
   "cell_type": "code",
   "execution_count": 15,
   "metadata": {},
   "outputs": [
    {
     "name": "stdout",
     "output_type": "stream",
     "text": [
      "Here is the sorted list\n",
      "['audi', 'bmw', 'subaru', 'toyota']\n",
      "['bmw', 'audi', 'toyota', 'subaru']\n",
      "['toyota', 'subaru', 'bmw', 'audi']\n",
      "['bmw', 'audi', 'toyota', 'subaru']\n"
     ]
    }
   ],
   "source": [
    "#临时排序sorted\n",
    "cars = ['bmw', 'audi', 'toyota', 'subaru']\n",
    "print(\"Here is the sorted list\")\n",
    "print(sorted(cars))\n",
    "print(cars)\n",
    "print(sorted(cars,reverse=True))\n",
    "print(cars)"
   ]
  },
  {
   "cell_type": "code",
   "execution_count": 18,
   "metadata": {},
   "outputs": [
    {
     "name": "stdout",
     "output_type": "stream",
     "text": [
      "['bmw', 'audi', 'toyota', 'subaru']\n",
      "['subaru', 'toyota', 'audi', 'bmw']\n",
      "['bmw', 'audi', 'toyota', 'subaru']\n"
     ]
    },
    {
     "data": {
      "text/plain": [
       "4"
      ]
     },
     "execution_count": 18,
     "metadata": {},
     "output_type": "execute_result"
    }
   ],
   "source": [
    "cars = ['bmw','audi','toyota','subaru']\n",
    "print(cars)\n",
    "cars.reverse()#永久反转\n",
    "print(cars)\n",
    "cars.reverse()#永久在反转\n",
    "print(cars)\n",
    "len(cars)"
   ]
  },
  {
   "cell_type": "code",
   "execution_count": 33,
   "metadata": {},
   "outputs": [
    {
     "name": "stdout",
     "output_type": "stream",
     "text": [
      "[\"xi'an\", 'taiyuan', 'shenzhen', 'shanghai', 'beijing', 'guilin']\n",
      "['beijing', 'guilin', 'shanghai', 'shenzhen', 'taiyuan', \"xi'an\"]\n",
      "[\"xi'an\", 'taiyuan', 'shenzhen', 'shanghai', 'beijing', 'guilin']\n",
      "[\"xi'an\", 'taiyuan', 'shenzhen', 'shanghai', 'guilin', 'beijing']\n",
      "[\"xi'an\", 'taiyuan', 'shenzhen', 'shanghai', 'beijing', 'guilin']\n",
      "['guilin', 'beijing', 'shanghai', 'shenzhen', 'taiyuan', \"xi'an\"]\n",
      "[\"xi'an\", 'taiyuan', 'shenzhen', 'shanghai', 'beijing', 'guilin']\n",
      "['beijing', 'guilin', 'shanghai', 'shenzhen', 'taiyuan', \"xi'an\"]\n",
      "[\"xi'an\", 'taiyuan', 'shenzhen', 'shanghai', 'guilin', 'beijing']\n"
     ]
    },
    {
     "data": {
      "text/plain": [
       "6"
      ]
     },
     "execution_count": 33,
     "metadata": {},
     "output_type": "execute_result"
    }
   ],
   "source": [
    "tourist_attractions = ['xi\\'an','taiyuan','shenzhen','shanghai','beijing','guilin']\n",
    "print(tourist_attractions)\n",
    "print(sorted(tourist_attractions))\n",
    "print(tourist_attractions)\n",
    "print(sorted(tourist_attractions,reverse=True))\n",
    "print(tourist_attractions)\n",
    "tourist_attractions.reverse()\n",
    "print(tourist_attractions)\n",
    "tourist_attractions.reverse()\n",
    "print(tourist_attractions)\n",
    "tourist_attractions.sort()\n",
    "print(tourist_attractions)\n",
    "tourist_attractions.sort(reverse=True)\n",
    "print(tourist_attractions)\n",
    "len(tourist_attractions)#查找元素个数"
   ]
  },
  {
   "cell_type": "code",
   "execution_count": 36,
   "metadata": {},
   "outputs": [
    {
     "name": "stdout",
     "output_type": "stream",
     "text": [
      "guilin\n",
      "guilin\n"
     ]
    }
   ],
   "source": [
    "#使用列表避免索引错误\n",
    "tourist_attractions = ['xi\\'an','taiyuan','shenzhen','shanghai','beijing','guilin']\n",
    "i = len(tourist_attractions) - 1\n",
    "print(tourist_attractions[i])\n",
    "print(tourist_attractions[-1])"
   ]
  },
  {
   "cell_type": "code",
   "execution_count": null,
   "metadata": {
    "collapsed": true
   },
   "outputs": [],
   "source": []
  }
 ],
 "metadata": {
  "kernelspec": {
   "display_name": "Python 3",
   "language": "python",
   "name": "python3"
  },
  "language_info": {
   "codemirror_mode": {
    "name": "ipython",
    "version": 3
   },
   "file_extension": ".py",
   "mimetype": "text/x-python",
   "name": "python",
   "nbconvert_exporter": "python",
   "pygments_lexer": "ipython3",
   "version": "3.6.3"
  }
 },
 "nbformat": 4,
 "nbformat_minor": 2
}
