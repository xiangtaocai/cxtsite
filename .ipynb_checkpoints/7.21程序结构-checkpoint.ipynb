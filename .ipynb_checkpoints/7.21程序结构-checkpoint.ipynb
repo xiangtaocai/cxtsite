{
 "cells": [
  {
   "cell_type": "markdown",
   "metadata": {},
   "source": [
    "#分支\n",
    "    if 条件表达式:\n",
    "        语句块\n",
    "        \n",
    "        \n",
    "    -条件表达式计算结果必须是布尔值\n",
    "    -冒号不能少\n",
    "    -if空格加表达式\n",
    "    -注意后面的语句块，属于同一缩进等级\n",
    "    -ture执行后面的语句块\n",
    "   "
   ]
  },
  {
   "cell_type": "code",
   "execution_count": 10,
   "metadata": {},
   "outputs": [
    {
     "name": "stdout",
     "output_type": "stream",
     "text": [
      "上车\n"
     ]
    }
   ],
   "source": [
    "age=19\n",
    "if  age < 18:#冒号不能少\n",
    "    print(\"叫家长\")\n",
    "    print(\"不带你玩\")\n",
    "    print(\"滚蛋\")\n",
    "print(\"上车\")"
   ]
  },
  {
   "cell_type": "markdown",
   "metadata": {},
   "source": [
    "##双向分支\n",
    "#if...else...\n",
    "    if 条件表达式：\n",
    "        语句1\n",
    "        语句2\n",
    "        ...\n",
    "    else:\n",
    "        语句1\n",
    "        语句2\n",
    "        ....\n",
    "        \n",
    "        \n",
    "#if和else是一个层级，一定执行if和else中的一个\n"
   ]
  },
  {
   "cell_type": "code",
   "execution_count": 14,
   "metadata": {},
   "outputs": [
    {
     "name": "stdout",
     "output_type": "stream",
     "text": [
      "请输入性别：nv\n",
      "你输入的性别是：nv\n",
      "发糖喽\n",
      "shangke\n"
     ]
    }
   ],
   "source": [
    "#input的作用\n",
    "#1.在屏幕上输出括号内的字符串\n",
    "#2.接受用户输入的内容并返回程序\n",
    "#3.input返回的内容一定是字符串类型\n",
    "gender = input(\"请输入性别：\")\n",
    "print(\"你输入的性别是：{0}\".format(gender))\n",
    "if  gender == \"nan\":\n",
    "    print(\"我们纪念一下，代码qiaoshibian\")\n",
    "else:#else和if是一层\n",
    "    print(\"发糖喽\")\n",
    "        \n",
    "print(\"shangke\")\n",
    "        "
   ]
  },
  {
   "cell_type": "code",
   "execution_count": 15,
   "metadata": {},
   "outputs": [
    {
     "name": "stdout",
     "output_type": "stream",
     "text": [
      "输入成绩:98\n"
     ]
    },
    {
     "ename": "TypeError",
     "evalue": "'>' not supported between instances of 'str' and 'int'",
     "output_type": "error",
     "traceback": [
      "\u001b[0;31m---------------------------------------------------------------------------\u001b[0m",
      "\u001b[0;31mTypeError\u001b[0m                                 Traceback (most recent call last)",
      "\u001b[0;32m<ipython-input-15-28e6bcfe211d>\u001b[0m in \u001b[0;36m<module>\u001b[0;34m()\u001b[0m\n\u001b[1;32m      8\u001b[0m \u001b[0;31m#1，存放成绩\u001b[0m\u001b[0;34m\u001b[0m\u001b[0;34m\u001b[0m\u001b[0m\n\u001b[1;32m      9\u001b[0m \u001b[0mscore\u001b[0m \u001b[0;34m=\u001b[0m \u001b[0minput\u001b[0m\u001b[0;34m(\u001b[0m\u001b[0;34m\"输入成绩:\"\u001b[0m\u001b[0;34m)\u001b[0m\u001b[0;34m\u001b[0m\u001b[0m\n\u001b[0;32m---> 10\u001b[0;31m \u001b[0;32mif\u001b[0m \u001b[0mscore\u001b[0m\u001b[0;34m>\u001b[0m\u001b[0;36m90\u001b[0m\u001b[0;34m:\u001b[0m\u001b[0;34m\u001b[0m\u001b[0m\n\u001b[0m\u001b[1;32m     11\u001b[0m     \u001b[0mprint\u001b[0m\u001b[0;34m(\u001b[0m\u001b[0;34m\"优\"\u001b[0m\u001b[0;34m)\u001b[0m\u001b[0;34m\u001b[0m\u001b[0m\n\u001b[1;32m     12\u001b[0m \u001b[0;32mif\u001b[0m \u001b[0mscore\u001b[0m\u001b[0;34m>=\u001b[0m\u001b[0;36m80\u001b[0m\u001b[0;34m:\u001b[0m\u001b[0;34m\u001b[0m\u001b[0m\n",
      "\u001b[0;31mTypeError\u001b[0m: '>' not supported between instances of 'str' and 'int'"
     ]
    }
   ],
   "source": [
    "#考试成绩的判断\n",
    "#90以上，优\n",
    "#80-90，量\n",
    "#70-80，中\n",
    "#60-70，平\n",
    "#60一下，差\n",
    "#score\n",
    "#1，存放成绩\n",
    "score = input(\"输入成绩:\")\n",
    "if score>90:\n",
    "    print(\"优\")\n",
    "if score>=80:\n",
    "    print(\"良\")\n",
    "if score>=70:\n",
    "    print(\"中\")\n",
    "if score>=60:\n",
    "    print(\"平\")\n",
    "if score<60:\n",
    "    print(\"回家卖红薯\")\n",
    "    "
   ]
  },
  {
   "cell_type": "code",
   "execution_count": 22,
   "metadata": {},
   "outputs": [
    {
     "name": "stdout",
     "output_type": "stream",
     "text": [
      "输入成绩:59\n",
      "回家卖红薯\n"
     ]
    }
   ],
   "source": [
    "#注意input返回值的类型是字符串，与数字没法比较\n",
    "score = input(\"输入成绩:\")\n",
    "#需要吧str转化成int\n",
    "score = int(score)\n",
    "if score>=90:\n",
    "    print(\"优\")\n",
    "if  90>score>=80:\n",
    "    print(\"良\")\n",
    "if  80>score>=70:\n",
    "    print(\"中\")\n",
    "if  70>score>=60:\n",
    "    print(\"平\")\n",
    "if  score<60:\n",
    "    print(\"回家卖红薯\")\n",
    "    "
   ]
  },
  {
   "cell_type": "code",
   "execution_count": 27,
   "metadata": {},
   "outputs": [
    {
     "name": "stdout",
     "output_type": "stream",
     "text": [
      "输入成绩:79\n",
      "中\n"
     ]
    }
   ],
   "source": [
    "score = input(\"输入成绩:\")\n",
    "score = int(score)\n",
    "if  score>=90:\n",
    "    print(\"优\")\n",
    "if  score>=80 and score<90:\n",
    "    print(\"良\")\n",
    "if  score>=70 and score<80:\n",
    "    print(\"中\")\n",
    "if  score>=60 and score<70:\n",
    "    print(\"平\")\n",
    "if  score<60:\n",
    "    print(\"回家卖红薯\")\n",
    "    "
   ]
  },
  {
   "cell_type": "markdown",
   "metadata": {},
   "source": [
    "##多路分支\n",
    "if 条件语句：\n",
    "    语句1\n",
    "    语句2\n",
    "    ...\n",
    "   \n",
    "elif 条件表达式::\n",
    "    语句1 \n",
    "    语句2\n",
    "    ...\n",
    "elif 条件表达式:\n",
    "    语句1\n",
    "    语句2\n",
    "    ...\n",
    "    \n",
    "    \n",
    "...无数个\n",
    "else:\n",
    "    语句1 \n",
    "    语句2\n",
    "    ...\n",
    "    \n",
    "    \n",
    "    \n",
    "elif 可以有多个\n",
    "else可选\n",
    "多路分支只会选择一个执行"
   ]
  },
  {
   "cell_type": "code",
   "execution_count": 4,
   "metadata": {},
   "outputs": [
    {
     "name": "stdout",
     "output_type": "stream",
     "text": [
      "输入成绩:86\n",
      "良\n"
     ]
    }
   ],
   "source": [
    "score = input(\"输入成绩:\")\n",
    "score = int(score)\n",
    "if  score>=90:\n",
    "    print(\"优\")\n",
    "elif  score>=80:\n",
    "    print(\"良\")\n",
    "elif  score>=70:\n",
    "    print(\"中\")\n",
    "elif  score>=60:\n",
    "    print(\"平\")\n",
    "else:\n",
    "    print(\"回家卖红薯\")"
   ]
  },
  {
   "cell_type": "markdown",
   "metadata": {},
   "source": [
    "###if可以嵌套使用。\n",
    "#python中没有switch-case语句\n"
   ]
  },
  {
   "cell_type": "markdown",
   "metadata": {},
   "source": [
    "##循环语句\n",
    "-重复执行某些固定动作或者处理基本固定的事物\n",
    "-分类\n",
    "    -while和for"
   ]
  },
  {
   "cell_type": "markdown",
   "metadata": {},
   "source": [
    "for循环\n",
    "\n",
    "\n",
    "\n",
    "        for 变量 in 序列:\n",
    "            语句1\n",
    "            语句2\n",
    "            ...\n",
    "#列表：是一些列数字或者其他值，一般中括号表示\n",
    "#例如  [“张三”，“李四”，“王五”，\"王二麻子\"]"
   ]
  },
  {
   "cell_type": "code",
   "execution_count": 10,
   "metadata": {},
   "outputs": [
    {
     "name": "stdout",
     "output_type": "stream",
     "text": [
      "张三\n",
      "李四\n",
      "wangwu\n"
     ]
    }
   ],
   "source": [
    "for name in ['张三','李四','wangwu']:\n",
    "    print(name)"
   ]
  },
  {
   "cell_type": "code",
   "execution_count": 34,
   "metadata": {},
   "outputs": [
    {
     "name": "stdout",
     "output_type": "stream",
     "text": [
      "李四\n",
      "我爱李四\n"
     ]
    }
   ],
   "source": [
    "for name in ['张三','李四','wangwu']:\n",
    "    if name == '李四': \n",
    "        print(name)\n",
    "        s='我爱{0}'.format(name)\n",
    "        print(s)"
   ]
  },
  {
   "cell_type": "code",
   "execution_count": 1,
   "metadata": {},
   "outputs": [
    {
     "name": "stdout",
     "output_type": "stream",
     "text": [
      "I Love You\n"
     ]
    }
   ],
   "source": [
    "name = \"i love you\"\n",
    "print(name.title())"
   ]
  },
  {
   "cell_type": "code",
   "execution_count": 9,
   "metadata": {},
   "outputs": [
    {
     "name": "stdout",
     "output_type": "stream",
     "text": [
      "cai xiang tao\n"
     ]
    }
   ],
   "source": [
    "first_name = \"cai\"\n",
    "last_name = \"xiang tao\"\n",
    "full_name = first_name + \" \" +last_name\n",
    "print(full_name)"
   ]
  },
  {
   "cell_type": "code",
   "execution_count": 15,
   "metadata": {},
   "outputs": [
    {
     "name": "stdout",
     "output_type": "stream",
     "text": [
      "Hello,Cai Xiang Tao!\n"
     ]
    }
   ],
   "source": [
    "first_name = \"cai\"\n",
    "last_name = \"xiang tao\"\n",
    "full_name = first_name + \" \" +last_name\n",
    "message = \"Hello,\" + full_name.title() + \"!\"\n",
    "print(message)"
   ]
  },
  {
   "cell_type": "code",
   "execution_count": 19,
   "metadata": {},
   "outputs": [
    {
     "name": "stdout",
     "output_type": "stream",
     "text": [
      "\tpython\n"
     ]
    }
   ],
   "source": [
    "print(\"\\tpython\")"
   ]
  },
  {
   "cell_type": "code",
   "execution_count": 22,
   "metadata": {},
   "outputs": [
    {
     "name": "stdout",
     "output_type": "stream",
     "text": [
      "languages:\n",
      "\tpython\n",
      "\tC\n",
      "\tjavaScript\n"
     ]
    }
   ],
   "source": [
    "print(\"languages:\\n\\tpython\\n\\tC\\n\\tjavaScript\")"
   ]
  },
  {
   "cell_type": "code",
   "execution_count": 25,
   "metadata": {},
   "outputs": [
    {
     "ename": "NameError",
     "evalue": "name 'favarite_language' is not defined",
     "output_type": "error",
     "traceback": [
      "\u001b[0;31m---------------------------------------------------------------------------\u001b[0m",
      "\u001b[0;31mNameError\u001b[0m                                 Traceback (most recent call last)",
      "\u001b[0;32m<ipython-input-25-9453c6428b6d>\u001b[0m in \u001b[0;36m<module>\u001b[0;34m()\u001b[0m\n\u001b[1;32m      1\u001b[0m \u001b[0mfavorite_language\u001b[0m \u001b[0;34m=\u001b[0m \u001b[0;34m\"python \"\u001b[0m\u001b[0;34m\u001b[0m\u001b[0m\n\u001b[0;32m----> 2\u001b[0;31m \u001b[0mfavarite_language\u001b[0m\u001b[0;34m\u001b[0m\u001b[0m\n\u001b[0m",
      "\u001b[0;31mNameError\u001b[0m: name 'favarite_language' is not defined"
     ]
    }
   ],
   "source": [
    "favorite_language = \"python \"\n",
    "favarite_language"
   ]
  },
  {
   "cell_type": "code",
   "execution_count": 36,
   "metadata": {},
   "outputs": [
    {
     "name": "stdout",
     "output_type": "stream",
     "text": [
      "Albert Einstein once said,\"A person who never made a mistake never tried angthing new.\"\n"
     ]
    }
   ],
   "source": [
    "famous_person = 'albert einstein'\n",
    "famous_person = famous_person.title()\n",
    "message = famous_person  + ' once said,\"A person who never made a mistake never tried angthing new.\"'\n",
    "print(message)"
   ]
  },
  {
   "cell_type": "code",
   "execution_count": 42,
   "metadata": {},
   "outputs": [
    {
     "name": "stdout",
     "output_type": "stream",
     "text": [
      "Unmodified:\n",
      "\tEric Matthes\n",
      "\n",
      "Using lstrip():\n",
      "Eric Matthes\n",
      "\n",
      "\n",
      "Using rstrip():\n",
      "\tEric Matthes\n",
      "\n",
      "Using strip():\n",
      "Eric Matthes\n"
     ]
    }
   ],
   "source": [
    "name = \"\\tEric Matthes\\n\"\n",
    "print(\"Unmodified:\")\n",
    "print(name)\n",
    "print(\"\\nUsing lstrip():\")\n",
    "print(name.lstrip())\n",
    "print(\"\\nUsing rstrip():\")\n",
    "print(name.rstrip())\n",
    "print(\"\\nUsing strip():\")\n",
    "print(name.strip())"
   ]
  },
  {
   "cell_type": "code",
   "execution_count": 44,
   "metadata": {
    "scrolled": true
   },
   "outputs": [
    {
     "data": {
      "text/plain": [
       "1000000"
      ]
     },
     "execution_count": 44,
     "metadata": {},
     "output_type": "execute_result"
    }
   ],
   "source": [
    "10**6"
   ]
  },
  {
   "cell_type": "code",
   "execution_count": null,
   "metadata": {
    "collapsed": true
   },
   "outputs": [],
   "source": []
  }
 ],
 "metadata": {
  "kernelspec": {
   "display_name": "Python 3",
   "language": "python",
   "name": "python3"
  },
  "language_info": {
   "codemirror_mode": {
    "name": "ipython",
    "version": 3
   },
   "file_extension": ".py",
   "mimetype": "text/x-python",
   "name": "python",
   "nbconvert_exporter": "python",
   "pygments_lexer": "ipython3",
   "version": "3.6.3"
  }
 },
 "nbformat": 4,
 "nbformat_minor": 2
}
