{
 "cells": [
  {
   "cell_type": "code",
   "execution_count": 3,
   "metadata": {},
   "outputs": [
    {
     "name": "stdout",
     "output_type": "stream",
     "text": [
      "1\n",
      "2\n",
      "3\n",
      "4\n",
      "5\n",
      "6\n",
      "7\n",
      "8\n",
      "9\n"
     ]
    }
   ],
   "source": [
    "##range生成一个数字序列\n",
    "#具体范围可以设定\n",
    "#数字范围在Python中一般是包含左边，不包含右边\n",
    "#randint是特别的，左右都包含\n",
    "for i in range(1,10):\n",
    "    print(i)"
   ]
  },
  {
   "cell_type": "code",
   "execution_count": 5,
   "metadata": {},
   "outputs": [
    {
     "name": "stdout",
     "output_type": "stream",
     "text": [
      "1\n",
      "2\n",
      "3\n",
      "4\n",
      "5\n",
      "6\n",
      "7\n",
      "8\n",
      "9\n"
     ]
    }
   ],
   "source": [
    "for i in range(1,10):\n",
    "    print(i)"
   ]
  },
  {
   "cell_type": "markdown",
   "metadata": {},
   "source": [
    "#for-else语句\n",
    "-当for循环结束的时候会执行else语句，但else是可选语句\n",
    "-1.打印列表\n",
    "-2如果没在列表或者结束了，我们需要打印提示语句，用else\n"
   ]
  },
  {
   "cell_type": "code",
   "execution_count": 8,
   "metadata": {},
   "outputs": [
    {
     "name": "stdout",
     "output_type": "stream",
     "text": [
      "张三\n",
      "无缘分\n",
      "李四\n",
      "我爱李四一生一世\n",
      "wangwu\n",
      "无缘分\n",
      "shenme\n"
     ]
    }
   ],
   "source": [
    "for name in ['张三','李四','wangwu']:\n",
    "    print(name)\n",
    "    if name == '李四': \n",
    "    \n",
    "        s='我爱{0}一生一世'.format(name)\n",
    "        print(s)\n",
    "    else:\n",
    "        print('无缘分')\n",
    "        \n",
    "else:\n",
    "    print('shenme')"
   ]
  },
  {
   "cell_type": "code",
   "execution_count": null,
   "metadata": {
    "collapsed": true
   },
   "outputs": [],
   "source": [
    "#for循环之break,continue,pass\n",
    "-break:无条件结束整个循环，\n",
    "-continue:无条件结束本次循环，从新进入下一轮循环\n",
    "-pass:表示略过"
   ]
  },
  {
   "cell_type": "code",
   "execution_count": 15,
   "metadata": {},
   "outputs": [
    {
     "name": "stdout",
     "output_type": "stream",
     "text": [
      "7\n"
     ]
    }
   ],
   "source": [
    "#在1-10中，寻找数字7，一旦找到打印出来，其余不执行\n",
    "#for循环中的变量表示，一般用i，k,m,indx,idx,item\n",
    "#python中如果不重要，也可以用下划线-表示\n",
    "\n",
    "for i in range(1,10):\n",
    "    if i==7:\n",
    "        print(i)\n",
    "        break\n",
    "\n",
    "   "
   ]
  },
  {
   "cell_type": "code",
   "execution_count": 17,
   "metadata": {},
   "outputs": [
    {
     "name": "stdout",
     "output_type": "stream",
     "text": [
      "nandao\n",
      "nandao\n",
      "nandao\n",
      "nandao\n",
      "nandao\n",
      "nandao\n",
      "7\n"
     ]
    }
   ],
   "source": [
    "\n",
    "for i in range(1,10):\n",
    "    if i==7:\n",
    "        print(i)\n",
    "        break\n",
    "    else:\n",
    "        print(\"nandao\")"
   ]
  },
  {
   "cell_type": "code",
   "execution_count": 3,
   "metadata": {},
   "outputs": [
    {
     "name": "stdout",
     "output_type": "stream",
     "text": [
      "2是偶数\n",
      "4是偶数\n",
      "6是偶数\n",
      "8是偶数\n",
      "10是偶数\n"
     ]
    }
   ],
   "source": [
    "#continue语句\n",
    "#在数字中寻找偶数，找到后打印出来\n",
    "for i in range(1,11):\n",
    "    if i%2==1:\n",
    "       continue\n",
    "    else:\n",
    "        print('{0}是偶数'.format(i))\n",
    "\n",
    "  "
   ]
  },
  {
   "cell_type": "code",
   "execution_count": 22,
   "metadata": {},
   "outputs": [
    {
     "name": "stdout",
     "output_type": "stream",
     "text": [
      "2是偶数\n",
      "4是偶数\n",
      "6是偶数\n",
      "8是偶数\n",
      "10是偶数\n"
     ]
    }
   ],
   "source": [
    "#continue语句\n",
    "#在数字中寻找偶数，找到后打印出来\n",
    "for i in range(1,11):\n",
    "    if i%2==0:\n",
    "        print('{0}是偶数'.format(i))"
   ]
  },
  {
   "cell_type": "code",
   "execution_count": 5,
   "metadata": {},
   "outputs": [
    {
     "name": "stdout",
     "output_type": "stream",
     "text": [
      "2是偶数\n",
      "4是偶数\n",
      "6是偶数\n",
      "8是偶数\n",
      "10是偶数\n"
     ]
    }
   ],
   "source": [
    "for i in range(1,11):\n",
    "    if i%2==1:\n",
    "        continue\n",
    "    print('{0}是偶数'.format(i))"
   ]
  },
  {
   "cell_type": "code",
   "execution_count": 24,
   "metadata": {},
   "outputs": [
    {
     "name": "stdout",
     "output_type": "stream",
     "text": [
      "2是偶数\n",
      "4是偶数\n",
      "6是偶数\n",
      "8是偶数\n",
      "10是偶数\n"
     ]
    }
   ],
   "source": [
    "#pass用于占位,pass语句什么也不做，一般作为占位符或者创建占位程序，pass语句不会执行任何操作2、保证格式完整 3、保证语义完整\n",
    "for i in range(1,11):\n",
    "    if i%2==1:\n",
    "        continue\n",
    "        pass\n",
    "        pass\n",
    "    print('{0}是偶数'.format(i))"
   ]
  },
  {
   "cell_type": "code",
   "execution_count": 3,
   "metadata": {},
   "outputs": [
    {
     "name": "stdout",
     "output_type": "stream",
     "text": [
      "*******\n",
      "*******\n",
      "*******\n",
      "*******\n"
     ]
    }
   ],
   "source": [
    "#简单的图形打印\n",
    "print(\"*******\")\n",
    "print(\"*******\")\n",
    "print(\"*******\")\n",
    "print(\"*******\")"
   ]
  },
  {
   "cell_type": "code",
   "execution_count": 4,
   "metadata": {},
   "outputs": [
    {
     "name": "stdout",
     "output_type": "stream",
     "text": [
      "* * * * * * * * * * \n"
     ]
    }
   ],
   "source": [
    "#简单的更改\n",
    "print(\"* \"*10)"
   ]
  },
  {
   "cell_type": "code",
   "execution_count": 7,
   "metadata": {},
   "outputs": [
    {
     "name": "stdout",
     "output_type": "stream",
     "text": [
      "0\n",
      "* * * * * * * * * * \n",
      "1\n",
      "* * * * * * * * * * \n",
      "2\n",
      "* * * * * * * * * * \n",
      "3\n",
      "* * * * * * * * * * \n"
     ]
    }
   ],
   "source": [
    "#简单的更改\n",
    "for i in range(4):\n",
    "    print(i)\n",
    "    print(\"* \"*10)"
   ]
  },
  {
   "cell_type": "code",
   "execution_count": 16,
   "metadata": {},
   "outputs": [
    {
     "name": "stdout",
     "output_type": "stream",
     "text": [
      "* * * * \n",
      "* * * * \n",
      "* * * * \n",
      "* * * * \n"
     ]
    }
   ],
   "source": [
    "#简单的更改,利用Ｆｏｒ循环打印一行×\n",
    "for i in range(4):\n",
    "    for i in range(4):\n",
    "        print(\"* \", end=\"\")\n",
    "    print()#注意ｐｒｉｎｔ的位置"
   ]
  },
  {
   "cell_type": "code",
   "execution_count": 43,
   "metadata": {},
   "outputs": [
    {
     "name": "stdout",
     "output_type": "stream",
     "text": [
      "* * * * \n",
      "*     * \n",
      "*     * \n",
      "* * * * \n"
     ]
    }
   ],
   "source": [
    "#简单打印一下图形\n",
    "\"\"\"\n",
    "* * * * \n",
    "*     * \n",
    "*     * \n",
    "* * * * \n",
    "\"\"\"\n",
    "for i in range(4):\n",
    "    if i == 0 or i == 3:\n",
    "        print(\"* \"*4)\n",
    "    if i == 1 or i == 2:\n",
    "        for j in range(4):\n",
    "            if j == 0 or j == 3:\n",
    "                print(\"* \",end=\"\")\n",
    "            if j == 1 or j == 2:\n",
    "                print(\"  \",end=\"\")\n",
    "            \n",
    "                \n",
    "        print()\n",
    "            \n",
    "                \n",
    "            \n"
   ]
  },
  {
   "cell_type": "markdown",
   "metadata": {},
   "source": [
    "# 打印实心三角???????\n",
    "'''\n",
    "*\n",
    "* *\n",
    "* * *\n",
    "* * * *\n",
    "* * * * *\n",
    "'''"
   ]
  },
  {
   "cell_type": "code",
   "execution_count": 5,
   "metadata": {},
   "outputs": [
    {
     "name": "stdout",
     "output_type": "stream",
     "text": [
      "* \n",
      "* * \n",
      "* * * \n",
      "* * * * \n",
      "* * * * * \n"
     ]
    }
   ],
   "source": [
    "for i in range(5):\n",
    "    for j in range(i+1):\n",
    "        print(\"* \",end=\"\")\n",
    "    print()"
   ]
  },
  {
   "cell_type": "code",
   "execution_count": 8,
   "metadata": {},
   "outputs": [
    {
     "name": "stdout",
     "output_type": "stream",
     "text": [
      "\n",
      "* \n",
      "* * \n",
      "* * * \n",
      "* * * * \n",
      "* * * * * \n"
     ]
    }
   ],
   "source": [
    "for i in range(6):\n",
    "    print(\"* \"*i)"
   ]
  },
  {
   "cell_type": "code",
   "execution_count": 24,
   "metadata": {},
   "outputs": [
    {
     "name": "stdout",
     "output_type": "stream",
     "text": [
      "* \n",
      "* * \n",
      "*   * \n",
      "* * * \n",
      "*     * \n",
      "* * * * * \n"
     ]
    }
   ],
   "source": [
    "#出现错误的原因是ｉｆ和else之间又出现了一个ｉｆ????????\n",
    "for i in range(5):\n",
    "    if i == 2:\n",
    "        for j in range(i+1):\n",
    "            if j == 1:\n",
    "                print(\"  \",end=\"\")\n",
    "            else:\n",
    "                print(\"* \",end=\"\")\n",
    "                \n",
    "        print()\n",
    "        \n",
    "    if i == 3:\n",
    "        for k in range(i+1):\n",
    "            if k == 0 or k == 3:\n",
    "                print(\"* \",end=\"\")\n",
    "            else:\n",
    "                print(\"  \",end=\"\")\n",
    "                \n",
    "        print()\n",
    "        \n",
    "    else:\n",
    "        for l in range(i+1):\n",
    "            print(\"* \",end=\"\")\n",
    "        print()\n",
    "        "
   ]
  },
  {
   "cell_type": "code",
   "execution_count": 8,
   "metadata": {},
   "outputs": [
    {
     "name": "stdout",
     "output_type": "stream",
     "text": [
      "* \n",
      "* * \n",
      "*   * \n",
      "*     * \n",
      "* * * * * \n"
     ]
    }
   ],
   "source": [
    "#出现错误的原因是ｉｆ和else之间又出现了一个ｉｆ,把if改成elif就可以了。。\n",
    "#或者在其中加一个continue\n",
    "for i in range(5):\n",
    "    if i == 2:\n",
    "        for j in range(i+1):\n",
    "            if j == 1:\n",
    "                print(\"  \",end=\"\")\n",
    "            else:\n",
    "                print(\"* \",end=\"\")\n",
    "        print()\n",
    "        #continue\n",
    "    elif i == 3:\n",
    "        for k in range(i+1):\n",
    "            if k == 0 or k == 3:\n",
    "                print(\"* \",end=\"\")\n",
    "            else:\n",
    "                print(\"  \",end=\"\")\n",
    "        print()\n",
    "        \n",
    "    else:\n",
    "        for l in range(i+1):\n",
    "            print(\"* \",end=\"\")\n",
    "        print()"
   ]
  },
  {
   "cell_type": "code",
   "execution_count": 12,
   "metadata": {},
   "outputs": [
    {
     "name": "stdout",
     "output_type": "stream",
     "text": [
      "* \n",
      "* * \n",
      "*   * \n",
      "*     * \n",
      "* * * * * \n"
     ]
    }
   ],
   "source": [
    "#抓住核心本质，最开始一个有，最后一个有，中间全部为空。\n",
    "for i in range(5):\n",
    "    for j in range(i+1):\n",
    "        if i == 4:\n",
    "            print(\"* \",end=\"\")\n",
    "        else:\n",
    "            if j == 0 or j == i:\n",
    "                print(\"* \",end=\"\")\n",
    "            else:\n",
    "                print(\"  \",end=\"\")\n",
    "    print()\n",
    "        "
   ]
  },
  {
   "cell_type": "code",
   "execution_count": 13,
   "metadata": {},
   "outputs": [
    {
     "name": "stdout",
     "output_type": "stream",
     "text": [
      "* * * * * \n",
      "* * * * \n",
      "* * * \n",
      "* * \n",
      "* \n"
     ]
    }
   ],
   "source": [
    "for i in range(5):\n",
    "    for j in range(5-i):\n",
    "        print(\"* \",end=\"\")\n",
    "    print()\n",
    "        "
   ]
  },
  {
   "cell_type": "code",
   "execution_count": 16,
   "metadata": {},
   "outputs": [
    {
     "name": "stdout",
     "output_type": "stream",
     "text": [
      "* * * * * \n",
      "*     * \n",
      "*   * \n",
      "* * \n",
      "* \n"
     ]
    }
   ],
   "source": [
    "for i in range(5):\n",
    "    for j in range(5-i):\n",
    "        if i == 0:\n",
    "            print(\"* \",end=\"\")\n",
    "        else:\n",
    "            if j == 0 or j+i == 4:\n",
    "                print(\"* \",end=\"\")\n",
    "            else:\n",
    "                print(\"  \",end=\"\")\n",
    "    print()"
   ]
  },
  {
   "cell_type": "code",
   "execution_count": 28,
   "metadata": {},
   "outputs": [
    {
     "name": "stdout",
     "output_type": "stream",
     "text": [
      "* * * * * \n",
      "*     * \n",
      "*   * \n",
      "* * \n",
      "* \n"
     ]
    }
   ],
   "source": [
    "for i in range(5):\n",
    "    for j in range(5-i):\n",
    "        if i == 0:\n",
    "            print(\"* \",end=\"\")\n",
    "            continue\n",
    "       \n",
    "        if j == 0 or j+i == 4:\n",
    "            print(\"* \",end=\"\")\n",
    "        else:\n",
    "            print(\"  \",end=\"\")\n",
    "    print()"
   ]
  },
  {
   "cell_type": "markdown",
   "metadata": {},
   "source": [
    "* * * * *\n",
    "  * * * * \n",
    "    * * *\n",
    "      * * \n",
    "        *"
   ]
  },
  {
   "cell_type": "code",
   "execution_count": 18,
   "metadata": {},
   "outputs": [
    {
     "name": "stdout",
     "output_type": "stream",
     "text": [
      "* * * * * \n",
      "  * * * * \n",
      "    * * * \n",
      "      * * \n",
      "        * \n"
     ]
    }
   ],
   "source": [
    "for i in range(5):\n",
    "    for j in range(5):\n",
    "        if j == i:\n",
    "            \n",
    "            print(\"* \",end=\"\")\n",
    "            continue\n",
    "        if i > j:\n",
    "            print(\"  \",end=\"\") \n",
    "        else:\n",
    "            \n",
    "            print(\"* \",end=\"\")    \n",
    "    print()"
   ]
  },
  {
   "cell_type": "code",
   "execution_count": 24,
   "metadata": {},
   "outputs": [
    {
     "name": "stdout",
     "output_type": "stream",
     "text": [
      "* * * * * \n",
      "  *     * \n",
      "    *   * \n",
      "      * * \n",
      "        * \n"
     ]
    }
   ],
   "source": [
    "for i in range(5):\n",
    "    for j in range(5):\n",
    "        \n",
    "        \n",
    "        if j == i or j == 4 or i == 0:\n",
    "            \n",
    "            print(\"* \",end=\"\")\n",
    "            continue\n",
    "    \n",
    "        else:\n",
    "            \n",
    "            print(\"  \",end=\"\")    \n",
    "    print()"
   ]
  },
  {
   "cell_type": "markdown",
   "metadata": {},
   "source": [
    "$#这样的   *\n",
    "        * *\n",
    "      * * *\n",
    "    * * * *\n",
    "  * * * * *\n",
    "* * * * * *"
   ]
  },
  {
   "cell_type": "code",
   "execution_count": 15,
   "metadata": {},
   "outputs": [
    {
     "name": "stdout",
     "output_type": "stream",
     "text": [
      "          * \n",
      "        * * \n",
      "      * * * \n",
      "    * * * * \n",
      "  * * * * * \n",
      "* * * * * * \n"
     ]
    }
   ],
   "source": [
    "for i in range(6):\n",
    "    for j in range(6):\n",
    "        if i+j == 5:\n",
    "            print(\"* \",end=\"\")\n",
    "            continue\n",
    "        if (i+j) < 5:\n",
    "            print(\"  \",end=\"\")\n",
    "        else:\n",
    "            print(\"* \",end=\"\")\n",
    "            \n",
    "    print()"
   ]
  },
  {
   "cell_type": "code",
   "execution_count": 25,
   "metadata": {},
   "outputs": [
    {
     "name": "stdout",
     "output_type": "stream",
     "text": [
      "          * \n",
      "        * * \n",
      "      *   * \n",
      "    *     * \n",
      "  *       * \n",
      "* * * * * * \n"
     ]
    }
   ],
   "source": [
    "for i in range(6):\n",
    "    for j in range(6):\n",
    "        if i+j == 5:\n",
    "            print(\"* \",end=\"\")\n",
    "            continue\n",
    "        if i == 5 or j == 5:\n",
    "            print(\"* \",end=\"\")\n",
    "        else:\n",
    "            print(\"  \",end=\"\")\n",
    "            \n",
    "    print()"
   ]
  },
  {
   "cell_type": "code",
   "execution_count": null,
   "metadata": {
    "collapsed": true
   },
   "outputs": [],
   "source": [
    "#打印三角\n",
    "#一个空白三角形，一个星号等边三角形\n",
    "    *\n",
    "   * *\n",
    "  * * *\n",
    " * * * *\n",
    "* * * * *"
   ]
  },
  {
   "cell_type": "code",
   "execution_count": 27,
   "metadata": {},
   "outputs": [
    {
     "name": "stdout",
     "output_type": "stream",
     "text": [
      "    * \n",
      "   * * \n",
      "  * * * \n",
      " * * * * \n",
      "* * * * * \n"
     ]
    }
   ],
   "source": [
    "for i in range(5):\n",
    "    for j in range(4-i):\n",
    "        print(\" \",end=\"\")\n",
    "    for k in range(i+1):\n",
    "        print(\"* \",end=\"\")\n",
    "    print()\n",
    "        \n",
    "        \n",
    "        "
   ]
  },
  {
   "cell_type": "code",
   "execution_count": 17,
   "metadata": {},
   "outputs": [
    {
     "name": "stdout",
     "output_type": "stream",
     "text": [
      "    * \n",
      "   * * \n",
      "  *   * \n",
      " *     * \n",
      "* * * * * \n"
     ]
    }
   ],
   "source": [
    "#打印空三角这么难吗？？？？？!!!!!!!\n",
    "for i in range(1,6):\n",
    "    for k in range(1,6-i):\n",
    "        print(\" \",end=\"\")\n",
    "        \n",
    "    for j in range(6-i,6):\n",
    "        if i == 5 or j == 6-i or j == 5:\n",
    "            print(\"* \",end=\"\")\n",
    "        else:\n",
    "            print(\"  \",end=\"\")\n",
    "    print()\n",
    "    "
   ]
  },
  {
   "cell_type": "code",
   "execution_count": null,
   "metadata": {},
   "outputs": [],
   "source": []
  },
  {
   "cell_type": "code",
   "execution_count": null,
   "metadata": {
    "collapsed": true
   },
   "outputs": [],
   "source": []
  },
  {
   "cell_type": "code",
   "execution_count": null,
   "metadata": {
    "collapsed": true
   },
   "outputs": [],
   "source": []
  },
  {
   "cell_type": "code",
   "execution_count": null,
   "metadata": {
    "collapsed": true
   },
   "outputs": [],
   "source": []
  },
  {
   "cell_type": "markdown",
   "metadata": {
    "collapsed": true
   },
   "source": [
    "ＭＡＲＫＤＯＷＮ下的五级标题\n",
    "\n",
    "# 一级标题\n",
    "\n",
    "## 二级标题\n",
    "\n",
    "### 三级标题\n",
    "#### 四级标题\n",
    "##### 五级标题\n",
    "\n",
    "## 执行快捷键\n",
    "alt+enter:执行代码并生成新的输入框\n",
    "shift/ctrl + enter:执行代码https://www.jianshu.com/p/7bd23251da0a\n",
    "\n",
    "# first level title\n",
    "##  second level title\n",
    "###  third level title\n",
    "https://blog.csdn.net/red_stone1/article/details/72858962\n",
    "https://blog.csdn.net/red_stone1/article/details/72863749"
   ]
  },
  {
   "cell_type": "code",
   "execution_count": 1,
   "metadata": {},
   "outputs": [
    {
     "name": "stdout",
     "output_type": "stream",
     "text": [
      "0\n",
      "1\n",
      "2\n",
      "3\n",
      "4\n"
     ]
    }
   ],
   "source": [
    "for i in range(5):\n",
    "    print(i)"
   ]
  },
  {
   "cell_type": "code",
   "execution_count": null,
   "metadata": {
    "collapsed": true
   },
   "outputs": [],
   "source": []
  },
  {
   "cell_type": "code",
   "execution_count": null,
   "metadata": {
    "collapsed": true
   },
   "outputs": [],
   "source": []
  }
 ],
 "metadata": {
  "kernelspec": {
   "display_name": "Python 3",
   "language": "python",
   "name": "python3"
  },
  "language_info": {
   "codemirror_mode": {
    "name": "ipython",
    "version": 3
   },
   "file_extension": ".py",
   "mimetype": "text/x-python",
   "name": "python",
   "nbconvert_exporter": "python",
   "pygments_lexer": "ipython3",
   "version": "3.6.3"
  }
 },
 "nbformat": 4,
 "nbformat_minor": 2
}
