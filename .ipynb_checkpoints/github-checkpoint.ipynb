{
 "cells": [
  {
   "cell_type": "markdown",
   "metadata": {},
   "source": [
    "git init，创建仓库\n",
    "git add，添加到暂存区\n",
    "git commit，添加到仓库\n",
    "git commit -m\"注释\"\n",
    "git status 是查看当前状态\n",
    "vi 编辑\n",
    "rm 是删除 git rm提交到暂存区 ,git commit提交到版本库\n",
    "：wq是保存退出\n",
    "git log :查看日志找以前的版本\n",
    "head master 是当前版本。\n",
    "git reset --hard +commit_id(直接版本号或者head～步数）\n",
    "git log查看提交历史，以确定退后到那个版本。\n",
    "git reflog 查看命令历史，以便确定回到未来的哪个版本\n",
    "git reset head + 文件是撤销暂存区的修改\n",
    "git checkout --+文件是撤销工作区的修改\n",
    "\n",
    "ｇithua 和 bitbarket"
   ]
  },
  {
   "cell_type": "markdown",
   "metadata": {},
   "source": [
    "github注册xiangtaocai,326709613@qq.com,19880603cxt\n",
    "git init \n",
    "git add\n",
    "git commit -m \"zhushi\"\n",
    "git remote add origin https://github.com/xiangtaocai/daily.git\n",
    "git push -u origin master"
   ]
  }
 ],
 "metadata": {
  "kernelspec": {
   "display_name": "Python 3",
   "language": "python",
   "name": "python3"
  },
  "language_info": {
   "codemirror_mode": {
    "name": "ipython",
    "version": 3
   },
   "file_extension": ".py",
   "mimetype": "text/x-python",
   "name": "python",
   "nbconvert_exporter": "python",
   "pygments_lexer": "ipython3",
   "version": "3.6.3"
  }
 },
 "nbformat": 4,
 "nbformat_minor": 2
}
