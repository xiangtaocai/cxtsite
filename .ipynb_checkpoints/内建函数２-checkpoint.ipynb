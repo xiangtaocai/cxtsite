{
 "cells": [
  {
   "cell_type": "markdown",
   "metadata": {},
   "source": [
    "# 元祖的函数\n"
   ]
  },
  {
   "cell_type": "code",
   "execution_count": 7,
   "metadata": {},
   "outputs": [
    {
     "name": "stdout",
     "output_type": "stream",
     "text": [
      "6\n",
      "1\n",
      "0\n",
      "5\n",
      "2\n"
     ]
    }
   ],
   "source": [
    "t = (1,2,3,4,1,6,6)\n",
    "print(max(t))\n",
    "print(min(t))\n",
    "print(t.index(min(t)))\n",
    "print(t.index(max(t)))\n",
    "print(t.count(1))"
   ]
  },
  {
   "cell_type": "code",
   "execution_count": 4,
   "metadata": {},
   "outputs": [
    {
     "name": "stdout",
     "output_type": "stream",
     "text": [
      "<class 'tuple'>\n"
     ]
    }
   ],
   "source": [
    "t = ()\n",
    "print(type(t))\n"
   ]
  },
  {
   "cell_type": "code",
   "execution_count": 8,
   "metadata": {},
   "outputs": [
    {
     "name": "stdout",
     "output_type": "stream",
     "text": [
      "2\n",
      "3\n"
     ]
    }
   ],
   "source": [
    "#count:指定元素的个数\n",
    "t = [1,2,8,5,8,3,41,11,1,1]\n",
    "print(t.index(8))\n",
    "print(t.count(1))"
   ]
  },
  {
   "cell_type": "code",
   "execution_count": 11,
   "metadata": {},
   "outputs": [
    {
     "name": "stdout",
     "output_type": "stream",
     "text": [
      "5 1\n"
     ]
    }
   ],
   "source": [
    "#两个变量交换值\n",
    "a = 1\n",
    "b = 5\n",
    "a,b = b,a\n",
    "print(a,b)"
   ]
  },
  {
   "cell_type": "markdown",
   "metadata": {},
   "source": [
    "# 集合set\n",
    "-唯一的\n",
    "-确定的"
   ]
  },
  {
   "cell_type": "code",
   "execution_count": 13,
   "metadata": {},
   "outputs": [
    {
     "name": "stdout",
     "output_type": "stream",
     "text": [
      "set()\n",
      "<class 'set'>\n",
      "<class 'dict'>\n",
      "<class 'set'>\n"
     ]
    }
   ],
   "source": [
    "s = set()\n",
    "print(s)\n",
    "print(type(s))\n",
    "s = {1,2,3,5,4}#如果是空的，则是字典了\n",
    "e = {}\n",
    "print(type(e))\n",
    "print(type(s))"
   ]
  },
  {
   "cell_type": "code",
   "execution_count": 15,
   "metadata": {},
   "outputs": [
    {
     "name": "stdout",
     "output_type": "stream",
     "text": [
      "{1, 2, 3, 4, 5}\n",
      "{8, 65, 98, 67}\n"
     ]
    },
    {
     "ename": "TypeError",
     "evalue": "'set' object does not support indexing",
     "output_type": "error",
     "traceback": [
      "\u001b[0;31m---------------------------------------------------------------------------\u001b[0m",
      "\u001b[0;31mTypeError\u001b[0m                                 Traceback (most recent call last)",
      "\u001b[0;32m<ipython-input-15-2100f04de60e>\u001b[0m in \u001b[0;36m<module>\u001b[0;34m()\u001b[0m\n\u001b[1;32m      6\u001b[0m \u001b[0mprint\u001b[0m\u001b[0;34m(\u001b[0m\u001b[0ml1\u001b[0m\u001b[0;34m)\u001b[0m\u001b[0;34m\u001b[0m\u001b[0m\n\u001b[1;32m      7\u001b[0m \u001b[0mprint\u001b[0m\u001b[0;34m(\u001b[0m\u001b[0mm1\u001b[0m\u001b[0;34m)\u001b[0m\u001b[0;34m\u001b[0m\u001b[0m\n\u001b[0;32m----> 8\u001b[0;31m \u001b[0mprint\u001b[0m\u001b[0;34m(\u001b[0m\u001b[0ml1\u001b[0m\u001b[0;34m[\u001b[0m\u001b[0;36m0\u001b[0m\u001b[0;34m]\u001b[0m\u001b[0;34m)\u001b[0m\u001b[0;34m\u001b[0m\u001b[0m\n\u001b[0m",
      "\u001b[0;31mTypeError\u001b[0m: 'set' object does not support indexing"
     ]
    }
   ],
   "source": [
    "l = [1,2,3,1,1,3,5,4,5]\n",
    "\n",
    "m = 8,65,98,67,65,8,98\n",
    "l1 = set(l)\n",
    "m1 = set(m)\n",
    "print(l1)\n",
    "print(m1)\n",
    "print(l1[0])#集合不支持索引和分片（index,slicing)，数据唯一，可以用来排查重复，存放哈希数据"
   ]
  },
  {
   "cell_type": "code",
   "execution_count": 16,
   "metadata": {},
   "outputs": [
    {
     "ename": "TypeError",
     "evalue": "unhashable type: 'set'",
     "output_type": "error",
     "traceback": [
      "\u001b[0;31m---------------------------------------------------------------------------\u001b[0m",
      "\u001b[0;31mTypeError\u001b[0m                                 Traceback (most recent call last)",
      "\u001b[0;32m<ipython-input-16-f91b48b0a0fc>\u001b[0m in \u001b[0;36m<module>\u001b[0;34m()\u001b[0m\n\u001b[0;32m----> 1\u001b[0;31m \u001b[0ma\u001b[0m \u001b[0;34m=\u001b[0m \u001b[0;34m{\u001b[0m\u001b[0;34m(\u001b[0m\u001b[0;36m4\u001b[0m\u001b[0;34m,\u001b[0m\u001b[0;36m5\u001b[0m\u001b[0;34m,\u001b[0m\u001b[0;36m9\u001b[0m\u001b[0;34m,\u001b[0m\u001b[0;36m5\u001b[0m\u001b[0;34m)\u001b[0m\u001b[0;34m,\u001b[0m\u001b[0;34m{\u001b[0m\u001b[0;36m1\u001b[0m\u001b[0;34m,\u001b[0m\u001b[0;36m5\u001b[0m\u001b[0;34m,\u001b[0m\u001b[0;36m8\u001b[0m\u001b[0;34m,\u001b[0m\u001b[0;36m5\u001b[0m\u001b[0;34m}\u001b[0m\u001b[0;34m,\u001b[0m\u001b[0;34m(\u001b[0m\u001b[0;34m'edg'\u001b[0m\u001b[0;34m,\u001b[0m\u001b[0;34m'ds'\u001b[0m\u001b[0;34m,\u001b[0m\u001b[0;34m'sdf'\u001b[0m\u001b[0;34m)\u001b[0m\u001b[0;34m}\u001b[0m\u001b[0;34m\u001b[0m\u001b[0m\n\u001b[0m\u001b[1;32m      2\u001b[0m \u001b[0;32mfor\u001b[0m \u001b[0mi\u001b[0m \u001b[0;32min\u001b[0m \u001b[0ma\u001b[0m\u001b[0;34m:\u001b[0m\u001b[0;34m\u001b[0m\u001b[0m\n\u001b[1;32m      3\u001b[0m     \u001b[0mprint\u001b[0m\u001b[0;34m(\u001b[0m\u001b[0mi\u001b[0m\u001b[0;34m)\u001b[0m\u001b[0;34m\u001b[0m\u001b[0m\n",
      "\u001b[0;31mTypeError\u001b[0m: unhashable type: 'set'"
     ]
    }
   ],
   "source": [
    "a = {(4,5,9,5),{1,5,8,5},('edg','ds','sdf')}#集合不可哈希\n",
    "for i in a:\n",
    "    print(i)"
   ]
  },
  {
   "cell_type": "code",
   "execution_count": 17,
   "metadata": {},
   "outputs": [
    {
     "name": "stdout",
     "output_type": "stream",
     "text": [
      "(1, 5, 8, 5)\n",
      "('edg', 'ds', 'sdf')\n",
      "(4, 5, 9, 5)\n"
     ]
    }
   ],
   "source": [
    "a = {(4,5,9,5),(1,5,8,5),('edg','ds','sdf')}\n",
    "for i in a:\n",
    "    print(i)"
   ]
  },
  {
   "cell_type": "markdown",
   "metadata": {},
   "source": [
    "# 集合的内涵\n"
   ]
  },
  {
   "cell_type": "code",
   "execution_count": 20,
   "metadata": {},
   "outputs": [
    {
     "name": "stdout",
     "output_type": "stream",
     "text": [
      "{256, 1, 2, 898, 4, 6, 8, 56}\n",
      "{256, 1, 2, 898, 4, 6, 8, 56}\n",
      "{256, 2, 898, 4, 6, 8, 56}\n"
     ]
    }
   ],
   "source": [
    "#普通集合内涵\n",
    "s = {2,56,1,56,4,2,8,6,898,256,4}\n",
    "print(s)#打印出来说明无序性，排重\n",
    "ss = {i for i in s}\n",
    "print(ss)\n",
    "ss = {i for i in s if i%2 == 0}\n",
    "print(ss)"
   ]
  },
  {
   "cell_type": "code",
   "execution_count": 24,
   "metadata": {},
   "outputs": [
    {
     "ename": "TypeError",
     "evalue": "set expected at most 1 arguments, got 2",
     "output_type": "error",
     "traceback": [
      "\u001b[0;31m---------------------------------------------------------------------------\u001b[0m",
      "\u001b[0;31mTypeError\u001b[0m                                 Traceback (most recent call last)",
      "\u001b[0;32m<ipython-input-24-1a334be1b772>\u001b[0m in \u001b[0;36m<module>\u001b[0;34m()\u001b[0m\n\u001b[1;32m      1\u001b[0m \u001b[0;31m#len,max,min,set\u001b[0m\u001b[0;34m\u001b[0m\u001b[0;34m\u001b[0m\u001b[0m\n\u001b[1;32m      2\u001b[0m \u001b[0;31m#add\u001b[0m\u001b[0;34m\u001b[0m\u001b[0;34m\u001b[0m\u001b[0m\n\u001b[0;32m----> 3\u001b[0;31m \u001b[0ms\u001b[0m \u001b[0;34m=\u001b[0m \u001b[0mset\u001b[0m\u001b[0;34m(\u001b[0m\u001b[0;36m1\u001b[0m\u001b[0;34m,\u001b[0m\u001b[0;36m5\u001b[0m\u001b[0;34m)\u001b[0m\u001b[0;34m\u001b[0m\u001b[0m\n\u001b[0m\u001b[1;32m      4\u001b[0m \u001b[0ms\u001b[0m\u001b[0;34m.\u001b[0m\u001b[0madd\u001b[0m\u001b[0;34m(\u001b[0m\u001b[0;36m888\u001b[0m\u001b[0;34m)\u001b[0m\u001b[0;34m\u001b[0m\u001b[0m\n\u001b[1;32m      5\u001b[0m \u001b[0mprint\u001b[0m\u001b[0;34m(\u001b[0m\u001b[0ms\u001b[0m\u001b[0;34m)\u001b[0m\u001b[0;34m\u001b[0m\u001b[0m\n",
      "\u001b[0;31mTypeError\u001b[0m: set expected at most 1 arguments, got 2"
     ]
    }
   ],
   "source": [
    "#len,max,min,set\n",
    "#add\n",
    "s = set(1,5)\n",
    "s.add(888)\n",
    "print(s)"
   ]
  },
  {
   "cell_type": "code",
   "execution_count": 25,
   "metadata": {},
   "outputs": [
    {
     "ename": "TypeError",
     "evalue": "'int' object is not iterable",
     "output_type": "error",
     "traceback": [
      "\u001b[0;31m---------------------------------------------------------------------------\u001b[0m",
      "\u001b[0;31mTypeError\u001b[0m                                 Traceback (most recent call last)",
      "\u001b[0;32m<ipython-input-25-0b9af8bd8daa>\u001b[0m in \u001b[0;36m<module>\u001b[0;34m()\u001b[0m\n\u001b[1;32m      1\u001b[0m \u001b[0;31m#len,max,min,set\u001b[0m\u001b[0;34m\u001b[0m\u001b[0;34m\u001b[0m\u001b[0m\n\u001b[1;32m      2\u001b[0m \u001b[0;31m#add\u001b[0m\u001b[0;34m\u001b[0m\u001b[0;34m\u001b[0m\u001b[0m\n\u001b[0;32m----> 3\u001b[0;31m \u001b[0ms\u001b[0m \u001b[0;34m=\u001b[0m \u001b[0mset\u001b[0m\u001b[0;34m(\u001b[0m\u001b[0;36m5\u001b[0m\u001b[0;34m)\u001b[0m\u001b[0;34m\u001b[0m\u001b[0m\n\u001b[0m\u001b[1;32m      4\u001b[0m \u001b[0ms\u001b[0m\u001b[0;34m.\u001b[0m\u001b[0madd\u001b[0m\u001b[0;34m(\u001b[0m\u001b[0;36m888\u001b[0m\u001b[0;34m)\u001b[0m\u001b[0;34m\u001b[0m\u001b[0m\n\u001b[1;32m      5\u001b[0m \u001b[0mprint\u001b[0m\u001b[0;34m(\u001b[0m\u001b[0ms\u001b[0m\u001b[0;34m)\u001b[0m\u001b[0;34m\u001b[0m\u001b[0m\n",
      "\u001b[0;31mTypeError\u001b[0m: 'int' object is not iterable"
     ]
    }
   ],
   "source": [
    "#len,max,min,set\n",
    "#add\n",
    "s = set(5)\n",
    "s.add(888)\n",
    "print(s)"
   ]
  },
  {
   "cell_type": "code",
   "execution_count": 26,
   "metadata": {},
   "outputs": [
    {
     "name": "stdout",
     "output_type": "stream",
     "text": [
      "{888, 1}\n"
     ]
    }
   ],
   "source": [
    "#len,max,min,set\n",
    "#add\n",
    "s = {1,}\n",
    "s.add(888)\n",
    "print(s)"
   ]
  },
  {
   "cell_type": "code",
   "execution_count": 27,
   "metadata": {},
   "outputs": [
    {
     "name": "stdout",
     "output_type": "stream",
     "text": [
      "140476311724328\n",
      "140476311724328\n",
      "set()\n"
     ]
    }
   ],
   "source": [
    "s = {1,2,3,5}\n",
    "print(id(s))\n",
    "s.clear()\n",
    "print(id(s))\n",
    "print(s)"
   ]
  },
  {
   "cell_type": "code",
   "execution_count": 29,
   "metadata": {},
   "outputs": [
    {
     "name": "stdout",
     "output_type": "stream",
     "text": [
      "{2, 4, 5, 6, 9}\n",
      "{2, 4, 6, 9}\n",
      "{2, 4, 6, 9}\n"
     ]
    },
    {
     "ename": "KeyError",
     "evalue": "5",
     "output_type": "error",
     "traceback": [
      "\u001b[0;31m---------------------------------------------------------------------------\u001b[0m",
      "\u001b[0;31mKeyError\u001b[0m                                  Traceback (most recent call last)",
      "\u001b[0;32m<ipython-input-29-2d7f78b51070>\u001b[0m in \u001b[0;36m<module>\u001b[0;34m()\u001b[0m\n\u001b[1;32m      8\u001b[0m \u001b[0ms\u001b[0m\u001b[0;34m.\u001b[0m\u001b[0mdiscard\u001b[0m\u001b[0;34m(\u001b[0m\u001b[0;36m5\u001b[0m\u001b[0;34m)\u001b[0m\u001b[0;34m\u001b[0m\u001b[0m\n\u001b[1;32m      9\u001b[0m \u001b[0mprint\u001b[0m\u001b[0;34m(\u001b[0m\u001b[0ms\u001b[0m\u001b[0;34m)\u001b[0m\u001b[0;34m\u001b[0m\u001b[0m\n\u001b[0;32m---> 10\u001b[0;31m \u001b[0ms\u001b[0m\u001b[0;34m.\u001b[0m\u001b[0mremove\u001b[0m\u001b[0;34m(\u001b[0m\u001b[0;36m5\u001b[0m\u001b[0;34m)\u001b[0m\u001b[0;34m\u001b[0m\u001b[0m\n\u001b[0m\u001b[1;32m     11\u001b[0m \u001b[0mprint\u001b[0m\u001b[0;34m(\u001b[0m\u001b[0ms\u001b[0m\u001b[0;34m)\u001b[0m\u001b[0;34m\u001b[0m\u001b[0m\n",
      "\u001b[0;31mKeyError\u001b[0m: 5"
     ]
    }
   ],
   "source": [
    "#copy\n",
    "#remove:移除指定值，如果值不存在，报错\n",
    "#discart：移除指定的值，如果不存在，不报错\n",
    "s = {4,5,9,6,2,5}\n",
    "print(s)\n",
    "s.discard(5)\n",
    "print(s)\n",
    "s.discard(5)\n",
    "print(s)\n",
    "s.remove(5)\n",
    "print(s)"
   ]
  },
  {
   "cell_type": "code",
   "execution_count": 5,
   "metadata": {},
   "outputs": [
    {
     "name": "stdout",
     "output_type": "stream",
     "text": [
      "b\n",
      "1\n",
      "2\n",
      "3\n",
      "4\n",
      "c\n",
      "{'d', 'a'}\n"
     ]
    }
   ],
   "source": [
    "#pop 随机移除一个元素\n",
    "s = {4,3,2,1,'a','b','c','d'}\n",
    "d = s.pop()\n",
    "print(d)\n",
    "d = s.pop()\n",
    "print(d)\n",
    "d = s.pop()\n",
    "print(d)\n",
    "d = s.pop()\n",
    "print(d)\n",
    "d = s.pop()\n",
    "print(d)\n",
    "d = s.pop()\n",
    "print(d)\n",
    "print(s)"
   ]
  },
  {
   "cell_type": "code",
   "execution_count": 7,
   "metadata": {},
   "outputs": [
    {
     "name": "stdout",
     "output_type": "stream",
     "text": [
      "1\n",
      "2\n",
      "3\n",
      "4\n",
      "5\n",
      "6\n",
      "{7}\n"
     ]
    }
   ],
   "source": [
    "#pop 随机移除一个元素,但是纯数字却从小到大？？？\n",
    "s = {4,3,2,1,5,6,7}\n",
    "d = s.pop()\n",
    "print(d)\n",
    "d = s.pop()\n",
    "print(d)\n",
    "d = s.pop()\n",
    "print(d)\n",
    "d = s.pop()\n",
    "print(d)\n",
    "d = s.pop()\n",
    "print(d)\n",
    "d = s.pop()\n",
    "print(d)\n",
    "print(s)"
   ]
  },
  {
   "cell_type": "code",
   "execution_count": 17,
   "metadata": {},
   "outputs": [
    {
     "name": "stdout",
     "output_type": "stream",
     "text": [
      "{4, 5, 6, 7}\n",
      "{1, 2, 3}\n",
      "{8, 9}\n",
      "{1, 2, 3, 4, 5, 6, 7, 8, 9}\n",
      "False\n",
      "True\n",
      "False\n",
      "True\n"
     ]
    }
   ],
   "source": [
    "#集合的函数\n",
    "#intersection::交集\n",
    "#difference：差集\n",
    "#union：并集\n",
    "#issubset：一个是另一个的子集吗？输出布尔值\n",
    "#issuperset:超集\n",
    "s1 = {1,2,3,4,5,6,7,}\n",
    "s2 = {4,5,6,7,8,9}\n",
    "s3 = {1,2,3}\n",
    "\n",
    "s1s2 = s1.intersection(s2)\n",
    "print(s1s2)\n",
    "s1s2 = s1.difference(s2)\n",
    "print(s1s2)\n",
    "s1s2 = s２.difference(s１)\n",
    "print(s1s2)\n",
    "s1s2 = s1.union(s2)\n",
    "print(s1s2)\n",
    "s1s3 = s1.issubset(s3)\n",
    "print(s1s3)\n",
    "\n",
    "s1s3 = s3.issubset(s1)\n",
    "print(s1s3)\n",
    "s1s3 = s3.issuperset(s1)\n",
    "print(s1s3)\n",
    "s1s3 = s1.issuperset(s3)\n",
    "print(s1s3)"
   ]
  },
  {
   "cell_type": "code",
   "execution_count": 3,
   "metadata": {},
   "outputs": [
    {
     "name": "stdout",
     "output_type": "stream",
     "text": [
      "{4, 5, 6, 7}\n",
      "{1, 2, 3, 4, 5, 6, 7, 8, 9}\n",
      "{1, 2, 3}\n"
     ]
    }
   ],
   "source": [
    "#集合的数学运算交集&并集|差集 -\n",
    "\n",
    "s1 = {1,2,3,4,5,6,7,}\n",
    "s2 = {4,5,6,7,8,9}\n",
    "s3 = {1,2,3}\n",
    "s4 = s1&s2\n",
    "print(s4)\n",
    "s4 = s1 | s2\n",
    "print(s4)\n",
    "s4 = s1-s2\n",
    "print(s4)"
   ]
  },
  {
   "cell_type": "code",
   "execution_count": 4,
   "metadata": {},
   "outputs": [
    {
     "name": "stdout",
     "output_type": "stream",
     "text": [
      "<class 'frozenset'>\n",
      "frozenset()\n"
     ]
    }
   ],
   "source": [
    "#冰冻集合frozen set,就是不能进行修改\n",
    "s = frozenset()\n",
    "print(type(s))\n",
    "print(s)"
   ]
  },
  {
   "cell_type": "code",
   "execution_count": 11,
   "metadata": {},
   "outputs": [
    {
     "ename": "SyntaxError",
     "evalue": "invalid syntax (<ipython-input-11-a5fedfbd07ee>, line 2)",
     "output_type": "error",
     "traceback": [
      "\u001b[0;36m  File \u001b[0;32m\"<ipython-input-11-a5fedfbd07ee>\"\u001b[0;36m, line \u001b[0;32m2\u001b[0m\n\u001b[0;31m    d = dict({\"one\"=1,'two'=2,'three'=3})\u001b[0m\n\u001b[0m                   ^\u001b[0m\n\u001b[0;31mSyntaxError\u001b[0m\u001b[0;31m:\u001b[0m invalid syntax\n"
     ]
    }
   ],
   "source": [
    "#创建\n",
    "d = dict({\"one\"=1,'two'=2,'three'=3})\n",
    "print(d)\n",
    "d = dict({'one':1,'two':2,'three':3})\n",
    "print(d)"
   ]
  },
  {
   "cell_type": "code",
   "execution_count": 18,
   "metadata": {},
   "outputs": [
    {
     "ename": "SyntaxError",
     "evalue": "keyword can't be an expression (<ipython-input-18-d91b6b8660b0>, line 2)",
     "output_type": "error",
     "traceback": [
      "\u001b[0;36m  File \u001b[0;32m\"<ipython-input-18-d91b6b8660b0>\"\u001b[0;36m, line \u001b[0;32m2\u001b[0m\n\u001b[0;31m    d = dict(\"one\"=1,'two'=2,'three'=3)\u001b[0m\n\u001b[0m            ^\u001b[0m\n\u001b[0;31mSyntaxError\u001b[0m\u001b[0;31m:\u001b[0m keyword can't be an expression\n"
     ]
    }
   ],
   "source": [
    "#创建\n",
    "d = dict(\"one\"=1,'two'=2,'three'=3)\n",
    "print(d)\n",
    "d = dict({'one':1,'two':2,'three':3})\n",
    "print(d)"
   ]
  },
  {
   "cell_type": "code",
   "execution_count": 17,
   "metadata": {},
   "outputs": [
    {
     "name": "stdout",
     "output_type": "stream",
     "text": [
      "{'one': 1, 'two': 2, 'three': 3}\n",
      "{'one': 1, 'two': 2, 'three': 3}\n",
      "{'one': 1, 'two': 2, 'three': 3}\n"
     ]
    }
   ],
   "source": [
    "#创建,注意和下面的区别，关键字字典\n",
    "d = dict(one=1,two=2,three=3)#关键字字典\n",
    "print(d)\n",
    "d = dict({'one':1,'two':2,'three':3})#正常的字典\n",
    "print(d)\n",
    "d = dict([('one',1),('two',2),('three',3)])#列表字典\n",
    "print(d)"
   ]
  },
  {
   "cell_type": "code",
   "execution_count": 4,
   "metadata": {},
   "outputs": [
    {
     "name": "stdout",
     "output_type": "stream",
     "text": [
      "{'one': 1, 'two': 2, 'three': 3, 'four': 4}\n",
      "two\n",
      "four\n"
     ]
    }
   ],
   "source": [
    "#max为什么是two.min为什么是ｆｏｕｒ???字母顺序？\n",
    "d = {'one':1,'two':2,'three':3,'four':4}\n",
    "\n",
    "print(d)\n",
    "print(max(d))\n",
    "print(min(d))"
   ]
  },
  {
   "cell_type": "code",
   "execution_count": 23,
   "metadata": {},
   "outputs": [
    {
     "name": "stdout",
     "output_type": "stream",
     "text": [
      "-9\n"
     ]
    }
   ],
   "source": [
    "a = [-9, -8, 1, 3, -4, 6]\n",
    "tmp = max(a, key=lambda x: abs(x))\n",
    "print(tmp)"
   ]
  },
  {
   "cell_type": "code",
   "execution_count": 2,
   "metadata": {},
   "outputs": [
    {
     "name": "stdout",
     "output_type": "stream",
     "text": [
      "{'赵云': '子龙', '庞统': '士元', '郭嘉': '奉孝', '鲁肃': '子敬'}\n",
      "子龙\n",
      "{'赵云': '子龙', '庞统': '士元', '郭嘉': '天妒', '鲁肃': '子敬'}\n",
      "{'庞统': '士元', '郭嘉': '天妒', '鲁肃': '子敬'}\n",
      "{'庞统': '士元', '郭嘉': '天妒', '鲁肃': '子敬', '周瑜': '公瑾'}\n",
      "False\n",
      "True\n",
      "4\n",
      "dict_items([('庞统', '士元'), ('郭嘉', '天妒'), ('鲁肃', '子敬'), ('周瑜', '公瑾')]) <class 'dict_items'>\n",
      "庞统 士元\n",
      "郭嘉 天妒\n",
      "鲁肃 子敬\n",
      "周瑜 公瑾\n"
     ]
    }
   ],
   "source": [
    "var = {'赵云':'子龙','庞统':'士元','郭嘉':'奉孝','鲁肃':'子敬'}\n",
    "print(var)\n",
    "print(var['赵云'])\n",
    "var['郭嘉'] = '天妒' \n",
    "print(var)\n",
    "del var['赵云']\n",
    "print(var)\n",
    "var['周瑜'] = '公瑾'\n",
    "print(var)\n",
    "\n",
    "result = '士元' in var\n",
    "print(result)\n",
    "result = '庞统' in var\n",
    "print(result)\n",
    "\n",
    "result = len(var)\n",
    "print(result)\n",
    "result = var.items()\n",
    "print(result,type(result))#不是标准的列表类型\n",
    "for k,v in var.items():\n",
    "    print(k,v)"
   ]
  },
  {
   "cell_type": "code",
   "execution_count": 39,
   "metadata": {},
   "outputs": [
    {
     "name": "stdout",
     "output_type": "stream",
     "text": [
      "晷\n",
      "<class 'str'>\n",
      "a\n"
     ]
    }
   ],
   "source": [
    "#max()  获取字典中最大的键如果不是数字键 获取最大编码的值\n",
    "var = {'a':1,'b':2,'c':3,'晷':12}\n",
    "result = max(var)\n",
    "print(result)\n",
    "print(type(result))\n",
    "print(min(var))"
   ]
  },
  {
   "cell_type": "code",
   "execution_count": 13,
   "metadata": {},
   "outputs": [
    {
     "name": "stdout",
     "output_type": "stream",
     "text": [
      "<class 'set'>\n",
      "<class 'set'>\n",
      "{'e', 'o', 'l', 'h'}\n",
      "<class 'str'>\n",
      "<class 'tuple'>\n"
     ]
    }
   ],
   "source": [
    "t = set('1')\n",
    "t\n",
    "print(type(t))\n",
    "s = set('hello')\n",
    "print(type(s))\n",
    "print(s)\n",
    "s = ('hello')\n",
    "print(type(s))\n",
    "s = ('hello',)\n",
    "print(type(s))"
   ]
  },
  {
   "cell_type": "code",
   "execution_count": 14,
   "metadata": {},
   "outputs": [
    {
     "name": "stdout",
     "output_type": "stream",
     "text": [
      "1\n",
      "hhhh\n",
      "1\n"
     ]
    },
    {
     "ename": "KeyError",
     "evalue": "'four'",
     "output_type": "error",
     "traceback": [
      "\u001b[0;31m---------------------------------------------------------------------------\u001b[0m",
      "\u001b[0;31mKeyError\u001b[0m                                  Traceback (most recent call last)",
      "\u001b[0;32m<ipython-input-14-dcfc67a1529a>\u001b[0m in \u001b[0;36m<module>\u001b[0;34m()\u001b[0m\n\u001b[1;32m      4\u001b[0m \u001b[0mprint\u001b[0m\u001b[0;34m(\u001b[0m\u001b[0ms\u001b[0m\u001b[0;34m.\u001b[0m\u001b[0mget\u001b[0m\u001b[0;34m(\u001b[0m\u001b[0;34m'four'\u001b[0m\u001b[0;34m,\u001b[0m\u001b[0;34m'hhhh'\u001b[0m\u001b[0;34m)\u001b[0m\u001b[0;34m)\u001b[0m\u001b[0;34m\u001b[0m\u001b[0m\n\u001b[1;32m      5\u001b[0m \u001b[0mprint\u001b[0m\u001b[0;34m(\u001b[0m\u001b[0ms\u001b[0m\u001b[0;34m[\u001b[0m\u001b[0;34m'one'\u001b[0m\u001b[0;34m]\u001b[0m\u001b[0;34m)\u001b[0m\u001b[0;34m\u001b[0m\u001b[0m\n\u001b[0;32m----> 6\u001b[0;31m \u001b[0mprint\u001b[0m\u001b[0;34m(\u001b[0m\u001b[0ms\u001b[0m\u001b[0;34m[\u001b[0m\u001b[0;34m'four'\u001b[0m\u001b[0;34m]\u001b[0m\u001b[0;34m)\u001b[0m\u001b[0;34m\u001b[0m\u001b[0m\n\u001b[0m",
      "\u001b[0;31mKeyError\u001b[0m: 'four'"
     ]
    }
   ],
   "source": [
    "#获取指定键的值，如果值在，输出，不在输出none，也可以更改默认值\n",
    "#geｔ获取的值没有，不会报错\n",
    "s = {'one':1,'two':2,'three':3}\n",
    "print(s.get('one'))\n",
    "print(s.get('four','hhhh'))\n",
    "print(s['one'])\n",
    "print(s['four'])"
   ]
  },
  {
   "cell_type": "code",
   "execution_count": 23,
   "metadata": {},
   "outputs": [
    {
     "name": "stdout",
     "output_type": "stream",
     "text": [
      "{1: 'python', 2: 'python', 3: 'python', 5: 'python', 4: 'python'}\n",
      "{1: 'python', 69: 'python', 5: 'python', 9: 'python'}\n",
      "{4: 'python', 5: 'python', 9: 'python', 8: 'python'}\n",
      "{'a': 'python', 's': 'python', 'd': 'python', 'h': 'python', 'l': 'python', 'k': 'python'}\n"
     ]
    }
   ],
   "source": [
    "#fromkeys:使用指定的序列作为键，使用一个值作为所有键的值\n",
    "l = [1,2,3,5,4]\n",
    "s = {1,5,69,9,9}\n",
    "m = (4,5,9,9,8)\n",
    "n = 'asdhlk'\n",
    "f = dict.fromkeys(l,'python')\n",
    "print(f)\n",
    "f = dict.fromkeys(s,'python')\n",
    "print(f)\n",
    "f = dict.fromkeys(m,'python')\n",
    "print(f)\n",
    "f = dict.fromkeys(n,'python')\n",
    "print(f)"
   ]
  },
  {
   "cell_type": "code",
   "execution_count": null,
   "metadata": {
    "collapsed": true
   },
   "outputs": [],
   "source": []
  }
 ],
 "metadata": {
  "kernelspec": {
   "display_name": "Python 3",
   "language": "python",
   "name": "python3"
  },
  "language_info": {
   "codemirror_mode": {
    "name": "ipython",
    "version": 3
   },
   "file_extension": ".py",
   "mimetype": "text/x-python",
   "name": "python",
   "nbconvert_exporter": "python",
   "pygments_lexer": "ipython3",
   "version": "3.6.3"
  }
 },
 "nbformat": 4,
 "nbformat_minor": 2
}
