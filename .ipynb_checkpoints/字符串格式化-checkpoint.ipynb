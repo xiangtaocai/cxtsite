{
 "cells": [
  {
   "cell_type": "markdown",
   "metadata": {},
   "source": [
    "#字符串\n",
    "-转义字符\n",
    "-格式化\n",
    "-内建函数（后延）\n",
    "    -转义字符，表示不方便表示的东西\n",
    "        -一旦出现反斜杠加倍小心，可能有转义，不同系统对换行有不同的表示\n",
    "       "
   ]
  },
  {
   "cell_type": "code",
   "execution_count": 2,
   "metadata": {},
   "outputs": [
    {
     "name": "stdout",
     "output_type": "stream",
     "text": [
      "i love xixiaojing\n"
     ]
    }
   ],
   "source": [
    "s=(\"i love xixiaojing\")\n",
    "print(s)"
   ]
  },
  {
   "cell_type": "code",
   "execution_count": 6,
   "metadata": {},
   "outputs": [
    {
     "name": "stdout",
     "output_type": "stream",
     "text": [
      "let's go\n",
      "let's go\n",
      "c:\\user\n",
      "飞流直下三千尺\r\n",
      "疑是银河落九天\n"
     ]
    }
   ],
   "source": [
    "#如果想表示出let's go \n",
    "#-可以嵌套双引号\n",
    "s=\"let's go\"\n",
    "print(s)\n",
    "#-也可以转义字符,\\'='\n",
    "s = 'let\\'s go'\n",
    "print(s)\n",
    "#双反斜杠代表一个反斜杠\\\\=\\\n",
    "s='c:\\\\user'\n",
    "print(s)\n",
    "#回城换行\\r\\n\n",
    "s=\"飞流直下三千尺\\r\\n疑是银河落九天\"\n",
    "print(s)"
   ]
  },
  {
   "cell_type": "markdown",
   "metadata": {},
   "source": [
    "#字符串的格式化\n",
    "    -把字符串按照一定的格式打印出来或者填充\n",
    "    -格式化有两种方法\n",
    "        -%，表示特殊含义，对字符格式化\n",
    "            -%d:此处是整数\n",
    "            -%s:表示此处放一个字符串\n",
    "        -Format函数\n",
    "        "
   ]
  },
  {
   "cell_type": "code",
   "execution_count": 7,
   "metadata": {},
   "outputs": [
    {
     "name": "stdout",
     "output_type": "stream",
     "text": [
      "I love %s\n"
     ]
    }
   ],
   "source": [
    "s=\"I love %s\"\n",
    "print(s)"
   ]
  },
  {
   "cell_type": "code",
   "execution_count": 11,
   "metadata": {},
   "outputs": [
    {
     "name": "stdout",
     "output_type": "stream",
     "text": [
      "I love wangxiaojing\n"
     ]
    }
   ],
   "source": [
    "s='I love %s'\n",
    "print(s %\"wangxiaojing\")"
   ]
  },
  {
   "cell_type": "code",
   "execution_count": 15,
   "metadata": {},
   "outputs": [
    {
     "name": "stdout",
     "output_type": "stream",
     "text": [
      "I love wangjing\n"
     ]
    }
   ],
   "source": [
    "s='I love %s'%\"wangjing\"\n",
    "print(s)"
   ]
  },
  {
   "cell_type": "code",
   "execution_count": 16,
   "metadata": {},
   "outputs": [
    {
     "name": "stdout",
     "output_type": "stream",
     "text": [
      "I am %d years old\n"
     ]
    }
   ],
   "source": [
    "s='I am %d years old'\n",
    "print(s)"
   ]
  },
  {
   "cell_type": "code",
   "execution_count": 18,
   "metadata": {},
   "outputs": [
    {
     "name": "stdout",
     "output_type": "stream",
     "text": [
      "I am 21 years old\n"
     ]
    }
   ],
   "source": [
    "s='I am %d years old'%21\n",
    "print(s)"
   ]
  },
  {
   "cell_type": "code",
   "execution_count": 21,
   "metadata": {},
   "outputs": [
    {
     "name": "stdout",
     "output_type": "stream",
     "text": [
      "I am %s,i am %d years old\n",
      "I am caixiangtao,i am 18 years old\n"
     ]
    },
    {
     "ename": "TypeError",
     "evalue": "not enough arguments for format string",
     "output_type": "error",
     "traceback": [
      "\u001b[0;31m---------------------------------------------------------------------------\u001b[0m",
      "\u001b[0;31mTypeError\u001b[0m                                 Traceback (most recent call last)",
      "\u001b[0;32m<ipython-input-21-ab4dbd52b4b2>\u001b[0m in \u001b[0;36m<module>\u001b[0;34m()\u001b[0m\n\u001b[1;32m      3\u001b[0m \u001b[0mprint\u001b[0m\u001b[0;34m(\u001b[0m\u001b[0ms\u001b[0m\u001b[0;34m)\u001b[0m\u001b[0;34m\u001b[0m\u001b[0m\n\u001b[1;32m      4\u001b[0m \u001b[0mprint\u001b[0m\u001b[0;34m(\u001b[0m\u001b[0ms\u001b[0m\u001b[0;34m%\u001b[0m\u001b[0;34m(\u001b[0m\u001b[0;34m\"caixiangtao\"\u001b[0m\u001b[0;34m,\u001b[0m\u001b[0;36m18\u001b[0m\u001b[0;34m)\u001b[0m\u001b[0;34m)\u001b[0m\u001b[0;34m\u001b[0m\u001b[0m\n\u001b[0;32m----> 5\u001b[0;31m \u001b[0mprint\u001b[0m\u001b[0;34m(\u001b[0m\u001b[0ms\u001b[0m\u001b[0;34m%\u001b[0m\u001b[0;36m18\u001b[0m\u001b[0;34m)\u001b[0m\u001b[0;34m\u001b[0m\u001b[0m\n\u001b[0m",
      "\u001b[0;31mTypeError\u001b[0m: not enough arguments for format string"
     ]
    }
   ],
   "source": [
    "#几个占位符就必须用几个实际能容代替，否则报错，并且多个占位符的内容需要括号括起来。\n",
    "s='I am %s,i am %d years old'\n",
    "print(s)\n",
    "print(s%(\"caixiangtao\",18))\n",
    "print(s%18)"
   ]
  },
  {
   "cell_type": "markdown",
   "metadata": {},
   "source": [
    "#Format函数格式化\n",
    "#推荐使用此方法\n",
    "#以{}和：代替%，后面用.Format函数带括号完成, 从0开始,:未知"
   ]
  },
  {
   "cell_type": "code",
   "execution_count": 34,
   "metadata": {},
   "outputs": [
    {
     "name": "stdout",
     "output_type": "stream",
     "text": [
      "i love Jiaxiaxia\n",
      "i am 25 years old,i love jiaxiaxia\n"
     ]
    }
   ],
   "source": [
    "s='i love {}'.format(\"Jiaxiaxia\")\n",
    "print(s)\n",
    "s='i am {1} years old,i love {0}'.format('jiaxiaxia',25)\n",
    "print(s)"
   ]
  },
  {
   "cell_type": "markdown",
   "metadata": {},
   "source": [
    "##none\n",
    "    -表示什么都没有，如果函数没有返回值，可以用none.\n",
    "    -用来占位\n",
    "    -用来接触变量绑定？？？？"
   ]
  },
  {
   "cell_type": "markdown",
   "metadata": {},
   "source": [
    "#表达式\n",
    "    -又一个或者几个数字或者变量和运算符组合在一起的一行代码\n",
    "    -通常返回结果\n",
    "#运算符（么有自增自减运算）\n",
    "    -分类\n",
    "        -算数\n",
    "        -比较\n",
    "        -赋值运算\n",
    "        -位运算\n",
    "        -成员运算\n",
    "        -身份运算\n",
    "        -逻辑运算\n",
    "       "
   ]
  },
  {
   "cell_type": "code",
   "execution_count": 40,
   "metadata": {},
   "outputs": [
    {
     "name": "stdout",
     "output_type": "stream",
     "text": [
      "4.5\n",
      "3\n",
      "1\n",
      "16\n"
     ]
    }
   ],
   "source": [
    "#+-和正常运算一样，乘号*，除号/(除号py2和py3不一样)\n",
    "#%取余,只得到余数\n",
    "#//表示取商数\n",
    "#**表示幂运算\n",
    "a=9+3-2*5+5/2\n",
    "print(a)\n",
    "a=9+3-2*5+5%2\n",
    "print(a)\n",
    "a=9//5\n",
    "print(a)\n",
    "a=2**4\n",
    "print(a)"
   ]
  },
  {
   "cell_type": "code",
   "execution_count": null,
   "metadata": {
    "collapsed": true
   },
   "outputs": [],
   "source": [
    "###比较运算\n",
    "-对两个值或者变量比较\n",
    "    -比较的结果是布尔值，即Ture/false\n",
    "        \n",
    "        "
   ]
  },
  {
   "cell_type": "code",
   "execution_count": 41,
   "metadata": {},
   "outputs": [
    {
     "name": "stdout",
     "output_type": "stream",
     "text": [
      "False\n"
     ]
    }
   ],
   "source": [
    "#==,等号\n",
    "a=3**4\n",
    "#执行顺序\n",
    "#1，计算a==80\n",
    "#2，把结果赋予b\n",
    "b=a==80\n",
    "print(b)"
   ]
  },
  {
   "cell_type": "code",
   "execution_count": 47,
   "metadata": {},
   "outputs": [
    {
     "name": "stdout",
     "output_type": "stream",
     "text": [
      "True\n"
     ]
    }
   ],
   "source": [
    "#!=不等于\n",
    "print(9!=8)"
   ]
  },
  {
   "cell_type": "markdown",
   "metadata": {},
   "source": [
    "#>\n",
    "#<\n",
    "#>=\n",
    "#<="
   ]
  },
  {
   "cell_type": "code",
   "execution_count": 48,
   "metadata": {},
   "outputs": [
    {
     "name": "stdout",
     "output_type": "stream",
     "text": [
      "8\n"
     ]
    }
   ],
   "source": [
    "#赋值运算\n",
    "# =\n",
    "a=1\n",
    "c=b=9\n",
    "#+=，是缩写\n",
    "a+=7#a=a+7\n",
    "print(a)\n",
    "#所有的数学运算符都有缩写形式\n",
    "#-= *= /= //= %= **=，都是缩写"
   ]
  },
  {
   "cell_type": "code",
   "execution_count": 49,
   "metadata": {},
   "outputs": [
    {
     "name": "stdout",
     "output_type": "stream",
     "text": [
      "8\n",
      "16\n",
      "5.333333333333333\n",
      "2.0\n",
      "2.0\n",
      "4.0\n"
     ]
    }
   ],
   "source": [
    "a=9\n",
    "a-=1\n",
    "print(a)\n",
    "a*=2\n",
    "print(a)\n",
    "a/=3\n",
    "print(a)\n",
    "a//=2\n",
    "print(a)\n",
    "a%=4\n",
    "print(a)\n",
    "a**=2\n",
    "print(a)"
   ]
  },
  {
   "cell_type": "code",
   "execution_count": 55,
   "metadata": {},
   "outputs": [
    {
     "name": "stdout",
     "output_type": "stream",
     "text": [
      "8\n",
      "18\n",
      "3.0\n",
      "4\n",
      "1\n",
      "81\n"
     ]
    }
   ],
   "source": [
    "a=b=c=d=e=f=9\n",
    "a-=1\n",
    "print(a)\n",
    "b*=2\n",
    "print(b)\n",
    "c/=3\n",
    "print(c)\n",
    "d//=2\n",
    "print(d)\n",
    "e%=4\n",
    "print(e)\n",
    "f**=2\n",
    "print(f)"
   ]
  },
  {
   "cell_type": "markdown",
   "metadata": {},
   "source": [
    "#逻辑运算符\n",
    "-对布尔值进行运算\n",
    "-and逻辑与\n",
    "-or逻辑或\n",
    "-not逻辑非\n",
    "python中逻辑运算没有异或运算\n",
    "    -运算规则\n",
    "        -and是乘，or是加，Ture是1，False是0\n",
    "        -结果为0是False,结果为1是Ture\n",
    "-逻辑运算的短路问题\n",
    "-根据运算顺序，一旦确定了式子的值，不在继续计算下去。"
   ]
  },
  {
   "cell_type": "code",
   "execution_count": 64,
   "metadata": {},
   "outputs": [
    {
     "name": "stdout",
     "output_type": "stream",
     "text": [
      "False\n",
      "True\n",
      "True\n",
      "False\n"
     ]
    }
   ],
   "source": [
    "a=True\n",
    "b=False\n",
    "c=True\n",
    "e=False\n",
    "d=a and b and c\n",
    "print(d)\n",
    "d=a or b and c\n",
    "print(d)\n",
    "d=a or b or c\n",
    "print(d)\n",
    "d=b and e\n",
    "print(d)\n"
   ]
  },
  {
   "cell_type": "code",
   "execution_count": 66,
   "metadata": {},
   "outputs": [
    {
     "name": "stdout",
     "output_type": "stream",
     "text": [
      "True\n"
     ]
    }
   ],
   "source": [
    "#-逻辑运算的短路问题\n",
    "#下列a的值一定是ture,运算到or时，不在向下计算\n",
    "a=True or ddddd\n",
    "print(a)\n",
    "#如果运算式中包含赋值表达式，结果很慢预期"
   ]
  },
  {
   "cell_type": "markdown",
   "metadata": {},
   "source": [
    "#成员运算符\n",
    "-用来检测某一个变量是否属于另一个变量的成员\n",
    "-in\n",
    "-not in "
   ]
  },
  {
   "cell_type": "code",
   "execution_count": 73,
   "metadata": {},
   "outputs": [
    {
     "name": "stdout",
     "output_type": "stream",
     "text": [
      "False\n",
      "True\n",
      "False\n"
     ]
    }
   ],
   "source": [
    "l=[1,2,3,4,5]\n",
    "a=7\n",
    "b=a in l\n",
    "print(b)\n",
    "a=3\n",
    "\n",
    "print(a in l)\n",
    "a=5\n",
    "\n",
    "print(a not in l)"
   ]
  },
  {
   "cell_type": "markdown",
   "metadata": {},
   "source": [
    "#身份运算\n",
    "-is 用来检测两个变量是否是同一个变量\n",
    "    -语法就是var1 is var2\n",
    "-is not 用来检测两个变量是否是同一变量\n",
    "    "
   ]
  },
  {
   "cell_type": "code",
   "execution_count": 74,
   "metadata": {},
   "outputs": [
    {
     "name": "stdout",
     "output_type": "stream",
     "text": [
      "True\n"
     ]
    }
   ],
   "source": [
    "a=1\n",
    "b=1\n",
    "c=a is b\n",
    "print(c)"
   ]
  },
  {
   "cell_type": "code",
   "execution_count": 76,
   "metadata": {},
   "outputs": [
    {
     "name": "stdout",
     "output_type": "stream",
     "text": [
      "True\n"
     ]
    }
   ],
   "source": [
    "a=1\n",
    "b=1\n",
    "print(1 is 1)"
   ]
  },
  {
   "cell_type": "code",
   "execution_count": null,
   "metadata": {
    "collapsed": true
   },
   "outputs": [],
   "source": []
  },
  {
   "cell_type": "code",
   "execution_count": null,
   "metadata": {
    "collapsed": true
   },
   "outputs": [],
   "source": []
  }
 ],
 "metadata": {
  "kernelspec": {
   "display_name": "Python 3",
   "language": "python",
   "name": "python3"
  },
  "language_info": {
   "codemirror_mode": {
    "name": "ipython",
    "version": 3
   },
   "file_extension": ".py",
   "mimetype": "text/x-python",
   "name": "python",
   "nbconvert_exporter": "python",
   "pygments_lexer": "ipython3",
   "version": "3.6.3"
  }
 },
 "nbformat": 4,
 "nbformat_minor": 2
}
