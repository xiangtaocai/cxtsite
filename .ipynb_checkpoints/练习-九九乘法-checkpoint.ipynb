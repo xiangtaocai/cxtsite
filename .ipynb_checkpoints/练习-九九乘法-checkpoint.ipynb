{
 "cells": [
  {
   "cell_type": "code",
   "execution_count": 3,
   "metadata": {},
   "outputs": [
    {
     "name": "stdout",
     "output_type": "stream",
     "text": [
      "1 ...\n",
      "2 4 ...\n",
      "3 6 9 ...\n",
      "4 8 12 16 ...\n",
      "5 10 15 20 25 ...\n",
      "6 12 18 24 30 36 ...\n",
      "7 14 21 28 35 42 49 ...\n",
      "8 16 24 32 40 48 56 64 ...\n",
      "9 18 27 36 45 54 63 72 81 ...\n"
     ]
    }
   ],
   "source": [
    "#九九乘法表\n",
    "for row in range(1,10):\n",
    "    for col in range(1,row+1):\n",
    "        print(row*col,end=\" \")\n",
    "    print(\"...\")#print本身就有换行的功能"
   ]
  },
  {
   "cell_type": "code",
   "execution_count": 10,
   "metadata": {},
   "outputs": [
    {
     "name": "stdout",
     "output_type": "stream",
     "text": [
      "1 \n",
      "2 4 \n",
      "3 6 9 \n",
      "4 8 12 16 \n",
      "5 10 15 20 25 \n",
      "6 12 18 24 30 36 \n",
      "7 14 21 28 35 42 49 \n",
      "8 16 24 32 40 48 56 64 \n",
      "9 18 27 36 45 54 63 72 81 \n"
     ]
    }
   ],
   "source": [
    "#九九乘法表\n",
    "def printline(row):\n",
    "    for col in range(1,row+1):\n",
    "        print(row*col,end=\" \")\n",
    "    print(\"\")\n",
    "for row in range(1,10):\n",
    "    printline(row)\n",
    "    "
   ]
  },
  {
   "cell_type": "code",
   "execution_count": null,
   "metadata": {
    "collapsed": true
   },
   "outputs": [],
   "source": []
  }
 ],
 "metadata": {
  "kernelspec": {
   "display_name": "Python 3",
   "language": "python",
   "name": "python3"
  },
  "language_info": {
   "codemirror_mode": {
    "name": "ipython",
    "version": 3
   },
   "file_extension": ".py",
   "mimetype": "text/x-python",
   "name": "python",
   "nbconvert_exporter": "python",
   "pygments_lexer": "ipython3",
   "version": "3.6.3"
  }
 },
 "nbformat": 4,
 "nbformat_minor": 2
}
