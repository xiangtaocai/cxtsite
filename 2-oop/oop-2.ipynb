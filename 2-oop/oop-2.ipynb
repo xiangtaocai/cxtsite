{
 "cells": [
  {
   "cell_type": "code",
   "execution_count": 2,
   "metadata": {},
   "outputs": [
    {
     "name": "stdout",
     "output_type": "stream",
     "text": [
      "My name is aaaa\n",
      "I am 200\n"
     ]
    }
   ],
   "source": [
    "class Student():\n",
    "    name = 'dana'\n",
    "    age = 18\n",
    "    \n",
    "    \n",
    "    def say(self):\n",
    "        self.name = 'aaaa'\n",
    "        self.age = 200\n",
    "        print(\"My name is {}\".format(self.name))\n",
    "        print(\"I am {}\".format(self.age))\n",
    "        \n",
    "yueyue = Student()\n",
    "yueyue.say()\n",
    "    "
   ]
  },
  {
   "cell_type": "code",
   "execution_count": 4,
   "metadata": {},
   "outputs": [
    {
     "name": "stdout",
     "output_type": "stream",
     "text": [
      "My name is nana\n",
      "I am 45\n"
     ]
    },
    {
     "ename": "TypeError",
     "evalue": "sayagain() takes 0 positional arguments but 1 was given",
     "output_type": "error",
     "traceback": [
      "\u001b[0;31m---------------------------------------------------------------------------\u001b[0m",
      "\u001b[0;31mTypeError\u001b[0m                                 Traceback (most recent call last)",
      "\u001b[0;32m<ipython-input-4-aed1e81000f0>\u001b[0m in \u001b[0;36m<module>\u001b[0;34m()\u001b[0m\n\u001b[1;32m     13\u001b[0m \u001b[0mt\u001b[0m \u001b[0;34m=\u001b[0m \u001b[0mTeacher\u001b[0m\u001b[0;34m(\u001b[0m\u001b[0;34m)\u001b[0m\u001b[0;34m\u001b[0m\u001b[0m\n\u001b[1;32m     14\u001b[0m \u001b[0mt\u001b[0m\u001b[0;34m.\u001b[0m\u001b[0msay\u001b[0m\u001b[0;34m(\u001b[0m\u001b[0;34m)\u001b[0m\u001b[0;34m\u001b[0m\u001b[0m\n\u001b[0;32m---> 15\u001b[0;31m \u001b[0mt\u001b[0m\u001b[0;34m.\u001b[0m\u001b[0msayagain\u001b[0m\u001b[0;34m(\u001b[0m\u001b[0;34m)\u001b[0m\u001b[0;34m\u001b[0m\u001b[0m\n\u001b[0m",
      "\u001b[0;31mTypeError\u001b[0m: sayagain() takes 0 positional arguments but 1 was given"
     ]
    }
   ],
   "source": [
    "class Teacher():\n",
    "    \n",
    "    name = 'nana'\n",
    "    age = 45\n",
    "    \n",
    "    def say(self):\n",
    "        print(\"My name is {}\".format(self.name))\n",
    "        print(\"I am {}\".format(self.age))\n",
    "        \n",
    "    def sayagain():\n",
    "        print(\"Nice to meet you.\")\n",
    "        \n",
    "t = Teacher()\n",
    "t.say()\n",
    "#没有self的绑定类方法只能通过类调用。不能通过对象调用。\n",
    "t.sayagain()\n"
   ]
  },
  {
   "cell_type": "code",
   "execution_count": 17,
   "metadata": {},
   "outputs": [
    {
     "name": "stdout",
     "output_type": "stream",
     "text": [
      "My name is gougou\n",
      "I am 45\n",
      "Nice to meet you.\n",
      "nana\n",
      "45\n"
     ]
    }
   ],
   "source": [
    "class Teacher():\n",
    "    \n",
    "    name = 'nana'\n",
    "    age = 45\n",
    "    \n",
    "    def say(self):\n",
    "        self.name = 'gougou'\n",
    "        self.age = 55\n",
    "        print(\"My name is {}\".format(self.name))\n",
    "        print(\"I am {}\".format(__class__.age))\n",
    "        \n",
    "    def sayagain():\n",
    "        print(\"Nice to meet you.\")\n",
    "        \n",
    "        #绑定类的访问\n",
    "        print(__class__.name)\n",
    "        print(__class__.age)\n",
    "        \n",
    "t = Teacher()\n",
    "t.say()\n",
    "#没有self的绑定类方法只能通过类调用。不能通过对象调用。\n",
    "Teacher.sayagain()\n"
   ]
  },
  {
   "cell_type": "code",
   "execution_count": 13,
   "metadata": {},
   "outputs": [
    {
     "name": "stdout",
     "output_type": "stream",
     "text": [
      "aaaa\n",
      "45\n",
      "aaaa\n",
      "45\n",
      "liuying\n",
      "18\n",
      "bbbb\n",
      "85\n"
     ]
    }
   ],
   "source": [
    "class A():\n",
    "    name = \"liuying\"\n",
    "    age = 18\n",
    "    def __init__(self):\n",
    "        self.name = 'aaaa'\n",
    "        self.age = 45\n",
    "        \n",
    "    def say(self):\n",
    "        print(self.name)\n",
    "        print(self.age)\n",
    "        \n",
    "        \n",
    "class B():\n",
    "    name = 'bbbb'\n",
    "    age = 85\n",
    "    \n",
    "    \n",
    "#此时，系统会默认把ａ作为第一个参数传入函数\n",
    "a = A()\n",
    "a.say()\n",
    "#此时ｓｅｌｆ被a替换\n",
    "A.say(a)\n",
    "#同样可以把A作为参数传入\n",
    "A.say(A)\n",
    "#那么传入类实例Ｂ呢？\n",
    "A.say(B)"
   ]
  },
  {
   "cell_type": "code",
   "execution_count": 19,
   "metadata": {},
   "outputs": [
    {
     "name": "stdout",
     "output_type": "stream",
     "text": [
      "taotao\n"
     ]
    },
    {
     "ename": "AttributeError",
     "evalue": "'Person' object has no attribute '__age'",
     "output_type": "error",
     "traceback": [
      "\u001b[0;31m---------------------------------------------------------------------------\u001b[0m",
      "\u001b[0;31mAttributeError\u001b[0m                            Traceback (most recent call last)",
      "\u001b[0;32m<ipython-input-19-c9a1bfda8605>\u001b[0m in \u001b[0;36m<module>\u001b[0;34m()\u001b[0m\n\u001b[1;32m      5\u001b[0m \u001b[0;34m\u001b[0m\u001b[0m\n\u001b[1;32m      6\u001b[0m \u001b[0mprint\u001b[0m\u001b[0;34m(\u001b[0m\u001b[0mp\u001b[0m\u001b[0;34m.\u001b[0m\u001b[0mname\u001b[0m\u001b[0;34m)\u001b[0m\u001b[0;34m\u001b[0m\u001b[0m\n\u001b[0;32m----> 7\u001b[0;31m \u001b[0mprint\u001b[0m\u001b[0;34m(\u001b[0m\u001b[0mp\u001b[0m\u001b[0;34m.\u001b[0m\u001b[0m__age\u001b[0m\u001b[0;34m)\u001b[0m\u001b[0;34m\u001b[0m\u001b[0m\n\u001b[0m",
      "\u001b[0;31mAttributeError\u001b[0m: 'Person' object has no attribute '__age'"
     ]
    }
   ],
   "source": [
    "class Person():\n",
    "    name = \"taotao\"\n",
    "    __age = 45\n",
    "p = Person()    \n",
    "\n",
    "print(p.name)\n",
    "print(p.__age)"
   ]
  },
  {
   "cell_type": "code",
   "execution_count": 22,
   "metadata": {},
   "outputs": [
    {
     "name": "stdout",
     "output_type": "stream",
     "text": [
      "taotao\n",
      "{'__module__': '__main__', 'name': 'taotao', '_Person__age': 45, '__dict__': <attribute '__dict__' of 'Person' objects>, '__weakref__': <attribute '__weakref__' of 'Person' objects>, '__doc__': None}\n",
      "45\n"
     ]
    }
   ],
   "source": [
    "class Person():\n",
    "    name = \"taotao\"\n",
    "    __age = 45\n",
    "p = Person()    \n",
    "\n",
    "print(p.name)\n",
    "print(Person.__dict__)\n",
    "#可以用_classname__attribute name进行访问私有变量\n",
    "print(p._Person__age)"
   ]
  },
  {
   "cell_type": "code",
   "execution_count": 23,
   "metadata": {},
   "outputs": [
    {
     "name": "stdout",
     "output_type": "stream",
     "text": [
      "taotao\n",
      "45\n"
     ]
    }
   ],
   "source": [
    "class Person():\n",
    "    name = \"taotao\"\n",
    "    _age = 45\n",
    "p = Person()    \n",
    "#??????\n",
    "print(p.name)\n",
    "print(p._age)"
   ]
  },
  {
   "cell_type": "code",
   "execution_count": 26,
   "metadata": {},
   "outputs": [
    {
     "name": "stdout",
     "output_type": "stream",
     "text": [
      "cxt\n",
      "cxt\n",
      "20\n"
     ]
    }
   ],
   "source": [
    "class Person():\n",
    "    name = 'cxt'\n",
    "    age = 20\n",
    "    def sleep():\n",
    "        print(\"I am tired and want to go to sleep.\")\n",
    "class Teacher(Person):\n",
    "    pass\n",
    "\n",
    "\n",
    "t = Teacher()\n",
    "print(t.name)\n",
    "print(Teacher.name)\n",
    "print(t.age)\n"
   ]
  },
  {
   "cell_type": "code",
   "execution_count": 30,
   "metadata": {},
   "outputs": [
    {
     "name": "stdout",
     "output_type": "stream",
     "text": [
      "shao\n",
      "shao\n",
      "20\n",
      "9527\n"
     ]
    }
   ],
   "source": [
    "class Person():\n",
    "    name = 'cxt'\n",
    "    _age = 20\n",
    "    def sleep():\n",
    "        print(\"I am tired and want to go to sleep.\")\n",
    "class Teacher(Person):\n",
    "    teacher_id = 9527\n",
    "    name = 'shao'\n",
    "\n",
    "\n",
    "t = Teacher()\n",
    "print(t.name)\n",
    "print(Teacher.name)\n",
    "print(t._age)\n",
    "print(t.teacher_id)\n"
   ]
  },
  {
   "cell_type": "code",
   "execution_count": 28,
   "metadata": {},
   "outputs": [
    {
     "name": "stdout",
     "output_type": "stream",
     "text": [
      "cxt\n",
      "cxt\n"
     ]
    },
    {
     "ename": "AttributeError",
     "evalue": "'Teacher' object has no attribute '__age'",
     "output_type": "error",
     "traceback": [
      "\u001b[0;31m---------------------------------------------------------------------------\u001b[0m",
      "\u001b[0;31mAttributeError\u001b[0m                            Traceback (most recent call last)",
      "\u001b[0;32m<ipython-input-28-4cd7659bd188>\u001b[0m in \u001b[0;36m<module>\u001b[0;34m()\u001b[0m\n\u001b[1;32m     11\u001b[0m \u001b[0mprint\u001b[0m\u001b[0;34m(\u001b[0m\u001b[0mt\u001b[0m\u001b[0;34m.\u001b[0m\u001b[0mname\u001b[0m\u001b[0;34m)\u001b[0m\u001b[0;34m\u001b[0m\u001b[0m\n\u001b[1;32m     12\u001b[0m \u001b[0mprint\u001b[0m\u001b[0;34m(\u001b[0m\u001b[0mTeacher\u001b[0m\u001b[0;34m.\u001b[0m\u001b[0mname\u001b[0m\u001b[0;34m)\u001b[0m\u001b[0;34m\u001b[0m\u001b[0m\n\u001b[0;32m---> 13\u001b[0;31m \u001b[0mprint\u001b[0m\u001b[0;34m(\u001b[0m\u001b[0mt\u001b[0m\u001b[0;34m.\u001b[0m\u001b[0m__age\u001b[0m\u001b[0;34m)\u001b[0m\u001b[0;34m\u001b[0m\u001b[0m\n\u001b[0m",
      "\u001b[0;31mAttributeError\u001b[0m: 'Teacher' object has no attribute '__age'"
     ]
    }
   ],
   "source": [
    "class Person():\n",
    "    name = 'cxt'\n",
    "    __age = 20\n",
    "    def sleep():\n",
    "        print(\"I am tired and want to go to sleep.\")\n",
    "class Teacher(Person):\n",
    "    \n",
    "    pass\n",
    "\n",
    "\n",
    "t = Teacher()\n",
    "print(t.name)\n",
    "print(Teacher.name)\n",
    "print(t.__age)"
   ]
  },
  {
   "cell_type": "code",
   "execution_count": 35,
   "metadata": {},
   "outputs": [
    {
     "name": "stdout",
     "output_type": "stream",
     "text": [
      "wangwang\n",
      "wangwang\n",
      "angle is a bird\n",
      "bad man is a animal,it is 25 years old\n"
     ]
    }
   ],
   "source": [
    "#构造函数的概念\n",
    "class Animal():\n",
    "    def __init__(self,name,age):\n",
    "        print(\"{} is a animal,it is {} years old\".format(name,age))\n",
    "        \n",
    "        \n",
    "class Fly(Animal):\n",
    "    def __init__(self,name):\n",
    "        print(\"{} is a bird\".format(name))\n",
    "        \n",
    "        \n",
    "class Dog(Fly):\n",
    "    def __init__(self):\n",
    "        print('wangwang')\n",
    "        \n",
    "        \n",
    "class Cat(Dog):\n",
    "    pass\n",
    "#没定义往上找\n",
    "a = Cat()\n",
    "#定义了找自己的构造函数\n",
    "\n",
    "b = Dog()\n",
    "#参数要匹配,不多也不少\n",
    "c = Fly('angle')\n",
    "\n",
    "d = Animal('bad man',25)"
   ]
  },
  {
   "cell_type": "code",
   "execution_count": 38,
   "metadata": {},
   "outputs": [
    {
     "name": "stdout",
     "output_type": "stream",
     "text": [
      "<class 'type'>\n",
      "Help on class super in module builtins:\n",
      "\n",
      "class super(object)\n",
      " |  super() -> same as super(__class__, <first argument>)\n",
      " |  super(type) -> unbound super object\n",
      " |  super(type, obj) -> bound super object; requires isinstance(obj, type)\n",
      " |  super(type, type2) -> bound super object; requires issubclass(type2, type)\n",
      " |  Typical use to call a cooperative superclass method:\n",
      " |  class C(B):\n",
      " |      def meth(self, arg):\n",
      " |          super().meth(arg)\n",
      " |  This works for class methods too:\n",
      " |  class C(B):\n",
      " |      @classmethod\n",
      " |      def cmeth(cls, arg):\n",
      " |          super().cmeth(arg)\n",
      " |  \n",
      " |  Methods defined here:\n",
      " |  \n",
      " |  __get__(self, instance, owner, /)\n",
      " |      Return an attribute of instance, which is of type owner.\n",
      " |  \n",
      " |  __getattribute__(self, name, /)\n",
      " |      Return getattr(self, name).\n",
      " |  \n",
      " |  __init__(self, /, *args, **kwargs)\n",
      " |      Initialize self.  See help(type(self)) for accurate signature.\n",
      " |  \n",
      " |  __new__(*args, **kwargs) from builtins.type\n",
      " |      Create and return a new object.  See help(type) for accurate signature.\n",
      " |  \n",
      " |  __repr__(self, /)\n",
      " |      Return repr(self).\n",
      " |  \n",
      " |  ----------------------------------------------------------------------\n",
      " |  Data descriptors defined here:\n",
      " |  \n",
      " |  __self__\n",
      " |      the instance invoking super(); may be None\n",
      " |  \n",
      " |  __self_class__\n",
      " |      the type of the instance invoking super(); may be None\n",
      " |  \n",
      " |  __thisclass__\n",
      " |      the class invoking super()\n",
      "\n"
     ]
    }
   ],
   "source": [
    "print(type(super))\n",
    "help(super)"
   ]
  },
  {
   "cell_type": "code",
   "execution_count": 43,
   "metadata": {},
   "outputs": [
    {
     "name": "stdout",
     "output_type": "stream",
     "text": [
      "hahhhhhah\n"
     ]
    }
   ],
   "source": [
    "class Person():\n",
    "    def __init__(self,name,age,address):\n",
    "        self.name = 'nann'\n",
    "        self.age = 45\n",
    "        self.address = 'beijing'\n",
    "        print(\"hahhhhhah\")\n",
    "        \n",
    "p = Person(1,2,3)"
   ]
  },
  {
   "cell_type": "code",
   "execution_count": 46,
   "metadata": {},
   "outputs": [
    {
     "name": "stdout",
     "output_type": "stream",
     "text": [
      "人正在走\n",
      "pig is walking\n",
      "dog is running\n"
     ]
    }
   ],
   "source": [
    "class Animal:\n",
    "    def run(self):\n",
    "        raise AttributeError('子类必须实现这个方法')\n",
    " \n",
    " \n",
    "class People(Animal):\n",
    "    def run(self):\n",
    "        print('人正在走')\n",
    " \n",
    "class Pig(Animal):\n",
    "    def run(self):\n",
    "        print('pig is walking')\n",
    " \n",
    " \n",
    "class Dog(Animal):\n",
    "    def run(self):\n",
    "        print('dog is running')\n",
    " \n",
    "peo1=People()\n",
    "pig1=Pig()\n",
    "d1=Dog()\n",
    " \n",
    "peo1.run()\n",
    "pig1.run()\n",
    "d1.run()"
   ]
  },
  {
   "cell_type": "code",
   "execution_count": 47,
   "metadata": {},
   "outputs": [
    {
     "name": "stdout",
     "output_type": "stream",
     "text": [
      "人正在走\n",
      "pig is walking\n",
      "dog is running\n",
      "人正在走\n",
      "pig is walking\n",
      "dog is running\n"
     ]
    }
   ],
   "source": [
    "def func(obj):\n",
    "    obj.run()\n",
    " \n",
    "func(peo1)\n",
    "func(pig1)\n",
    "func(d1)\n",
    " \n",
    " \n",
    "# peo1.run()\n",
    "# pig1.run()\n",
    " \n",
    " \n",
    "# 多态性依赖于：继承\n",
    "##多态性：定义统一的接口，\n",
    "def func(obj): #obj这个参数没有类型限制，可以传入不同类型的值\n",
    "    obj.run() #调用的逻辑都一样，执行的结果却不一样\n",
    " \n",
    "func(peo1)\n",
    "func(pig1)\n",
    " \n",
    "func(d1)"
   ]
  },
  {
   "cell_type": "code",
   "execution_count": 54,
   "metadata": {},
   "outputs": [
    {
     "name": "stdout",
     "output_type": "stream",
     "text": [
      "say hello\n",
      "say wangwang\n",
      "say aoao\n",
      "say miao\n"
     ]
    }
   ],
   "source": [
    "import abc\n",
    "class Animal(metaclass=abc.ABCMeta): #同一类事物:动物\n",
    "    @abc.abstractmethod\n",
    "    def talk(self):\n",
    "        pass\n",
    " \n",
    "class People(Animal): #动物的形态之一:人\n",
    "    def talk(self):\n",
    "        print('say hello')\n",
    " \n",
    "class Dog(Animal): #动物的形态之二:狗\n",
    "    def talk(self):\n",
    "        print('say wangwang')\n",
    " \n",
    "class Pig(Animal): #动物的形态之三:猪\n",
    "    def talk(self):\n",
    "        print('say aoao')\n",
    "peo=People()\n",
    "dog=Dog()\n",
    "pig=Pig()\n",
    " \n",
    "#peo、dog、pig都是动物,只要是动物肯定有talk方法\n",
    "#于是我们可以不用考虑它们三者的具体是什么类型,而直接使用\n",
    "peo.talk()\n",
    "dog.talk()\n",
    "pig.talk()\n",
    " \n",
    "#更进一步,我们可以定义一个统一的接口来使用\n",
    "#def func(obj):\n",
    "    #obj.talk()\n",
    "    \n",
    "    \n",
    "class Cat(Animal): #属于动物的另外一种形态：猫\n",
    "        \n",
    "    def talk(self):\n",
    "        \n",
    "        print('say miao')\n",
    "\n",
    "def func(animal): #对于使用者来说，自己的代码根本无需改动\n",
    "    animal.talk()\n",
    "cat1=Cat() #实例出一只猫\n",
    "func(cat1) #甚至连调用方式也无需改变，就能调用猫的talk功能\n"
   ]
  },
  {
   "cell_type": "code",
   "execution_count": null,
   "metadata": {
    "collapsed": true
   },
   "outputs": [],
   "source": []
  }
 ],
 "metadata": {
  "kernelspec": {
   "display_name": "Python 3",
   "language": "python",
   "name": "python3"
  },
  "language_info": {
   "codemirror_mode": {
    "name": "ipython",
    "version": 3
   },
   "file_extension": ".py",
   "mimetype": "text/x-python",
   "name": "python",
   "nbconvert_exporter": "python",
   "pygments_lexer": "ipython3",
   "version": "3.6.3"
  }
 },
 "nbformat": 4,
 "nbformat_minor": 2
}
