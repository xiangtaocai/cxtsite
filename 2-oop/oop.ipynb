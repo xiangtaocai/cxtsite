{
 "cells": [
  {
   "cell_type": "code",
   "execution_count": 2,
   "metadata": {},
   "outputs": [
    {
     "data": {
      "text/plain": [
       "{}"
      ]
     },
     "execution_count": 2,
     "metadata": {},
     "output_type": "execute_result"
    }
   ],
   "source": [
    "class Student():\n",
    "    name = \"nana\"\n",
    "    age = 18\n",
    "    \n",
    "    \n",
    "Student.__dict__\n",
    "yueyue = Student()\n",
    "yueyue.__dict__\n"
   ]
  },
  {
   "cell_type": "code",
   "execution_count": 5,
   "metadata": {},
   "outputs": [
    {
     "name": "stdout",
     "output_type": "stream",
     "text": [
      "\n",
      "Ericmatthes come from Shanghai he(she) is a saler.\n",
      "Hello Ericmatthes nice to meet you.\n"
     ]
    }
   ],
   "source": [
    "class user():\n",
    "    \"\"\"\n",
    "    A class discribe user and introduction\n",
    "    \"\"\"\n",
    "    def __init__(self,first_name,last_name,city,position):\n",
    "        \"display where someone working and which position \"\n",
    "        self.first_name = first_name.title()\n",
    "        self.last_name = last_name.lower()\n",
    "        self.city = city.title()\n",
    "        self.position = position\n",
    "\n",
    "    def describe_user(self):\n",
    "        \"summerize about user\"\n",
    "        print(\"\\n\" + self.first_name + self.last_name + \" come from \" +\n",
    "              self.city + \" he(she) is a \" + self.position + \".\")\n",
    "\n",
    "    def greet_user(self):\n",
    "        \"greeting\"\n",
    "        print(\"Hello \" + self.first_name + self.last_name + \" nice to meet you.\")\n",
    "\n",
    "\n",
    "user1 = user('eric','matthes','shanghai','saler')\n",
    "user1.describe_user()\n",
    "user1.greet_user()"
   ]
  },
  {
   "cell_type": "code",
   "execution_count": 6,
   "metadata": {},
   "outputs": [
    {
     "name": "stdout",
     "output_type": "stream",
     "text": [
      "\n",
      "Eric Matthes\n",
      "  Username: e_matthes\n",
      "  Email: e_matthes@example.com\n",
      "  Location: Alaska\n",
      "\n",
      "Welcome back, e_matthes!\n",
      "\n",
      "Willie Burger\n",
      "  Username: willieburger\n",
      "  Email: wb@example.com\n",
      "  Location: Alaska\n",
      "\n",
      "Welcome back, willieburger!\n"
     ]
    }
   ],
   "source": [
    "class User():\n",
    "    \"\"\"Represent a simple user profile.\"\"\"\n",
    "\n",
    "    def __init__(self, first_name, last_name, username, email, location):\n",
    "        \"\"\"Initialize the user.\"\"\"\n",
    "        self.first_name = first_name.title()\n",
    "        self.last_name = last_name.title()\n",
    "        self.username = username\n",
    "        self.email = email\n",
    "        self.location = location.title()\n",
    "\n",
    "    def describe_user(self):\n",
    "        \"\"\"Display a summary of the user's information.\"\"\"\n",
    "        print(\"\\n\" + self.first_name + \" \" + self.last_name)\n",
    "        print(\"  Username: \" + self.username)\n",
    "        print(\"  Email: \" + self.email)\n",
    "        print(\"  Location: \" + self.location)\n",
    "\n",
    "    def greet_user(self):\n",
    "        \"\"\"Display a personalized greeting to the user.\"\"\"\n",
    "        print(\"\\nWelcome back, \" + self.username + \"!\")\n",
    "\n",
    "eric = User('eric', 'matthes', 'e_matthes', 'e_matthes@example.com', 'alaska')\n",
    "eric.describe_user()\n",
    "eric.greet_user()\n",
    "\n",
    "willie = User('willie', 'burger', 'willieburger', 'wb@example.com', 'alaska')\n",
    "willie.describe_user()\n",
    "willie.greet_user()\n"
   ]
  },
  {
   "cell_type": "code",
   "execution_count": 14,
   "metadata": {},
   "outputs": [
    {
     "name": "stdout",
     "output_type": "stream",
     "text": [
      "2018 Audi A4\n",
      "You can't roll back an odometer!\n",
      "This car has 30 miles on it.\n"
     ]
    }
   ],
   "source": [
    "class Car():\n",
    "    \"模拟汽车的简单尝试\"\n",
    "    def __init__(self,make,model,year):\n",
    "        \"initialize car's attribute\"\n",
    "        self.make = make.title()\n",
    "        self.model = model.title()\n",
    "        self.year = year\n",
    "        self.odometer_reading = 0\n",
    "\n",
    "    def get_descriptive_name(self):\n",
    "        \"Return descriptive information\"\n",
    "        long_name = str(self.year) + ' ' + self.make + ' ' + self.model\n",
    "        return long_name\n",
    "\n",
    "    def read_odometer(self):\n",
    "        \"打印车里程\"\n",
    "        print(\"This car has \" + str(self.odometer_reading) + \" miles on it.\")\n",
    "\n",
    "    def update_odometer(self,mileage):\n",
    "        \"\"\"\n",
    "        将英里数设置为指定值\n",
    "        禁止把里程数回调\n",
    "        \"\"\"\n",
    "        self.odometer_reading = 30\n",
    "        \n",
    "        if mileage >= self.odometer_reading:\n",
    "            self.odometer_reading = mileage\n",
    "        else:\n",
    "            print(\"You can't roll back an odometer!\")\n",
    "my_new_car = Car('audi','a4',2018)\n",
    "print(my_new_car.get_descriptive_name())\n",
    "\n",
    "my_new_car.update_odometer(13)\n",
    "my_new_car.read_odometer()"
   ]
  },
  {
   "cell_type": "code",
   "execution_count": null,
   "metadata": {
    "collapsed": true
   },
   "outputs": [],
   "source": []
  }
 ],
 "metadata": {
  "kernelspec": {
   "display_name": "Python 3",
   "language": "python",
   "name": "python3"
  },
  "language_info": {
   "codemirror_mode": {
    "name": "ipython",
    "version": 3
   },
   "file_extension": ".py",
   "mimetype": "text/x-python",
   "name": "python",
   "nbconvert_exporter": "python",
   "pygments_lexer": "ipython3",
   "version": "3.6.3"
  }
 },
 "nbformat": 4,
 "nbformat_minor": 2
}
