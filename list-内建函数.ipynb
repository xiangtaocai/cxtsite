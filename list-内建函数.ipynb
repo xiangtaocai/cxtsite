{
 "cells": [
  {
   "cell_type": "code",
   "execution_count": 1,
   "metadata": {},
   "outputs": [
    {
     "name": "stdout",
     "output_type": "stream",
     "text": [
      "140419688829384\n",
      "140419688829384\n"
     ]
    }
   ],
   "source": [
    "#append，直接在原来的列表添加\n",
    "l1 = [1,2,3,4,5]\n",
    "print(id(l1))\n",
    "l1.append(6)\n",
    "print(id(l1))"
   ]
  },
  {
   "cell_type": "code",
   "execution_count": 2,
   "metadata": {},
   "outputs": [
    {
     "name": "stdout",
     "output_type": "stream",
     "text": [
      "140419662590408\n",
      "140419688829384\n"
     ]
    }
   ],
   "source": [
    "#copy()复制列表,生成新列表\n",
    "l1 = [1,2,3,4,5]\n",
    "print(id(l1))\n",
    "l2 = l1.copy()\n",
    "print(id(l2))"
   ]
  },
  {
   "cell_type": "code",
   "execution_count": 4,
   "metadata": {},
   "outputs": [
    {
     "name": "stdout",
     "output_type": "stream",
     "text": [
      "3\n",
      "0\n"
     ]
    }
   ],
   "source": [
    "# count() 计算某个元素在列表中出现的次数\n",
    "list1 = [1,1,2,5,1,3]\n",
    "print(list1.count(1))\n",
    "print(list1.count(4))"
   ]
  },
  {
   "cell_type": "code",
   "execution_count": 8,
   "metadata": {},
   "outputs": [
    {
     "name": "stdout",
     "output_type": "stream",
     "text": [
      "140419662590856\n",
      "140419662590856\n",
      "[1, 2, 3, 4, 5, 6, 7, 8, 9, 10]\n",
      "[6, 7, 8, 9, 10]\n",
      "None\n",
      "[1, 2, 3, 4, 5, 6, 7, 8, 9, 10, 6, 7, 8, 9, 10]\n"
     ]
    }
   ],
   "source": [
    "# extend() 一个列表继承另一个列表,一个被扩展，一个不变\n",
    "list1 = [1,2,3,4,5]\n",
    "list2 = [6,7,8,9,10]\n",
    "\n",
    "print(id(list1))\n",
    "list3 = list1.extend(list2)\n",
    "print(id(list1))\n",
    "print(list1)\n",
    "print(list2)\n",
    "print(list3)#返回none\n",
    "print(list1+list2)"
   ]
  },
  {
   "cell_type": "code",
   "execution_count": 6,
   "metadata": {},
   "outputs": [
    {
     "name": "stdout",
     "output_type": "stream",
     "text": [
      "Help on method_descriptor:\n",
      "\n",
      "extend(...)\n",
      "    L.extend(iterable) -> None -- extend list by appending elements from the iterable\n",
      "\n"
     ]
    }
   ],
   "source": [
    "help(list.extend)"
   ]
  },
  {
   "cell_type": "code",
   "execution_count": 13,
   "metadata": {},
   "outputs": [
    {
     "name": "stdout",
     "output_type": "stream",
     "text": [
      "1\n",
      "4\n"
     ]
    }
   ],
   "source": [
    "# index()  获取值在列表中的索引,\n",
    "list1 = [1,3,2,3,4,5,3]\n",
    "print(list1.index(3))\n",
    "print(list1.index(4,2,5))#查找２到５这一段，４的位置"
   ]
  },
  {
   "cell_type": "code",
   "execution_count": 14,
   "metadata": {},
   "outputs": [
    {
     "name": "stdout",
     "output_type": "stream",
     "text": [
      "[1, 2, 9, 3, 4, 5]\n"
     ]
    }
   ],
   "source": [
    "# insert() 在指定位置前插入元素   2个参数\n",
    "list1 = [1,2,3,4,5]\n",
    "list1.insert(2,9)\n",
    "print(list1)"
   ]
  },
  {
   "cell_type": "code",
   "execution_count": 17,
   "metadata": {},
   "outputs": [
    {
     "name": "stdout",
     "output_type": "stream",
     "text": [
      "5\n",
      "[1, 2, 3, 4]\n",
      "4\n",
      "[1, 2, 3]\n",
      "[1, 2]\n",
      "[1]\n",
      "[]\n"
     ]
    },
    {
     "ename": "IndexError",
     "evalue": "pop from empty list",
     "output_type": "error",
     "traceback": [
      "\u001b[0;31m---------------------------------------------------------------------------\u001b[0m",
      "\u001b[0;31mIndexError\u001b[0m                                Traceback (most recent call last)",
      "\u001b[0;32m<ipython-input-17-f30e48e3090e>\u001b[0m in \u001b[0;36m<module>\u001b[0;34m()\u001b[0m\n\u001b[1;32m     13\u001b[0m \u001b[0mlist1\u001b[0m\u001b[0;34m.\u001b[0m\u001b[0mpop\u001b[0m\u001b[0;34m(\u001b[0m\u001b[0;34m)\u001b[0m\u001b[0;34m\u001b[0m\u001b[0m\n\u001b[1;32m     14\u001b[0m \u001b[0mprint\u001b[0m\u001b[0;34m(\u001b[0m\u001b[0mlist1\u001b[0m\u001b[0;34m)\u001b[0m\u001b[0;34m\u001b[0m\u001b[0m\n\u001b[0;32m---> 15\u001b[0;31m \u001b[0mlist1\u001b[0m\u001b[0;34m.\u001b[0m\u001b[0mpop\u001b[0m\u001b[0;34m(\u001b[0m\u001b[0;34m)\u001b[0m\u001b[0;34m\u001b[0m\u001b[0m\n\u001b[0m",
      "\u001b[0;31mIndexError\u001b[0m: pop from empty list"
     ]
    }
   ],
   "source": [
    "# pop()  根据索引移除列表内一个元素,不给索引默认移除最后一个  返回移除的那个值\n",
    "list1 = [1,2,3,4,5]\n",
    "#list1.pop(2)\n",
    "#print(list1)\n",
    "print(list1.pop())\n",
    "print(list1)\n",
    "print(list1.pop())\n",
    "print(list1)\n",
    "list1.pop()\n",
    "print(list1)\n",
    "list1.pop()\n",
    "print(list1)\n",
    "list1.pop()\n",
    "print(list1)\n",
    "list1.pop()\n"
   ]
  },
  {
   "cell_type": "code",
   "execution_count": 18,
   "metadata": {},
   "outputs": [
    {
     "name": "stdout",
     "output_type": "stream",
     "text": [
      "None\n",
      "['a', 'c', 'd']\n"
     ]
    }
   ],
   "source": [
    "# remove()  移除列表中指定的值   返回None\n",
    "list1 = ['a','b','c','d']\n",
    "print(list1.remove('b'))\n",
    "print(list1)"
   ]
  },
  {
   "cell_type": "code",
   "execution_count": 19,
   "metadata": {},
   "outputs": [
    {
     "name": "stdout",
     "output_type": "stream",
     "text": [
      "140419662591048\n",
      "140419662591048\n",
      "[4, 3, 2, 1]\n"
     ]
    }
   ],
   "source": [
    "# reverse()  列表反转\n",
    "list1 = [1,2,3,4]\n",
    "print(id(list1))\n",
    "list1.reverse()\n",
    "print(id(list1))\n",
    "print(list1)"
   ]
  },
  {
   "cell_type": "code",
   "execution_count": 20,
   "metadata": {},
   "outputs": [
    {
     "name": "stdout",
     "output_type": "stream",
     "text": [
      "[1, 2, 4, 5, 6, 9]\n",
      "[9, 6, 5, 4, 2, 1]\n"
     ]
    }
   ],
   "source": [
    "# sort()  排序  默认从小到大\n",
    "list1 = [5,2,4,6,1,9]\n",
    "list1.sort()\n",
    "print(list1)\n",
    "\n",
    "# 从大到小\n",
    "list1.sort(reverse=True)\n",
    "print(list1)"
   ]
  },
  {
   "cell_type": "code",
   "execution_count": 21,
   "metadata": {},
   "outputs": [
    {
     "name": "stdout",
     "output_type": "stream",
     "text": [
      "Help on method_descriptor:\n",
      "\n",
      "sort(...)\n",
      "    L.sort(key=None, reverse=False) -> None -- stable sort *IN PLACE*\n",
      "\n"
     ]
    }
   ],
   "source": [
    "help(list.sort)"
   ]
  },
  {
   "cell_type": "code",
   "execution_count": null,
   "metadata": {
    "collapsed": true
   },
   "outputs": [],
   "source": []
  }
 ],
 "metadata": {
  "kernelspec": {
   "display_name": "Python 3",
   "language": "python",
   "name": "python3"
  },
  "language_info": {
   "codemirror_mode": {
    "name": "ipython",
    "version": 3
   },
   "file_extension": ".py",
   "mimetype": "text/x-python",
   "name": "python",
   "nbconvert_exporter": "python",
   "pygments_lexer": "ipython3",
   "version": "3.6.3"
  }
 },
 "nbformat": 4,
 "nbformat_minor": 2
}
