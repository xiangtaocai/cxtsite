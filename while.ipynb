{
 "cells": [
  {
   "cell_type": "code",
   "execution_count": 3,
   "metadata": {},
   "outputs": [
    {
     "name": "stdout",
     "output_type": "stream",
     "text": [
      "第1年拿到106700.0元钱。\n",
      "第2年拿到113848.9元钱。\n",
      "第3年拿到121476.77629999998元钱。\n",
      "第4年拿到129615.72031209998元钱。\n",
      "第5年拿到138299.97357301068元钱。\n",
      "第6年拿到147566.07180240238元钱。\n",
      "第7年拿到157452.99861316333元钱。\n",
      "第8年拿到168002.34952024528元钱。\n",
      "第9年拿到179258.5069381017元钱。\n",
      "第10年拿到191268.8269029545元钱。\n",
      "第11年拿到204083.83830545243元钱。\n"
     ]
    }
   ],
   "source": [
    "#如果年利率是6.7,本利每年翻滚，多少年翻倍\n",
    "benqian = 100000\n",
    "year = 0\n",
    "while benqian < 200000:\n",
    "    benqian = benqian * (1+0.067)\n",
    "    year = year + 1\n",
    "    print(\"第{}年拿到{}元钱。\".format(year,benqian))"
   ]
  },
  {
   "cell_type": "code",
   "execution_count": 5,
   "metadata": {},
   "outputs": [
    {
     "name": "stdout",
     "output_type": "stream",
     "text": [
      "11\n"
     ]
    }
   ],
   "source": [
    "#如果年利率是6.7,本利每年翻滚，多少年翻倍\n",
    "benqian = 100000\n",
    "year = 0\n",
    "while benqian < 200000:\n",
    "    benqian = benqian * (1+0.067)\n",
    "\n",
    "    year = year + 1\n",
    "    if benqian >= 200000:\n",
    "        print(year)"
   ]
  },
  {
   "cell_type": "code",
   "execution_count": null,
   "metadata": {
    "collapsed": true
   },
   "outputs": [],
   "source": []
  }
 ],
 "metadata": {
  "kernelspec": {
   "display_name": "Python 3",
   "language": "python",
   "name": "python3"
  },
  "language_info": {
   "codemirror_mode": {
    "name": "ipython",
    "version": 3
   },
   "file_extension": ".py",
   "mimetype": "text/x-python",
   "name": "python",
   "nbconvert_exporter": "python",
   "pygments_lexer": "ipython3",
   "version": "3.6.3"
  }
 },
 "nbformat": 4,
 "nbformat_minor": 2
}
