{
 "cells": [
  {
   "cell_type": "code",
   "execution_count": 7,
   "metadata": {},
   "outputs": [
    {
     "name": "stdout",
     "output_type": "stream",
     "text": [
      "A --> C\n",
      "A --> B\n",
      "C --> B\n",
      "A --> C\n",
      "B --> A\n",
      "B --> C\n",
      "A --> C\n",
      "A --> B\n",
      "C --> B\n",
      "C --> A\n",
      "B --> A\n",
      "C --> B\n",
      "A --> C\n",
      "A --> B\n",
      "C --> B\n",
      "A --> C\n",
      "B --> A\n",
      "B --> C\n",
      "A --> C\n",
      "B --> A\n",
      "C --> B\n",
      "C --> A\n",
      "B --> A\n",
      "B --> C\n",
      "A --> C\n",
      "A --> B\n",
      "C --> B\n",
      "A --> C\n",
      "B --> A\n",
      "B --> C\n",
      "A --> C\n"
     ]
    }
   ],
   "source": [
    "def hano(n,a,b,c):\n",
    "    \"\"\"\n",
    "    汉诺塔的递归实现\n",
    "    ｎ代表塔的个数\n",
    "    ａ代表第一个塔\n",
    "    ｂ代表第二个塔\n",
    "    ｃ代表第三个塔\n",
    "       \n",
    "    \"\"\"\n",
    "    if n == 1:\n",
    "        print(a,\"-->\",c)\n",
    "        return None\n",
    "    if n == 2:\n",
    "        print(a,\"-->\",b)\n",
    "        print(a,\"-->\",c)\n",
    "        print(b,\"-->\",c)\n",
    "        return None\n",
    "    #假如有ｎ个盘子，那么也就是想法把n-1个盘子借助ｃ,移动到ｂ,\n",
    "    #然后把n移动到ｃ,在把n-1个盘子借助ｃ,转移到a,\n",
    "    hano(n-1,a,c,b)\n",
    "    print(a,\"-->\",c)\n",
    "    hano(n-1,b,a,c)\n",
    "    \n",
    "a = \"A\"\n",
    "b = \"B\"\n",
    "c = \"C\"\n",
    "\n",
    "hano(5,a,b,c)\n",
    "    "
   ]
  },
  {
   "cell_type": "code",
   "execution_count": 9,
   "metadata": {},
   "outputs": [
    {
     "name": "stdout",
     "output_type": "stream",
     "text": [
      "[1, 2, 3, 4, 5]\n",
      "139927287377416\n",
      "[1, 2, 4, 5]\n",
      "139927287377416\n"
     ]
    },
    {
     "ename": "NameError",
     "evalue": "name 'a' is not defined",
     "output_type": "error",
     "traceback": [
      "\u001b[0;31m---------------------------------------------------------------------------\u001b[0m",
      "\u001b[0;31mNameError\u001b[0m                                 Traceback (most recent call last)",
      "\u001b[0;32m<ipython-input-9-acfe6983f5e8>\u001b[0m in \u001b[0;36m<module>\u001b[0;34m()\u001b[0m\n\u001b[1;32m      6\u001b[0m \u001b[0mprint\u001b[0m\u001b[0;34m(\u001b[0m\u001b[0mid\u001b[0m\u001b[0;34m(\u001b[0m\u001b[0ma\u001b[0m\u001b[0;34m)\u001b[0m\u001b[0;34m)\u001b[0m\u001b[0;34m\u001b[0m\u001b[0m\n\u001b[1;32m      7\u001b[0m \u001b[0;32mdel\u001b[0m \u001b[0ma\u001b[0m\u001b[0;34m\u001b[0m\u001b[0m\n\u001b[0;32m----> 8\u001b[0;31m \u001b[0mprint\u001b[0m\u001b[0;34m(\u001b[0m\u001b[0ma\u001b[0m\u001b[0;34m)\u001b[0m\u001b[0;34m\u001b[0m\u001b[0m\n\u001b[0m",
      "\u001b[0;31mNameError\u001b[0m: name 'a' is not defined"
     ]
    }
   ],
   "source": [
    "a = [1,2,3,4,5]\n",
    "print(a)\n",
    "print(id(a))\n",
    "del a[2]\n",
    "print(a)\n",
    "print(id(a))\n",
    "del a\n",
    "print(a)#删除后不显示了，没有了\n"
   ]
  },
  {
   "cell_type": "code",
   "execution_count": 11,
   "metadata": {},
   "outputs": [
    {
     "name": "stdout",
     "output_type": "stream",
     "text": [
      "[1, 2, 3, 4, 2, 3, 4]\n",
      "[1, 2, 3, 4, 'a', 'b', 'v']\n",
      "[1, 2, 3, 4, 2, 3, 4, 'a', 'b', 'v']\n",
      "[[1, 2, 3, 4], [2, 3, 4]]\n"
     ]
    }
   ],
   "source": [
    "#列表相加\n",
    "a = [1,2,3,4]\n",
    "b = [2,3,4]\n",
    "c = ['a','b','v']\n",
    "g = [a,b]\n",
    "d = a+b\n",
    "f = a+ c\n",
    "e = a + b + c\n",
    "print(d)\n",
    "print(f)\n",
    "print(e)\n",
    "print(g)\n"
   ]
  },
  {
   "cell_type": "code",
   "execution_count": 12,
   "metadata": {},
   "outputs": [
    {
     "name": "stdout",
     "output_type": "stream",
     "text": [
      "[1, 2, 3, 4, 5, 1, 2, 3, 4, 5, 1, 2, 3, 4, 5, 1, 2, 3, 4, 5, 1, 2, 3, 4, 5]\n"
     ]
    }
   ],
   "source": [
    "#列表相乘\n",
    "a = [1,2,3,4,5]\n",
    "b = a *5\n",
    "print(b)"
   ]
  },
  {
   "cell_type": "code",
   "execution_count": 15,
   "metadata": {},
   "outputs": [
    {
     "name": "stdout",
     "output_type": "stream",
     "text": [
      "False\n",
      "True\n"
     ]
    }
   ],
   "source": [
    "#成员资格运算\n",
    "#判断一个元素在不在列表\n",
    "a = [1,2,3,4,5,6,7]\n",
    "b = 8\n",
    "c = b in a#not in 正好相反\n",
    "print(c)\n",
    "b = 5\n",
    "c = b in a\n",
    "print(c)"
   ]
  },
  {
   "cell_type": "code",
   "execution_count": 16,
   "metadata": {},
   "outputs": [
    {
     "name": "stdout",
     "output_type": "stream",
     "text": [
      "1\n",
      "2\n",
      "3\n",
      "4\n",
      "5\n"
     ]
    }
   ],
   "source": [
    "#列表的遍历\n",
    "a = [1,2,3,4,5,]\n",
    "for i in a:\n",
    "    print(i)"
   ]
  },
  {
   "cell_type": "code",
   "execution_count": 17,
   "metadata": {},
   "outputs": [
    {
     "name": "stdout",
     "output_type": "stream",
     "text": [
      "i\n",
      "d\n",
      "b\n"
     ]
    }
   ],
   "source": [
    "b = ['i','d','b']\n",
    "for i in b:\n",
    "    print(i)"
   ]
  },
  {
   "cell_type": "code",
   "execution_count": 1,
   "metadata": {},
   "outputs": [
    {
     "name": "stdout",
     "output_type": "stream",
     "text": [
      "1\n",
      "2\n",
      "3\n",
      "4\n",
      "5\n",
      "6\n"
     ]
    }
   ],
   "source": [
    "a = [1,2,3,4,5,6]\n",
    "lengh = len(a)\n",
    "indx = 0\n",
    "while lengh > indx:\n",
    "    print(a[indx])\n",
    "    indx += 1"
   ]
  },
  {
   "cell_type": "code",
   "execution_count": 10,
   "metadata": {},
   "outputs": [
    {
     "name": "stdout",
     "output_type": "stream",
     "text": [
      "one\n",
      "1\n",
      "two\n",
      "2\n",
      "three\n",
      "3\n",
      "one --> 1\n",
      "two --> 2\n",
      "three --> 3\n",
      "one -- 1 -- 一\n",
      "two -- 2 -- 二\n",
      "three -- 3 -- 三\n"
     ]
    }
   ],
   "source": [
    "#双层列表循环\n",
    "a = [['one',1],['two',2],['three',3]]\n",
    "for i in a:\n",
    "    for m in i:\n",
    "        print(m)\n",
    "for k,v in a:\n",
    "    print(k,\"-->\",v)\n",
    "#双层列表变异   \n",
    "b = [['one',1,\"一\"],['two',2,'二'],['three',3,'三']]\n",
    "for k,v,y in b:\n",
    "    print(k,\"--\",v,\"--\",y)"
   ]
  },
  {
   "cell_type": "code",
   "execution_count": 11,
   "metadata": {},
   "outputs": [
    {
     "name": "stdout",
     "output_type": "stream",
     "text": [
      "[1, 2, 3, 4]\n"
     ]
    }
   ],
   "source": [
    "#for创建一个列表\n",
    "a = [1,2,3,4]\n",
    "b = [i for i in a]\n",
    "print(b)"
   ]
  },
  {
   "cell_type": "code",
   "execution_count": 12,
   "metadata": {},
   "outputs": [
    {
     "name": "stdout",
     "output_type": "stream",
     "text": [
      "[10, 20, 30, 40]\n"
     ]
    }
   ],
   "source": [
    "#对a的每一个元素乘以１０创建一个列表\n",
    "a = [1,2,3,4]\n",
    "b = [i*10 for i in a]\n",
    "print(b)"
   ]
  },
  {
   "cell_type": "code",
   "execution_count": 13,
   "metadata": {},
   "outputs": [
    {
     "name": "stdout",
     "output_type": "stream",
     "text": [
      "[2, 4, 6, 8, 10, 12, 14, 16, 18, 20, 22, 24, 26, 28, 30, 32, 34]\n"
     ]
    }
   ],
   "source": [
    "#过滤列表，留下需要的部分\n",
    "a = [i for i in range(1,35)]\n",
    "#挑出偶数\n",
    "b = [m for m in a if m %2 == 0]\n",
    "print(b)"
   ]
  },
  {
   "cell_type": "code",
   "execution_count": 5,
   "metadata": {},
   "outputs": [
    {
     "name": "stdout",
     "output_type": "stream",
     "text": [
      "[1, 2, 3]\n",
      "[100, 200, 300]\n",
      "[101, 201, 301, 102, 202, 302, 103, 203, 303]\n",
      "[101, 201, 102, 202, 103, 203]\n",
      "[100, 200, 300, 200, 400, 600, 300, 600, 900]\n"
     ]
    }
   ],
   "source": [
    "#列表生成式嵌套\n",
    "a = [i for i in range(1,4)]\n",
    "print(a)\n",
    "b = [i for i in range(100,400) if i % 100 == 0]\n",
    "print(b)\n",
    "#嵌套生成列表c\n",
    "c = [m + n for m in a for n in b]\n",
    "print(c)\n",
    "#可以用条件表达式\n",
    "c = [m + n for m in a for n in b if m+n < 250]\n",
    "print(c)\n",
    "d = [m * n for m in a for n in b]\n",
    "print(d)"
   ]
  },
  {
   "cell_type": "code",
   "execution_count": 7,
   "metadata": {},
   "outputs": [
    {
     "name": "stdout",
     "output_type": "stream",
     "text": [
      "99\n",
      "99\n"
     ]
    }
   ],
   "source": [
    "#关于列表的常用函数\n",
    "a = [x for x in range(1,100)]\n",
    "print(len(a))\n",
    "print(max(a))"
   ]
  },
  {
   "cell_type": "code",
   "execution_count": 8,
   "metadata": {},
   "outputs": [
    {
     "name": "stdout",
     "output_type": "stream",
     "text": [
      "3\n",
      "python\n"
     ]
    }
   ],
   "source": [
    "b = ['man','film','python']\n",
    "print(len(b))\n",
    "print(max(b))"
   ]
  },
  {
   "cell_type": "code",
   "execution_count": 9,
   "metadata": {},
   "outputs": [
    {
     "name": "stdout",
     "output_type": "stream",
     "text": [
      "['i', ' ', 'l', 'o', 'v', 'e', ' ', 'w', 'a', 'n', 'g', 'i', 'x', 'o', 'a', 'j', 'i', 'n', 'g']\n"
     ]
    }
   ],
   "source": [
    "#其他格式转化为ｌｉｓｔ\n",
    "s = 'i love wangixoajing'\n",
    "print(list(s))"
   ]
  },
  {
   "cell_type": "code",
   "execution_count": 14,
   "metadata": {},
   "outputs": [
    {
     "name": "stdout",
     "output_type": "stream",
     "text": [
      "['4', '5', '8', '8', '6', '2', '5', 'e', 'w', 'g', 'f', 'g', 'h', 's', 'f', 's']\n"
     ]
    }
   ],
   "source": [
    "l = '4588625ewgfghsfs'\n",
    "print(list(l))"
   ]
  },
  {
   "cell_type": "code",
   "execution_count": 3,
   "metadata": {},
   "outputs": [
    {
     "name": "stdout",
     "output_type": "stream",
     "text": [
      "['sdg', 'skdgok', 22, 55, 66]\n",
      "['sdg', 'skdgok', 22, 55, 66, 'hhahah']\n",
      "['sdg', 'skdgok', 22, 55, 66, 888, 'hhahah']\n"
     ]
    }
   ],
   "source": [
    "l = ['sdg','skdgok',22,55,66]\n",
    "print(l)\n",
    "l.append('hhahah')\n",
    "print(l)\n",
    "#insert(index,data)\n",
    "l.insert(5,888)\n",
    "print(l)"
   ]
  },
  {
   "cell_type": "code",
   "execution_count": 8,
   "metadata": {},
   "outputs": [
    {
     "name": "stdout",
     "output_type": "stream",
     "text": [
      "['sdg', 'skdgok', 22, 55, 66]\n",
      "['sdg', 'skdgok', 22, 55, 66, 'hhahah']\n",
      "140193442895560\n",
      "['sdg', 'skdgok', 22, 55, 66, 888, 'hhahah']\n",
      "140193442895560\n",
      "['sdg', 'skdgok', 22, 55, 66, 888]\n",
      "888\n",
      "['sdg', 'skdgok', 22, 55, 66]\n",
      "140193442895560\n",
      "['skdgok', 22, 55, 66]\n",
      "140193442895560\n",
      "[]\n",
      "140193442895560\n"
     ]
    }
   ],
   "source": [
    "#删除\n",
    "#del\n",
    "l = ['sdg','skdgok',22,55,66]\n",
    "print(l)\n",
    "l.append('hhahah')\n",
    "print(l)\n",
    "print(id(l))\n",
    "#insert(index,data)\n",
    "l.insert(5,888)\n",
    "print(l)\n",
    "print(id(l))\n",
    "#del按照下标注\n",
    "del l[6]\n",
    "print(l)\n",
    "#pop()最后一个\n",
    "last = l.pop()\n",
    "print(last)\n",
    "print(l)\n",
    "#remove知道值\n",
    "print(id(l))\n",
    "l.remove('sdg')\n",
    "print(l)\n",
    "print(id(l))\n",
    "l.clear()\n",
    "print(l)\n",
    "print(id(l))"
   ]
  },
  {
   "cell_type": "code",
   "execution_count": 9,
   "metadata": {},
   "outputs": [
    {
     "name": "stdout",
     "output_type": "stream",
     "text": [
      "[1, 2, 3, 4]\n",
      "140193442546376\n",
      "[4, 3, 2, 1]\n",
      "140193442546376\n"
     ]
    }
   ],
   "source": [
    "#reverse,翻转\n",
    "a = [1,2,3,4,]\n",
    "print(a)\n",
    "print(id(a))\n",
    "a.reverse()\n",
    "print(a)\n",
    "print(id(a))"
   ]
  },
  {
   "cell_type": "code",
   "execution_count": 10,
   "metadata": {},
   "outputs": [
    {
     "name": "stdout",
     "output_type": "stream",
     "text": [
      "[1, 2, 3, 4, 5]\n",
      "140193596837064\n",
      "[1, 2, 3, 4, 5, 's', 'sd', 'sdf', 'sd']\n",
      "['s', 'sd', 'sdf', 'sd']\n",
      "140193596837064\n"
     ]
    }
   ],
   "source": [
    "#extend:列表扩展\n",
    "a = [1,2,3,4,5,]\n",
    "b = ['s','sd','sdf','sd']\n",
    "print(a)\n",
    "print(id(a))\n",
    "a.extend(b)\n",
    "print(a)\n",
    "print(b)\n",
    "print(id(a))"
   ]
  },
  {
   "cell_type": "code",
   "execution_count": 11,
   "metadata": {},
   "outputs": [
    {
     "name": "stdout",
     "output_type": "stream",
     "text": [
      "[1, 2, 3, 4, 5, 's', 'sd', 'sdf', 'sd']\n",
      "[1, 2, 3, 4, 5, 4, 's', 'sd', 'sdf', 'sd', 4]\n",
      "3\n"
     ]
    }
   ],
   "source": [
    "#count,查找指定元素的个数\n",
    "print(a)\n",
    "a.append(4)\n",
    "a.insert(5,4)\n",
    "print(a)\n",
    "count = a.count(4)\n",
    "print(count)"
   ]
  },
  {
   "cell_type": "code",
   "execution_count": 14,
   "metadata": {},
   "outputs": [
    {
     "name": "stdout",
     "output_type": "stream",
     "text": [
      "[1, 2, 3, 4, 5]\n",
      "[1, 2, 3, 888, 5]\n",
      "[1, 2, 3, 888, 5]\n",
      "[1, 2, 3, 4, 5]\n",
      "140193442895688\n",
      "140193442895688\n",
      "140193442895176\n",
      "[1, 2, 3, 888, 5]\n",
      "[666, 2, 3, 888, 5]\n",
      "140193442895688\n",
      "140193442548104\n"
     ]
    }
   ],
   "source": [
    "#copy\n",
    "a = [1,2,3,4,5]\n",
    "b = a#传地址操作，地址不变，值都变了。\n",
    "c = a[:]\n",
    "print(a)\n",
    "b[3] = 888\n",
    "print(a)\n",
    "print(b)\n",
    "print(c)\n",
    "print(id(a))\n",
    "print(id(b))\n",
    "print(id(c))\n",
    "\n",
    "#传值操作,地址改变，值只是一个改变了。\n",
    "b = a.copy()\n",
    "b[0] = 666\n",
    "print(a)\n",
    "print(b)\n",
    "print(id(a))\n",
    "print(id(b))"
   ]
  },
  {
   "cell_type": "code",
   "execution_count": 19,
   "metadata": {},
   "outputs": [
    {
     "name": "stdout",
     "output_type": "stream",
     "text": [
      "140193442897736\n",
      "140193502814152\n",
      "[1, 2, 3, 4, 5, ['a', 'b', 'c']]\n",
      "[1, 2, 3, 4, 5, ['a', 'b', 'c']]\n",
      "140193695247640\n",
      "140193695247640\n",
      "[1, 2, 3, 4, 5, ['a', 'shenle', 'c']]\n",
      "[1, 2, 3, 4, 5, ['a', 'shenle', 'c']]\n",
      "140193442588576\n",
      "140193442588576\n",
      "[1, 2, 3, 4, 5, ['a', 'shenle', 'c']]\n",
      "[1, 2, 'bbb', 4, 5, ['a', 'shenle', 'c']]\n",
      "140193442588576\n",
      "140193442588576\n"
     ]
    }
   ],
   "source": [
    "#浅拷贝,对嵌套列表的内层只是拷贝了地址\n",
    "a = [1,2,3,4,5,['a','b','c']]\n",
    "b = a.copy()\n",
    "print(id(a))\n",
    "print(id(b))\n",
    "print(a)\n",
    "print(b)\n",
    "print(id(a[5][1]))\n",
    "print(id(b[5][1]))\n",
    "a[5][1] = 'shenle'\n",
    "print(a)\n",
    "print(b)\n",
    "print(id(a[5][1]))\n",
    "print(id(b[5][1]))\n",
    "b[2] = 'bbb'\n",
    "print(a)\n",
    "print(b)\n",
    "print(id(a[5][1]))\n",
    "print(id(b[5][1]))"
   ]
  },
  {
   "cell_type": "markdown",
   "metadata": {},
   "source": [
    "# 深层拷贝需要特定的工具"
   ]
  },
  {
   "cell_type": "markdown",
   "metadata": {},
   "source": [
    "# 元祖-tuple\n",
    "-元祖就是一个不可更改的列表"
   ]
  },
  {
   "cell_type": "code",
   "execution_count": 28,
   "metadata": {},
   "outputs": [
    {
     "name": "stdout",
     "output_type": "stream",
     "text": [
      "<class 'tuple'>\n",
      "<class 'tuple'>\n",
      "<class 'int'>\n",
      "<class 'tuple'>\n",
      "<class 'tuple'>\n",
      "<class 'list'>\n",
      "<class 'tuple'>\n",
      "<class 'list'>\n"
     ]
    }
   ],
   "source": [
    "#创建元祖\n",
    "t = ()\n",
    "print(type(t))\n",
    "#创建只有一个元素的元祖,逗号必须有\n",
    "t = (1,)\n",
    "print(type(t))\n",
    "#如果不加逗号\n",
    "t = (1)\n",
    "print(type(t))\n",
    "t = 1,2,3,4\n",
    "print(type(t))\n",
    "#元祖变列表\n",
    "t = 1,2,3,4,5\n",
    "l = list(t)\n",
    "print(type(t))\n",
    "print(type(l))\n",
    "#列表变元祖\n",
    "l = [1,2,3,3,]\n",
    "t = tuple(l)\n",
    "print(type(t))\n",
    "print(type(l))"
   ]
  },
  {
   "cell_type": "markdown",
   "metadata": {
    "collapsed": true
   },
   "source": [
    "＃元祖的特性\n",
    "- 有序\n",
    "- 可以访问，不能修改\n",
    "- 元祖数据可以是任意类型\n",
    "- 除了不可修改，具有list所有的属性\n",
    "- 切片，索引，加减乘除\n",
    "\n"
   ]
  },
  {
   "cell_type": "code",
   "execution_count": 2,
   "metadata": {},
   "outputs": [
    {
     "name": "stdout",
     "output_type": "stream",
     "text": [
      "(1, 2, 3, 4, 5, 6)\n",
      "(2, 4, 6)\n",
      "140067211552424\n",
      "140067254223712\n",
      "(2, 3, 4, 5, 6)\n"
     ]
    }
   ],
   "source": [
    "t = 1,2,3,4,5,6\n",
    "t1 = t[1::2]#位置１到结尾的步长为２的切片\n",
    "print(t)\n",
    "print(t1)\n",
    "print(id(t))\n",
    "print(id(t1))\n",
    "#而且切片可以超标\n",
    "t2 = t[1:100]\n",
    "print(t2)"
   ]
  },
  {
   "cell_type": "code",
   "execution_count": 5,
   "metadata": {},
   "outputs": [
    {
     "ename": "TypeError",
     "evalue": "'tuple' object does not support item assignment",
     "output_type": "error",
     "traceback": [
      "\u001b[0;31m---------------------------------------------------------------------------\u001b[0m",
      "\u001b[0;31mTypeError\u001b[0m                                 Traceback (most recent call last)",
      "\u001b[0;32m<ipython-input-5-331d938dead8>\u001b[0m in \u001b[0;36m<module>\u001b[0;34m()\u001b[0m\n\u001b[1;32m      2\u001b[0m \u001b[0mt1\u001b[0m \u001b[0;34m=\u001b[0m \u001b[0;36m1\u001b[0m\u001b[0;34m,\u001b[0m\u001b[0;36m2\u001b[0m\u001b[0;34m,\u001b[0m\u001b[0;36m5\u001b[0m\u001b[0;34m,\u001b[0m\u001b[0;36m8\u001b[0m\u001b[0;34m,\u001b[0m\u001b[0;36m9\u001b[0m\u001b[0;34m\u001b[0m\u001b[0m\n\u001b[1;32m      3\u001b[0m \u001b[0mt2\u001b[0m \u001b[0;34m=\u001b[0m \u001b[0;34m'fek'\u001b[0m\u001b[0;34m,\u001b[0m\u001b[0;34m'lkerg'\u001b[0m\u001b[0;34m\u001b[0m\u001b[0m\n\u001b[0;32m----> 4\u001b[0;31m \u001b[0mt1\u001b[0m\u001b[0;34m[\u001b[0m\u001b[0;36m2\u001b[0m\u001b[0;34m]\u001b[0m \u001b[0;34m=\u001b[0m \u001b[0;36m555\u001b[0m\u001b[0;31m#指内荣不能修改\u001b[0m\u001b[0;34m\u001b[0m\u001b[0m\n\u001b[0m\u001b[1;32m      5\u001b[0m \u001b[0mprint\u001b[0m\u001b[0;34m(\u001b[0m\u001b[0mt1\u001b[0m\u001b[0;34m)\u001b[0m\u001b[0;34m\u001b[0m\u001b[0m\n\u001b[1;32m      6\u001b[0m \u001b[0mprint\u001b[0m\u001b[0;34m(\u001b[0m\u001b[0mid\u001b[0m\u001b[0;34m(\u001b[0m\u001b[0mt1\u001b[0m\u001b[0;34m)\u001b[0m\u001b[0;34m)\u001b[0m\u001b[0;34m\u001b[0m\u001b[0m\n",
      "\u001b[0;31mTypeError\u001b[0m: 'tuple' object does not support item assignment"
     ]
    }
   ],
   "source": [
    "#序列的相加\n",
    "t1 = 1,2,5,8,9\n",
    "t2 = 'fek','lkerg'\n",
    "t1[2] = 555#指内荣不能修改\n",
    "print(t1)\n",
    "print(id(t1))\n",
    "print(id(t2))\n",
    "t1 += t2 #这不是对列表的更改，重新给变量赋值\n",
    "print(t1)\n",
    "print(id(t1))\n"
   ]
  },
  {
   "cell_type": "code",
   "execution_count": 6,
   "metadata": {},
   "outputs": [
    {
     "name": "stdout",
     "output_type": "stream",
     "text": [
      "(1, 2, 3, 1, 2, 3, 1, 2, 3)\n"
     ]
    }
   ],
   "source": [
    "#元祖的相乘\n",
    "t = 1,2,3,\n",
    "t = t*3\n",
    "print(t)"
   ]
  },
  {
   "cell_type": "code",
   "execution_count": 7,
   "metadata": {},
   "outputs": [
    {
     "name": "stdout",
     "output_type": "stream",
     "text": [
      "yes\n"
     ]
    }
   ],
   "source": [
    "#成员检查\n",
    "t = 1,2,3,\n",
    "if 2 in t:\n",
    "    print(\"yes\")\n",
    "else:\n",
    "    print('no')"
   ]
  },
  {
   "cell_type": "code",
   "execution_count": 8,
   "metadata": {},
   "outputs": [
    {
     "name": "stdout",
     "output_type": "stream",
     "text": [
      "1\n",
      "2\n",
      "3\n",
      "wfkk\n"
     ]
    }
   ],
   "source": [
    "#元祖的遍历\n",
    "t = (1,2,3,'wfkk')\n",
    "for i in t:\n",
    "    print(i)"
   ]
  },
  {
   "cell_type": "code",
   "execution_count": 10,
   "metadata": {},
   "outputs": [
    {
     "name": "stdout",
     "output_type": "stream",
     "text": [
      "((1, 2, 3), ('ge', 'ewgg', 'oijoj'), (6, 9, 4))\n",
      "((1, 2, 3), ('ge', 'ewgg', 'oijoj'), (6, 9, 4))\n",
      "((1, 2, 3), ('ge', 'ewgg', 'oijoj'), (6, 9, 4))\n",
      "1\n",
      "2\n",
      "3\n",
      "ge\n",
      "ewgg\n",
      "oijoj\n",
      "6\n",
      "9\n",
      "4\n",
      "1 ... 2 ... 3\n",
      "ge ... ewgg ... oijoj\n",
      "6 ... 9 ... 4\n"
     ]
    }
   ],
   "source": [
    "#双层元祖的遍历\n",
    "t = ((1,2,3),('ge','ewgg','oijoj'),(6,9,4))\n",
    "for i in t:\n",
    "    print(t)\n",
    "    \n",
    "    \n",
    "for i in t:\n",
    "    for m in i:\n",
    "        print(m)\n",
    "        \n",
    "        \n",
    "for k,m,n in t:\n",
    "    print(k,'...',m,'...',n)"
   ]
  },
  {
   "cell_type": "code",
   "execution_count": null,
   "metadata": {
    "collapsed": true
   },
   "outputs": [],
   "source": []
  }
 ],
 "metadata": {
  "kernelspec": {
   "display_name": "Python 3",
   "language": "python",
   "name": "python3"
  },
  "language_info": {
   "codemirror_mode": {
    "name": "ipython",
    "version": 3
   },
   "file_extension": ".py",
   "mimetype": "text/x-python",
   "name": "python",
   "nbconvert_exporter": "python",
   "pygments_lexer": "ipython3",
   "version": "3.6.3"
  }
 },
 "nbformat": 4,
 "nbformat_minor": 2
}
