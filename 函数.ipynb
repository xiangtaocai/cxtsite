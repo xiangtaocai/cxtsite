{
 "cells": [
  {
   "cell_type": "code",
   "execution_count": 2,
   "metadata": {
    "collapsed": true
   },
   "outputs": [],
   "source": [
    "#用来完成一项特定功能,代码的一种组织形式\n",
    "#先定义后调用\n",
    "#def加空格关键字,括号加冒号\n",
    "#函数名约定成俗，大驼峰命名只给类用\n",
    "#后面括号和冒号不能省，括号内可以有参数\n",
    "#函数内所有代码缩进\n",
    "def func():\n",
    "    print(\"woshihanshu.\")\n",
    "    print(\"我要完成一项功能\")\n",
    "    print(\"结束了\")"
   ]
  },
  {
   "cell_type": "code",
   "execution_count": 3,
   "metadata": {},
   "outputs": [
    {
     "name": "stdout",
     "output_type": "stream",
     "text": [
      "woshihanshu.\n",
      "我要完成一项功能\n",
      "结束了\n"
     ]
    }
   ],
   "source": [
    "#函数的调用\n",
    "def func():\n",
    "    print(\"woshihanshu.\")\n",
    "    print(\"我要完成一项功能\")\n",
    "    print(\"结束了\")\n",
    "func()"
   ]
  },
  {
   "cell_type": "code",
   "execution_count": 4,
   "metadata": {},
   "outputs": [
    {
     "name": "stdout",
     "output_type": "stream",
     "text": [
      "结束了\n",
      "woshihanshu.\n",
      "我要完成一项功能\n"
     ]
    }
   ],
   "source": [
    "#函数的调用,一个代码块同一个缩进\n",
    "def func():\n",
    "    print(\"woshihanshu.\")\n",
    "    print(\"我要完成一项功能\")\n",
    "print(\"结束了\")\n",
    "func()"
   ]
  },
  {
   "cell_type": "code",
   "execution_count": 6,
   "metadata": {},
   "outputs": [
    {
     "name": "stdout",
     "output_type": "stream",
     "text": [
      "mingyue,你怎么了？\n",
      "sir,你怎么不理我？\n"
     ]
    }
   ],
   "source": [
    "#函数的参数和返回值\n",
    "#参数：传递信息，person就是一个符号，调用的时候p的值会替换所有的person.\n",
    "    #　形式参数:只是一个占位符，person没有具体值\n",
    "    #　实际参数：调用函数时的输入值mingyue\n",
    "#返回值：执行结果\n",
    "    #使用return关键字,把结果放到一个变量，return 提前结束函数。\n",
    "def hello(person):\n",
    "    print(\"{0},你怎么了？\".format(person))\n",
    "    print(\"sir,你怎么不理我？\")\n",
    "p = \"mingyue\"\n",
    "hello(p)"
   ]
  },
  {
   "cell_type": "code",
   "execution_count": 2,
   "metadata": {
    "scrolled": true
   },
   "outputs": [
    {
     "name": "stdout",
     "output_type": "stream",
     "text": [
      "xiaxia,你怎么了？\n",
      "sir,你怎么不理我？\n",
      "我已经和xiaxia打招呼了，xiaxia不理我。\n"
     ]
    }
   ],
   "source": [
    "#使用return关键字\n",
    "def hello(person):\n",
    "    print(\"{0},你怎么了？\".format(person))\n",
    "    print(\"sir,你怎么不理我？\")\n",
    "    return \"我已经和{0}打招呼了，{0}不理我。\".format(person)\n",
    "\n",
    "people = hello('xiaxia')\n",
    "print(people)"
   ]
  },
  {
   "cell_type": "code",
   "execution_count": 3,
   "metadata": {},
   "outputs": [
    {
     "name": "stdout",
     "output_type": "stream",
     "text": [
      "xiaxia,你怎么了？\n",
      "end early\n"
     ]
    }
   ],
   "source": [
    "#使用return关键字,teturn提前结束\n",
    "def hello(person):\n",
    "    print(\"{0},你怎么了？\".format(person))\n",
    "    return \"end early\"\n",
    "    print(\"sir,你怎么不理我？\")\n",
    "    return \"我已经和{0}打招呼了，{0}不理我。\".format(person)\n",
    "\n",
    "people = hello('xiaxia')\n",
    "print(people)"
   ]
  },
  {
   "cell_type": "code",
   "execution_count": 10,
   "metadata": {},
   "outputs": [
    {
     "name": "stdout",
     "output_type": "stream",
     "text": [
      "hello\n"
     ]
    }
   ],
   "source": [
    "def greet_user():\n",
    "    \"\"\"显示简单的问候语\"\"\"\n",
    "    print(\"hello\")\n",
    "greet_user()"
   ]
  },
  {
   "cell_type": "code",
   "execution_count": 13,
   "metadata": {},
   "outputs": [
    {
     "name": "stdout",
     "output_type": "stream",
     "text": [
      "hello, Caicai!\n",
      "hello, Xiaxia!\n"
     ]
    }
   ],
   "source": [
    "def greet_user(username):\n",
    "    \"\"\"显示简单的问候语\"\"\"\n",
    "    print(\"hello, \" + username.title()  + \"!\")\n",
    "greet_user('caicai')\n",
    "greet_user('xiaxia')"
   ]
  },
  {
   "cell_type": "code",
   "execution_count": 15,
   "metadata": {},
   "outputs": [
    {
     "name": "stdout",
     "output_type": "stream",
     "text": [
      "It's great!\n"
     ]
    }
   ],
   "source": [
    "def display_message():\n",
    "    \"\"\"本章学会函数调用和定义\"\"\"\n",
    "    print(\"It's great!\")\n",
    "display_message()"
   ]
  },
  {
   "cell_type": "code",
   "execution_count": 16,
   "metadata": {},
   "outputs": [
    {
     "name": "stdout",
     "output_type": "stream",
     "text": [
      "One of my favorite book is Wei Cheng\n"
     ]
    }
   ],
   "source": [
    "def favorite_book(title):\n",
    "    \"\"\"Display a mesage about someone's favorite book.\"\"\"\n",
    "    print(\"One of my favorite book is \" +title.title() )\n",
    "favorite_book('wei cheng')"
   ]
  },
  {
   "cell_type": "code",
   "execution_count": 10,
   "metadata": {},
   "outputs": [
    {
     "name": "stdout",
     "output_type": "stream",
     "text": [
      "I have a hamster.\n",
      "My hamster's name harry.\n",
      "\n",
      "I have a dog.\n",
      "My dog's name wllie.\n",
      "\n"
     ]
    }
   ],
   "source": [
    "#位置实参\n",
    "def describe_pet(animal_type,pet_name):\n",
    "    print(\"I have a \" + animal_type + \".\")\n",
    "    print(\"My \" + animal_type + \"'s name \" + pet_name + \".\")\n",
    "    print(\"\")\n",
    "describe_pet(\"hamster\",'harry')\n",
    "describe_pet('dog','wllie')"
   ]
  },
  {
   "cell_type": "code",
   "execution_count": 12,
   "metadata": {},
   "outputs": [
    {
     "name": "stdout",
     "output_type": "stream",
     "text": [
      "I have a hamster.\n",
      "My hamster's name harry.\n"
     ]
    }
   ],
   "source": [
    "# 关键字实参\n",
    "def describe_pet(animal_type,pet_name):\n",
    "    print(\"I have a \" + animal_type + \".\")\n",
    "    print(\"My \" + animal_type + \"'s name \" + pet_name + \".\")\n",
    "    \n",
    "describe_pet(animal_type = \"hamster\",pet_name = 'harry')"
   ]
  },
  {
   "cell_type": "code",
   "execution_count": 21,
   "metadata": {},
   "outputs": [
    {
     "ename": "SyntaxError",
     "evalue": "non-default argument follows default argument (<ipython-input-21-89c324143eb1>, line 2)",
     "output_type": "error",
     "traceback": [
      "\u001b[0;36m  File \u001b[0;32m\"<ipython-input-21-89c324143eb1>\"\u001b[0;36m, line \u001b[0;32m2\u001b[0m\n\u001b[0;31m    def describe_pet(animal_type='dog',pet_name):\u001b[0m\n\u001b[0m                    ^\u001b[0m\n\u001b[0;31mSyntaxError\u001b[0m\u001b[0;31m:\u001b[0m non-default argument follows default argument\n"
     ]
    }
   ],
   "source": [
    "#默认值\n",
    "def describe_pet(animal_type='dog',pet_name):\n",
    "    print(\"I have a \" + animal_type + \".\")\n",
    "    print(\"My \" + animal_type + \"'s name \" + pet_name.title() + \".\")\n",
    "    \n",
    "describe_pet(pet_name='harry')"
   ]
  },
  {
   "cell_type": "code",
   "execution_count": 27,
   "metadata": {},
   "outputs": [
    {
     "name": "stdout",
     "output_type": "stream",
     "text": [
      "I have a dog.\n",
      "My dog's name is Harry.\n",
      "harry is black.\n"
     ]
    }
   ],
   "source": [
    "#默认值,首先给形参提供默认值，没有定义默认值的形参和实参要一一对应。\n",
    "def describe_pet(pet_name,color,animal_type='dog'):\n",
    "    print(\"I have a \" + animal_type + \".\")\n",
    "    print(\"My \" + animal_type + \"'s name is \" + pet_name.title() + \".\")\n",
    "    print(pet_name + \" is \" + color +\".\")\n",
    "describe_pet('harry','black')"
   ]
  },
  {
   "cell_type": "code",
   "execution_count": 8,
   "metadata": {},
   "outputs": [
    {
     "name": "stdout",
     "output_type": "stream",
     "text": [
      "I have a chiken.\n",
      "My chiken's name is Harry.\n",
      "harry is black.\n",
      "I have a chiken.\n",
      "My chiken's name is Harry.\n",
      "harry is black.\n"
     ]
    }
   ],
   "source": [
    "#默认值,首先给形参提供默认值，但是重新提供了实参\n",
    "def describe_pet(pet_name,color,animal_type='dog'):\n",
    "    print(\"I have a \" + animal_type + \".\")\n",
    "    print(\"My \" + animal_type + \"'s name is \" + pet_name.title() + \".\")\n",
    "    print(pet_name + \" is \" + color +\".\")\n",
    "describe_pet('harry','black','chiken')\n",
    "describe_pet('harry','black',animal_type='chiken')"
   ]
  },
  {
   "cell_type": "code",
   "execution_count": null,
   "metadata": {
    "collapsed": true
   },
   "outputs": [],
   "source": []
  },
  {
   "cell_type": "code",
   "execution_count": null,
   "metadata": {
    "collapsed": true
   },
   "outputs": [],
   "source": []
  }
 ],
 "metadata": {
  "kernelspec": {
   "display_name": "Python 3",
   "language": "python",
   "name": "python3"
  },
  "language_info": {
   "codemirror_mode": {
    "name": "ipython",
    "version": 3
   },
   "file_extension": ".py",
   "mimetype": "text/x-python",
   "name": "python",
   "nbconvert_exporter": "python",
   "pygments_lexer": "ipython3",
   "version": "3.6.3"
  }
 },
 "nbformat": 4,
 "nbformat_minor": 2
}
