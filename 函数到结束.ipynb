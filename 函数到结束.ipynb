{
 "cells": [
  {
   "cell_type": "markdown",
   "metadata": {},
   "source": [
    "def func(p1=v1.p2=v2....)\n",
    "        func_body\n",
    "        调用函数\n",
    "        ｆｕｎｃ(p1=value,...)\n",
    "        -不容易混淆，不容易错\n",
    "收集列表参数：       \n",
    "         func(*argu):\n",
    "         func_body\n",
    "         \n",
    "         \n",
    "          调用：\n",
    "          func(p1,p2,p3....)\n",
    "          \n",
    "            \n",
    "          -参数名argu是约定俗称的\n",
    "          －收集参数必须加*\n",
    "            print(type(argｓ)是检查列表类型，args是默认的\n",
    "       \n",
    "收集字典参数：     \n",
    "       \n",
    "       def func(**kwargs):\n",
    "            func_body\n",
    "            \n",
    "            \n",
    "         调用：关键字参数调用，访问kwargs需要用字典格式访问\n",
    "         ｆｕｎｃ(p1=v1,p2=v2,...)\n",
    "\n",
    "#收集参数混合调用的顺序问题\n",
    "－收集参数，关键字参数，普通参数可以混合调用\n",
    "－普通参数和关键字参数优先调用\n",
    "－一般是普通参数，收集参数tuple,关键字参数，收集参数dict.\n"
   ]
  },
  {
   "cell_type": "code",
   "execution_count": 3,
   "metadata": {},
   "outputs": [
    {
     "name": "stdout",
     "output_type": "stream",
     "text": [
      "Hello dajiaohao\n",
      "my name is caiixangtap,I 30 years old.\n",
      "I have no hobby.\n",
      "********************\n",
      "####################\n",
      "Hello dajiaohao\n",
      "my name is caiixangtap,I 30 years old.\n",
      "My hobby is swiming\n",
      "********************\n",
      "####################\n"
     ]
    },
    {
     "ename": "TypeError",
     "evalue": "stu() got multiple values for argument 'hobby'",
     "output_type": "error",
     "traceback": [
      "\u001b[0;31m---------------------------------------------------------------------------\u001b[0m",
      "\u001b[0;31mTypeError\u001b[0m                                 Traceback (most recent call last)",
      "\u001b[0;32m<ipython-input-3-6e529c8a1286>\u001b[0m in \u001b[0;36m<module>\u001b[0;34m()\u001b[0m\n\u001b[1;32m     28\u001b[0m \u001b[0mstu\u001b[0m\u001b[0;34m(\u001b[0m\u001b[0mname\u001b[0m\u001b[0;34m,\u001b[0m\u001b[0mage\u001b[0m\u001b[0;34m)\u001b[0m\u001b[0;34m\u001b[0m\u001b[0m\n\u001b[1;32m     29\u001b[0m \u001b[0mstu\u001b[0m\u001b[0;34m(\u001b[0m\u001b[0mname\u001b[0m\u001b[0;34m,\u001b[0m\u001b[0mage\u001b[0m\u001b[0;34m,\u001b[0m\u001b[0mhobby\u001b[0m\u001b[0;34m=\u001b[0m\u001b[0;34m'swiming'\u001b[0m\u001b[0;34m)\u001b[0m\u001b[0;34m\u001b[0m\u001b[0m\n\u001b[0;32m---> 30\u001b[0;31m \u001b[0mstu\u001b[0m\u001b[0;34m(\u001b[0m\u001b[0mname\u001b[0m\u001b[0;34m,\u001b[0m\u001b[0mage\u001b[0m\u001b[0;34m,\u001b[0m\u001b[0;34m'云淡风轻'\u001b[0m\u001b[0;34m,\u001b[0m\u001b[0;34m'哈哈哈'\u001b[0m\u001b[0;34m,\u001b[0m\u001b[0mhobby\u001b[0m\u001b[0;34m=\u001b[0m\u001b[0;34m'swiming'\u001b[0m\u001b[0;34m,\u001b[0m\u001b[0mfeature\u001b[0m\u001b[0;34m=\u001b[0m\u001b[0;34m'outgoing'\u001b[0m\u001b[0;34m,\u001b[0m\u001b[0mgender\u001b[0m\u001b[0;34m=\u001b[0m\u001b[0;34m'female'\u001b[0m\u001b[0;34m,\u001b[0m\u001b[0;34m)\u001b[0m\u001b[0;34m\u001b[0m\u001b[0m\n\u001b[0m\u001b[1;32m     31\u001b[0m \u001b[0;34m\u001b[0m\u001b[0m\n\u001b[1;32m     32\u001b[0m \u001b[0;34m\u001b[0m\u001b[0m\n",
      "\u001b[0;31mTypeError\u001b[0m: stu() got multiple values for argument 'hobby'"
     ]
    }
   ],
   "source": [
    "def stu(name,age,hobby=\"没有\",*args,**kwargs):#顺序错误\n",
    "    print(\"Hello dajiaohao\")\n",
    "    print(\"my name is {0},I {1} years old.\".format(name,age))\n",
    "    if hobby == \"没有\":\n",
    "        print(\"I have no hobby.\")\n",
    "        \n",
    "    else:\n",
    "        print(\"My hobby is {}\".format(hobby))\n",
    "        \n",
    "        \n",
    "    print(\"*\" * 20)\n",
    "    \n",
    "    \n",
    "    for i in args:\n",
    "        print(i)\n",
    "        \n",
    "    print(\"#\"*20)\n",
    "    \n",
    "    \n",
    "    for k,v in kwargs.items():\n",
    "        print(k,\"...\",v)\n",
    "        \n",
    "        \n",
    "#call function\n",
    "name = \"caiixangtap\"\n",
    "age = '30'\n",
    "#different gormat function \n",
    "stu(name,age)\n",
    "stu(name,age,hobby='swiming')\n",
    "stu(name,age,'云淡风轻','哈哈哈',hobby='swiming',feature='outgoing',gender='female',)\n",
    "    \n",
    "    "
   ]
  },
  {
   "cell_type": "code",
   "execution_count": 4,
   "metadata": {},
   "outputs": [
    {
     "name": "stdout",
     "output_type": "stream",
     "text": [
      "Hello dajiaohao\n",
      "my name is caiixangtap,I 30 years old.\n",
      "I have no hobby.\n",
      "********************\n",
      "####################\n",
      "Hello dajiaohao\n",
      "my name is caiixangtap,I 30 years old.\n",
      "My hobby is swiming\n",
      "********************\n",
      "####################\n",
      "Hello dajiaohao\n",
      "my name is caiixangtap,I 30 years old.\n",
      "My hobby is swiming\n",
      "********************\n",
      "云淡风轻\n",
      "哈哈哈\n",
      "####################\n",
      "feature ... outgoing\n",
      "gender ... female\n"
     ]
    }
   ],
   "source": [
    "def stu(name,age,*args,hobby=\"没有\",**kwargs):#顺序错误\n",
    "    print(\"Hello dajiaohao\")\n",
    "    print(\"my name is {0},I {1} years old.\".format(name,age))\n",
    "    if hobby == \"没有\":\n",
    "        print(\"I have no hobby.\")\n",
    "        \n",
    "    else:\n",
    "        print(\"My hobby is {}\".format(hobby))\n",
    "        \n",
    "        \n",
    "    print(\"*\" * 20)\n",
    "    \n",
    "    \n",
    "    for i in args:\n",
    "        print(i)\n",
    "        \n",
    "    print(\"#\"*20)\n",
    "    \n",
    "    \n",
    "    for k,v in kwargs.items():\n",
    "        print(k,\"...\",v)\n",
    "        \n",
    "        \n",
    "#call function\n",
    "name = \"caiixangtap\"\n",
    "age = '30'\n",
    "#different gormat function \n",
    "stu(name,age)\n",
    "stu(name,age,hobby='swiming')\n",
    "stu(name,age,'云淡风轻','哈哈哈',hobby='swiming',feature='outgoing',gender='female',)\n",
    "    "
   ]
  },
  {
   "cell_type": "code",
   "execution_count": null,
   "metadata": {
    "collapsed": true
   },
   "outputs": [],
   "source": [
    "#收集参数的解包问题\n",
    "#-把参数放到list或者dict中，直接把list和dict放入收集参数中\n",
    "#此时需要解包，解包列表用(*列表名），解包字典用（**字典名）"
   ]
  },
  {
   "cell_type": "markdown",
   "metadata": {},
   "source": [
    "#函数变量的作用域\n",
    "    #分类\n",
    "        #全局变量（global):全局范围内有用\n",
    "        \n",
    "        #局部变量（ｌｏｃａｌ）：局部有用\n",
    "    #ＬＥＧＢ原则\n",
    "    -local\n",
    "    -enclosing function locale\n",
    "    -global module\n",
    "    -buidin\n",
    "    \n",
    "    案例如下\n",
    " "
   ]
  },
  {
   "cell_type": "code",
   "execution_count": 6,
   "metadata": {},
   "outputs": [
    {
     "name": "stdout",
     "output_type": "stream",
     "text": [
      "99\n",
      "********************\n",
      "99\n",
      "100\n"
     ]
    }
   ],
   "source": [
    "a1=99\n",
    "def func():\n",
    "    print(a1)\n",
    "    a2=100\n",
    "    print(a2)\n",
    "print(a1)\n",
    "print(\"*\"*20)\n",
    "func()\n",
    "#print(a2)a2是内部变量，不能外部调用"
   ]
  },
  {
   "cell_type": "code",
   "execution_count": 9,
   "metadata": {},
   "outputs": [
    {
     "name": "stdout",
     "output_type": "stream",
     "text": [
      "0\n",
      "111\n",
      "I am 111\n",
      "111\n"
     ]
    }
   ],
   "source": [
    "#函数内加了global之后，最后值变了\n",
    "b1=0\n",
    "def fun():\n",
    "    global b1\n",
    "    b1 = 111\n",
    "    print(b1)\n",
    "    print(\"I am \" + str(b1))\n",
    "print(b1)#没有经过更改的全局变量值\n",
    "fun()\n",
    "print(b1)#经过函数体内修改了全局变量的值"
   ]
  },
  {
   "cell_type": "code",
   "execution_count": 10,
   "metadata": {},
   "outputs": [
    {
     "name": "stdout",
     "output_type": "stream",
     "text": [
      "0\n",
      "111\n",
      "I am 111\n",
      "0\n"
     ]
    }
   ],
   "source": [
    "#函数内没有加global之前，最后值还是０\n",
    "b1=0\n",
    "def fun():\n",
    "   \n",
    "    b1 = 111\n",
    "    print(b1)\n",
    "    print(\"I am \" + str(b1))\n",
    "print(b1)#没有经过更改的全局变量值\n",
    "fun()\n",
    "print(b1)"
   ]
  },
  {
   "cell_type": "code",
   "execution_count": 7,
   "metadata": {},
   "outputs": [],
   "source": [
    "x = 0\n",
    "\n",
    "def fun():\n",
    "    global x\n",
    "    x += 1\n",
    "    print(x)\n",
    "    fun()\n"
   ]
  },
  {
   "cell_type": "code",
   "execution_count": 6,
   "metadata": {},
   "outputs": [
    {
     "name": "stdout",
     "output_type": "stream",
     "text": [
      "初始num1= 1\n",
      "乘法的运行结果： 2\n"
     ]
    },
    {
     "ename": "NameError",
     "evalue": "name 'y' is not defined",
     "output_type": "error",
     "traceback": [
      "\u001b[0;31m---------------------------------------------------------------------------\u001b[0m",
      "\u001b[0;31mNameError\u001b[0m                                 Traceback (most recent call last)",
      "\u001b[0;32m<ipython-input-6-fc21d1f8ee75>\u001b[0m in \u001b[0;36m<module>\u001b[0;34m()\u001b[0m\n\u001b[1;32m      7\u001b[0m \u001b[0mprint\u001b[0m\u001b[0;34m(\u001b[0m\u001b[0;34m\"初始num1=\"\u001b[0m\u001b[0;34m,\u001b[0m\u001b[0mnum1\u001b[0m\u001b[0;34m)\u001b[0m\u001b[0;34m\u001b[0m\u001b[0m\n\u001b[1;32m      8\u001b[0m \u001b[0mfun\u001b[0m\u001b[0;34m(\u001b[0m\u001b[0mnum1\u001b[0m\u001b[0;34m)\u001b[0m\u001b[0;34m\u001b[0m\u001b[0m\n\u001b[0;32m----> 9\u001b[0;31m \u001b[0mprint\u001b[0m\u001b[0;34m(\u001b[0m\u001b[0;34m\"y的值是：\"\u001b[0m\u001b[0;34m,\u001b[0m\u001b[0my\u001b[0m\u001b[0;34m)\u001b[0m\u001b[0;31m#报错的原因是因为试图访问局部变量，但是访问的地方不在该变量y的作用域中\u001b[0m\u001b[0;34m\u001b[0m\u001b[0m\n\u001b[0m",
      "\u001b[0;31mNameError\u001b[0m: name 'y' is not defined"
     ]
    }
   ],
   "source": [
    "def fun(x):\n",
    "    y = 2\n",
    "    print(\"乘法的运行结果：\",x*y)\n",
    "    \n",
    "    \n",
    "num1 = 1\n",
    "print(\"初始num1=\",num1)\n",
    "fun(num1)\n",
    "print(\"y的值是：\",y)#报错的原因是因为试图访问局部变量，但是访问的地方不在该变量y的作用域中"
   ]
  },
  {
   "cell_type": "code",
   "execution_count": 13,
   "metadata": {},
   "outputs": [
    {
     "name": "stdout",
     "output_type": "stream",
     "text": [
      "2\n",
      "5\n",
      "13\n",
      "34\n"
     ]
    }
   ],
   "source": [
    "#斐波那契数列\n",
    "#一列数字第一个数字是１，第二个也是１，从第三个开始，每一个数字的值等于前两个数字出现值的\n",
    "#和.公式：f(n)=f(n-1)+f(n-2).\n",
    "#下面求斐波那契数列函数的值,这是ｎ是正数的情况。\n",
    "def fib(n):\n",
    "    if n == 1:\n",
    "        return 1\n",
    "    if n == 2:\n",
    "        return 1\n",
    "    #思考为什么没有用ｅｌｓｅ?????\n",
    "    return fib(n-1) + fib(n-2)\n",
    "\n",
    "print(fib(3))\n",
    "print(fib(5))\n",
    "print(fib(7))\n",
    "print(fib(9))\n",
    "    \n",
    "    \n",
    "    "
   ]
  },
  {
   "cell_type": "code",
   "execution_count": null,
   "metadata": {
    "collapsed": true
   },
   "outputs": [],
   "source": [
    "#下面求斐波那契数列函数的值,这是ｎ是负数的情况???????\n",
    "def fib(n):\n",
    "    if n == 1:\n",
    "        return 1\n",
    "    if n == 2:\n",
    "        return 1\n",
    "    #思考为什么没有用ｅｌｓｅ?\n",
    "    return fib(n+2) - fib(n+1)\n",
    "\n",
    "print(fib(3))\n",
    "print(fib(5))\n",
    "print(fib(7))\n",
    "print(fib(9))"
   ]
  },
  {
   "cell_type": "code",
   "execution_count": 17,
   "metadata": {},
   "outputs": [
    {
     "name": "stdout",
     "output_type": "stream",
     "text": [
      "<class 'list'>\n",
      "[]\n",
      "<class 'list'>\n"
     ]
    }
   ],
   "source": [
    "l1 = []\n",
    "#type是内置函数，负责打印变量的类型\n",
    "print(type(l1)) \n",
    "l4 = list()\n",
    "print(l4)\n",
    "print(type(l4))"
   ]
  },
  {
   "cell_type": "markdown",
   "metadata": {},
   "source": [
    "#列表的操作\n",
    "    #访问\n",
    "    使用下标\n",
    "    列表的位置是从０或者 -１ 开始\n",
    "    ＃切片，形成了一个新的列表\n",
    "    对一段的截取【：】，一定是含左不含you\n",
    "    切片可以控制增长的幅度，默认幅度是１，更改步长含左不含又"
   ]
  },
  {
   "cell_type": "code",
   "execution_count": 16,
   "metadata": {},
   "outputs": [
    {
     "name": "stdout",
     "output_type": "stream",
     "text": [
      "3\n",
      "1\n",
      "[4, 7]\n",
      "[1, 2, 4, 7, 3, 9, 12]\n",
      "[7, 3, 9, 12]\n",
      "[1, 2, 4]\n",
      "[2, 4, 7, 3, 9]\n",
      "[2, 7, 9]\n",
      "[4, 7, 3, 9, 12]\n",
      "[4, 7, 3, 9, 12]\n",
      "[]\n",
      "[9, 3]\n",
      "[7, 3]\n"
     ]
    }
   ],
   "source": [
    "l = [1,2,4,7,3,9,12]\n",
    "print(l[4])\n",
    "print(l[0])#正着下标从０开始\n",
    "print(l[2:4])\n",
    "print(l[:])#全部切片\n",
    "print(l[3:])#截取３之后的，包括３位置的\n",
    "print(l[:3])#截取３之前，不包括３位置的\n",
    "print(l[1:6:1])#步长为１\n",
    "print(l[1:6:2])#步长为２\n",
    "print(l[2:10])#下标可以超出范围\n",
    "print(l[-5:])#倒着计数，从－１开始\n",
    "print(l[-2:-4])#******这是不对的，左边的值小于右边的值\n",
    "print(l[-2:-4:-1])#但是加上负数步长就可以了，结果导致输出，但是列表颠倒了\n",
    "print(l[-4:-2])"
   ]
  },
  {
   "cell_type": "code",
   "execution_count": 25,
   "metadata": {},
   "outputs": [
    {
     "name": "stdout",
     "output_type": "stream",
     "text": [
      "94158957160768\n",
      "94158957163968\n",
      "94158957160768\n",
      "140155927770928\n",
      "94158957160768\n",
      "100\n",
      "300\n"
     ]
    }
   ],
   "source": [
    "#内置函数ｉｄ\n",
    "#负责显示一个变量或者数据的唯一代码编号\n",
    "a = 100\n",
    "b = 200\n",
    "print(id(a))\n",
    "print(id(b))\n",
    "c = a\n",
    "print(id(c))\n",
    "a = 300#理论上ａ和c指向的同一代码，更该a之后，c也应该更改，此处为什么ｃ没有变？？？？\n",
    "print(id(a))\n",
    "print(id(c))\n",
    "print(c)\n",
    "print(a)"
   ]
  },
  {
   "cell_type": "code",
   "execution_count": 24,
   "metadata": {},
   "outputs": [
    {
     "name": "stdout",
     "output_type": "stream",
     "text": [
      "140155926904968\n",
      "140155926905672\n",
      "140155926905672\n",
      "[5, 56, 89, 4, 8, 3, 7, 9]\n",
      "[5, 56, 89, 4, 8, 3, 7, 9]\n",
      "[5, 56, 89, 4, 8, 3, 7, 9]\n",
      "140155926904968\n",
      "140155926905672\n",
      "140155926905672\n",
      "[5, 56, 555, 4, 8, 3, 7, 9]\n",
      "[5, 56, 89, 4, 8, 3, 7, 9]\n",
      "[5, 56, 89, 4, 8, 3, 7, 9]\n",
      "140155926904968\n",
      "140155926905672\n",
      "140155926905672\n",
      "[5, 56, 555, 4, 8, 3, 7, 9]\n",
      "[5, 56, 555, 4, 8, 3, 7, 9]\n",
      "[5, 56, 555, 4, 8, 3, 7, 9]\n"
     ]
    }
   ],
   "source": [
    "#通过id判断切片是重新生成的一组数据还是同一份数据\n",
    "l = [5,56,89,4,8,3,7,9]\n",
    "ll = l[:]\n",
    "lll = ll\n",
    "print(id(l))\n",
    "print(id(ll))\n",
    "print(id(lll))\n",
    "print(l)\n",
    "print(ll)\n",
    "print(lll)\n",
    "#更改ｌ看变化,说明ll是新的数据。\n",
    "l[2] = 555\n",
    "print(id(l))\n",
    "print(id(ll))\n",
    "print(id(lll))\n",
    "print(l)\n",
    "print(ll)\n",
    "print(lll)\n",
    "#更改ｌｌ看变化，为什么lll跟着ll改变。。。？？？？\n",
    "ll[2] = 555\n",
    "print(id(l))\n",
    "print(id(ll))\n",
    "print(id(lll))\n",
    "print(l)\n",
    "print(ll)\n",
    "print(lll)"
   ]
  },
  {
   "cell_type": "code",
   "execution_count": 28,
   "metadata": {},
   "outputs": [
    {
     "data": {
      "text/plain": [
       "'sha1:ce4134f1b042:b671f15f6d48281cb49277f6f99107cb0468a303'"
      ]
     },
     "execution_count": 28,
     "metadata": {},
     "output_type": "execute_result"
    }
   ],
   "source": [
    "from notebook.auth import passwd\n",
    "passwd('19880603cxt')"
   ]
  },
  {
   "cell_type": "code",
   "execution_count": null,
   "metadata": {
    "collapsed": true
   },
   "outputs": [],
   "source": []
  }
 ],
 "metadata": {
  "kernelspec": {
   "display_name": "Python 3",
   "language": "python",
   "name": "python3"
  },
  "language_info": {
   "codemirror_mode": {
    "name": "ipython",
    "version": 3
   },
   "file_extension": ".py",
   "mimetype": "text/x-python",
   "name": "python",
   "nbconvert_exporter": "python",
   "pygments_lexer": "ipython3",
   "version": "3.6.3"
  }
 },
 "nbformat": 4,
 "nbformat_minor": 2
}
